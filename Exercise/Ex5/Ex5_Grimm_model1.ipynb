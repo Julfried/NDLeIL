{
 "cells": [
  {
   "cell_type": "markdown",
   "metadata": {
    "id": "p0E7-TSOOt6z"
   },
   "source": [
    "# Recurrent Neural Networks - IMDB Movie Reviews"
   ]
  },
  {
   "cell_type": "markdown",
   "metadata": {
    "id": "kypBWFK0Ot64"
   },
   "source": [
    "Based on https://www.tensorflow.org/tutorials/keras/text_classification and https://machinelearningmastery.com/sequence-classification-lstm-recurrent-neural-networks-python-keras/.\n",
    "This notebook loads labeled IMDB review data with the aim to classify sentiment (positive/negative). The original data set is available from http://ai.stanford.edu/~amaas/data/sentiment/."
   ]
  },
  {
   "cell_type": "markdown",
   "metadata": {
    "id": "egSFv30VOt65"
   },
   "source": [
    "## Preparations"
   ]
  },
  {
   "cell_type": "code",
   "execution_count": 10,
   "metadata": {
    "executionInfo": {
     "elapsed": 328,
     "status": "ok",
     "timestamp": 1726135177381,
     "user": {
      "displayName": "Ulrich Bodenhofer",
      "userId": "07009582510819085803"
     },
     "user_tz": -120
    },
    "id": "2hn7YP4Vi3Tl"
   },
   "outputs": [],
   "source": [
    "import os\n",
    "\n",
    "## adapt this directories to your needs\n",
    "base_dir = '../../'\n",
    "data_dir_base = os.path.join(base_dir, \"DataSets\")\n",
    "# data_dir_base = r\"D:\\Users\\Julian\\OneDrive - FH OOe\\Kurse\\3. Semester\\NDLeIL\\Datasets\"\n",
    "notebook_dir = os.path.join(base_dir, 'Exercise')\n",
    "data_dir = os.path.join(data_dir_base, 'IMDB_processed')"
   ]
  },
  {
   "cell_type": "code",
   "execution_count": 11,
   "metadata": {},
   "outputs": [
    {
     "name": "stdout",
     "output_type": "stream",
     "text": [
      "Hit:1 http://security.ubuntu.com/ubuntu jammy-security InRelease\n",
      "Hit:2 http://archive.ubuntu.com/ubuntu jammy InRelease\n",
      "Hit:3 http://archive.ubuntu.com/ubuntu jammy-updates InRelease\n",
      "Hit:4 http://archive.ubuntu.com/ubuntu jammy-backports InRelease\n",
      "Hit:5 https://developer.download.nvidia.com/compute/cuda/repos/ubuntu2204/x86_64  InRelease\n",
      "Reading package lists... Done\u001b[33m\u001b[33m\u001b[33m\n",
      "Building dependency tree... Done\n",
      "Reading state information... Done\n",
      "5 packages can be upgraded. Run 'apt list --upgradable' to see them.\n",
      "Reading package lists... Done\n",
      "Building dependency tree... Done\n",
      "Reading state information... Done\n",
      "libgl1-mesa-glx is already the newest version (23.0.4-0ubuntu1~22.04.1).\n",
      "0 upgraded, 0 newly installed, 0 to remove and 5 not upgraded.\n",
      "Collecting git+https://github.com/UBod/pyMLaux.git\n",
      "  Cloning https://github.com/UBod/pyMLaux.git to /tmp/pip-req-build-3immdtnl\n",
      "  Running command git clone --filter=blob:none --quiet https://github.com/UBod/pyMLaux.git /tmp/pip-req-build-3immdtnl\n",
      "  Resolved https://github.com/UBod/pyMLaux.git to commit 58c39ee9a969c5c6cda9d5ad397a770234578405\n",
      "  Preparing metadata (setup.py) ... \u001b[?25ldone\n",
      "\u001b[?25hRequirement already satisfied: numpy in /opt/conda/lib/python3.11/site-packages (from pyMLaux==0.0.11) (1.26.4)\n",
      "Requirement already satisfied: pandas in /opt/conda/lib/python3.11/site-packages (from pyMLaux==0.0.11) (2.2.3)\n",
      "Requirement already satisfied: scikit-learn in /opt/conda/lib/python3.11/site-packages (from pyMLaux==0.0.11) (1.5.2)\n",
      "Requirement already satisfied: matplotlib in /opt/conda/lib/python3.11/site-packages (from pyMLaux==0.0.11) (3.9.2)\n",
      "Requirement already satisfied: opencv-python in /opt/conda/lib/python3.11/site-packages (from pyMLaux==0.0.11) (4.10.0.84)\n",
      "Requirement already satisfied: contourpy>=1.0.1 in /opt/conda/lib/python3.11/site-packages (from matplotlib->pyMLaux==0.0.11) (1.3.0)\n",
      "Requirement already satisfied: cycler>=0.10 in /opt/conda/lib/python3.11/site-packages (from matplotlib->pyMLaux==0.0.11) (0.12.1)\n",
      "Requirement already satisfied: fonttools>=4.22.0 in /opt/conda/lib/python3.11/site-packages (from matplotlib->pyMLaux==0.0.11) (4.54.1)\n",
      "Requirement already satisfied: kiwisolver>=1.3.1 in /opt/conda/lib/python3.11/site-packages (from matplotlib->pyMLaux==0.0.11) (1.4.7)\n",
      "Requirement already satisfied: packaging>=20.0 in /opt/conda/lib/python3.11/site-packages (from matplotlib->pyMLaux==0.0.11) (24.1)\n",
      "Requirement already satisfied: pillow>=8 in /opt/conda/lib/python3.11/site-packages (from matplotlib->pyMLaux==0.0.11) (10.4.0)\n",
      "Requirement already satisfied: pyparsing>=2.3.1 in /opt/conda/lib/python3.11/site-packages (from matplotlib->pyMLaux==0.0.11) (3.2.0)\n",
      "Requirement already satisfied: python-dateutil>=2.7 in /opt/conda/lib/python3.11/site-packages (from matplotlib->pyMLaux==0.0.11) (2.9.0)\n",
      "Requirement already satisfied: pytz>=2020.1 in /opt/conda/lib/python3.11/site-packages (from pandas->pyMLaux==0.0.11) (2023.3)\n",
      "Requirement already satisfied: tzdata>=2022.7 in /opt/conda/lib/python3.11/site-packages (from pandas->pyMLaux==0.0.11) (2024.2)\n",
      "Requirement already satisfied: scipy>=1.6.0 in /opt/conda/lib/python3.11/site-packages (from scikit-learn->pyMLaux==0.0.11) (1.14.1)\n",
      "Requirement already satisfied: joblib>=1.2.0 in /opt/conda/lib/python3.11/site-packages (from scikit-learn->pyMLaux==0.0.11) (1.4.2)\n",
      "Requirement already satisfied: threadpoolctl>=3.1.0 in /opt/conda/lib/python3.11/site-packages (from scikit-learn->pyMLaux==0.0.11) (3.5.0)\n",
      "Requirement already satisfied: six>=1.5 in /opt/conda/lib/python3.11/site-packages (from python-dateutil>=2.7->matplotlib->pyMLaux==0.0.11) (1.16.0)\n"
     ]
    }
   ],
   "source": [
    "!sudo apt update -y\n",
    "!sudo apt install libgl1-mesa-glx -y\n",
    "!pip install git+https://github.com/UBod/pyMLaux.git"
   ]
  },
  {
   "cell_type": "code",
   "execution_count": 12,
   "metadata": {
    "executionInfo": {
     "elapsed": 16057,
     "status": "ok",
     "timestamp": 1726135206332,
     "user": {
      "displayName": "Ulrich Bodenhofer",
      "userId": "07009582510819085803"
     },
     "user_tz": -120
    },
    "id": "qbZ_Eds_Ot65"
   },
   "outputs": [],
   "source": [
    "import os\n",
    "import re\n",
    "import string\n",
    "\n",
    "import numpy as np\n",
    "import pandas as pd\n",
    "import tensorflow as tf\n",
    "\n",
    "from pyMLaux import plot_history, evaluate_classification_result"
   ]
  },
  {
   "cell_type": "code",
   "execution_count": 13,
   "metadata": {
    "executionInfo": {
     "elapsed": 319,
     "status": "ok",
     "timestamp": 1726135227089,
     "user": {
      "displayName": "Ulrich Bodenhofer",
      "userId": "07009582510819085803"
     },
     "user_tz": -120
    },
    "id": "92d8pcGli4xf"
   },
   "outputs": [],
   "source": [
    "train_data_dir = os.path.join(data_dir, 'aclImdb/train')\n",
    "test_data_dir = os.path.join(data_dir, 'aclImdb/test')"
   ]
  },
  {
   "cell_type": "markdown",
   "metadata": {
    "id": "1v6FIRPJjK6D"
   },
   "source": [
    "## Configure Data Sources"
   ]
  },
  {
   "cell_type": "code",
   "execution_count": 14,
   "metadata": {
    "colab": {
     "base_uri": "https://localhost:8080/"
    },
    "executionInfo": {
     "elapsed": 6974,
     "status": "ok",
     "timestamp": 1726135236638,
     "user": {
      "displayName": "Ulrich Bodenhofer",
      "userId": "07009582510819085803"
     },
     "user_tz": -120
    },
    "id": "ioom-qlUjUhs",
    "outputId": "db110afd-dad6-4e02-bf77-999393573bfa"
   },
   "outputs": [
    {
     "name": "stdout",
     "output_type": "stream",
     "text": [
      "Found 25000 files belonging to 2 classes.\n",
      "Using 21250 files for training.\n",
      "Found 25000 files belonging to 2 classes.\n",
      "Using 3750 files for validation.\n",
      "Found 25000 files belonging to 2 classes.\n"
     ]
    }
   ],
   "source": [
    "batch_size = 64\n",
    "\n",
    "train_data_raw = tf.keras.utils.text_dataset_from_directory(\n",
    "    train_data_dir,\n",
    "    batch_size=batch_size,\n",
    "    validation_split=0.15,\n",
    "    subset='training',\n",
    "    seed=4232)\n",
    "\n",
    "validation_data_raw = tf.keras.utils.text_dataset_from_directory(\n",
    "    train_data_dir,\n",
    "    batch_size=batch_size,\n",
    "    validation_split=0.15,\n",
    "    subset='validation',\n",
    "    seed=4232)\n",
    "\n",
    "test_data_raw = tf.keras.utils.text_dataset_from_directory(\n",
    "    test_data_dir,\n",
    "    batch_size=batch_size,\n",
    "    shuffle=False)"
   ]
  },
  {
   "cell_type": "code",
   "execution_count": 15,
   "metadata": {
    "colab": {
     "base_uri": "https://localhost:8080/"
    },
    "executionInfo": {
     "elapsed": 4,
     "status": "ok",
     "timestamp": 1726135252203,
     "user": {
      "displayName": "Ulrich Bodenhofer",
      "userId": "07009582510819085803"
     },
     "user_tz": -120
    },
    "id": "lwwb8aL3j0AF",
    "outputId": "30ff3795-040a-4b25-d108-c73c21bb9e8a"
   },
   "outputs": [
    {
     "name": "stdout",
     "output_type": "stream",
     "text": [
      "Review:\n",
      " b\"I usually enjoy Loretta Young's early movies: her acting back then was light and breezy, and she sure knew how to wear clothes. But this one is just a loser from the word go except for a funny supporting turn by Glenda Farrell. Young is a hatcheck girl who talks her writer-husband (Paul Lukas) into becoming a championship bridge player. It's not the most cinematic of games, and the long, talky middle part in which their marriage falls apart just about kills the film.<br /><br />There's one interesting bit though. As Lukas and Ferdinand Gottschalk start their climactic game, a series of quick shots show airplanes, trains, football games, even a diver in mid-air, freezing in anticipation of the event. It's the earliest use of a freeze frame I've seen in an American film. Wish the rest of it were that inventive-and funny.\" \n",
      "Label: neg \n",
      "\n",
      "Review:\n",
      " b'Its too bad a lot of people didn\\'t understand this and the next episode.<br /><br />But don\\'t worry! ill explain it too you :)<br /><br />This episode is split in 2 parts.<br /><br />first part is Tony\\'s \"Dream\" in his coma. Second part is what happens in real life.<br /><br />now what people didn\\'t understand is that Tony\\'s dream is more then just a dream. in this episode its about his preparation for his Death. He loses his own identity and eventually even forgets himself, thus he disconnects all his bindings with this world. You will notice what I\\'m saying at the doctor scene, where tony says he has lost his briefcase which contains \"his life\". They makers really did a superb job of interpreting they\\'re own thoughts of what happens when you die. <br /><br />If you understand the whole plot you will find this and the next episode an unique thing, with great spiritual meanings.<br /><br />Like every sopranos episode the acting and filming is superb. <br /><br />Only thing i didn\\'t understand was what the role where of the monks. gonna re watch it till i get this.<br /><br />anyways this episode really touched me, and i don\\'t think anyone else can make a better view of what happens in a almost death experience.<br /><br />10/10 no doubt.' \n",
      "Label: pos \n",
      "\n",
      "Review:\n",
      " b\"As I watched this movie, and I began to see its' characters develop I could feel this would be an excellent picture. When you get that feeling, and the movie indeed fills those expectations the experience is rare. I had that very feeling throughout this movie. Robert DeNiro and Cuba Gooding Junior played riveting and amazingly strong parts which were both Oscar worthy. The supporting cast was equally as strong creating a winning foundation for the picture to grow on. I can say without any hesitation at all, see this movie it will not disappoint.\" \n",
      "Label: pos \n",
      "\n"
     ]
    }
   ],
   "source": [
    "for text_batch, label_batch in train_data_raw:\n",
    "    for i in range(3):\n",
    "        print('Review:\\n', str(text_batch.numpy()[i]),\n",
    "              '\\nLabel:',  train_data_raw.class_names[label_batch.numpy()[i]], '\\n')\n",
    "    break"
   ]
  },
  {
   "cell_type": "code",
   "execution_count": 16,
   "metadata": {
    "executionInfo": {
     "elapsed": 292,
     "status": "ok",
     "timestamp": 1726135257225,
     "user": {
      "displayName": "Ulrich Bodenhofer",
      "userId": "07009582510819085803"
     },
     "user_tz": -120
    },
    "id": "BxuBcx6Ik21D"
   },
   "outputs": [],
   "source": [
    "## function for removing HTML tags like <br />\n",
    "def custom_standardization(input_data):\n",
    "    lowercase = tf.strings.lower(input_data)\n",
    "    stripped_html = tf.strings.regex_replace(lowercase, '<br />', ' ')\n",
    "    return tf.strings.regex_replace(stripped_html,\n",
    "                                    '[%s]' % re.escape(string.punctuation),\n",
    "                                    '')"
   ]
  },
  {
   "cell_type": "code",
   "execution_count": 17,
   "metadata": {
    "executionInfo": {
     "elapsed": 324,
     "status": "ok",
     "timestamp": 1726135260618,
     "user": {
      "displayName": "Ulrich Bodenhofer",
      "userId": "07009582510819085803"
     },
     "user_tz": -120
    },
    "id": "7nIk1b2nlEGE"
   },
   "outputs": [],
   "source": [
    "max_features = 10000 ## size of vocabulary\n",
    "sequence_length = 250 ## standardized length of text sequences\n",
    "\n",
    "vectorize_layer = tf.keras.layers.TextVectorization(\n",
    "    standardize=custom_standardization,\n",
    "    max_tokens=max_features,\n",
    "    output_mode='int',\n",
    "    output_sequence_length=sequence_length)"
   ]
  },
  {
   "cell_type": "code",
   "execution_count": 18,
   "metadata": {
    "executionInfo": {
     "elapsed": 5577,
     "status": "ok",
     "timestamp": 1726135269360,
     "user": {
      "displayName": "Ulrich Bodenhofer",
      "userId": "07009582510819085803"
     },
     "user_tz": -120
    },
    "id": "N2Yz6fCdlgVa"
   },
   "outputs": [
    {
     "name": "stderr",
     "output_type": "stream",
     "text": [
      "2024-12-18 23:09:24.515623: I tensorflow/core/framework/local_rendezvous.cc:404] Local rendezvous is aborting with status: OUT_OF_RANGE: End of sequence\n"
     ]
    }
   ],
   "source": [
    "# Make a text-only dataset (without labels), then call adapt\n",
    "train_text = train_data_raw.map(lambda x, y: x)\n",
    "vectorize_layer.adapt(train_text)"
   ]
  },
  {
   "cell_type": "code",
   "execution_count": 19,
   "metadata": {
    "colab": {
     "base_uri": "https://localhost:8080/"
    },
    "executionInfo": {
     "elapsed": 297,
     "status": "ok",
     "timestamp": 1726135271585,
     "user": {
      "displayName": "Ulrich Bodenhofer",
      "userId": "07009582510819085803"
     },
     "user_tz": -120
    },
    "id": "eCEgvEs8Ot69",
    "outputId": "8e2ba76e-d28e-4a26-fcbe-892227956e57"
   },
   "outputs": [
    {
     "name": "stdout",
     "output_type": "stream",
     "text": [
      " 123 ->  end\n",
      "4232 ->  lyrics\n",
      "Vocabulary size: 10000\n"
     ]
    }
   ],
   "source": [
    "print(' 123 -> ', vectorize_layer.get_vocabulary()[123])\n",
    "print('4232 -> ', vectorize_layer.get_vocabulary()[4232])\n",
    "print('Vocabulary size: {}'.format(len(vectorize_layer.get_vocabulary())))"
   ]
  },
  {
   "cell_type": "code",
   "execution_count": 20,
   "metadata": {
    "executionInfo": {
     "elapsed": 274,
     "status": "ok",
     "timestamp": 1726135275107,
     "user": {
      "displayName": "Ulrich Bodenhofer",
      "userId": "07009582510819085803"
     },
     "user_tz": -120
    },
    "id": "4Bz127CxmxvI"
   },
   "outputs": [],
   "source": [
    "def vectorize_text(text, label):\n",
    "    text = tf.expand_dims(text, -1)\n",
    "    return vectorize_layer(text), label"
   ]
  },
  {
   "cell_type": "code",
   "execution_count": 21,
   "metadata": {
    "executionInfo": {
     "elapsed": 305,
     "status": "ok",
     "timestamp": 1726135277975,
     "user": {
      "displayName": "Ulrich Bodenhofer",
      "userId": "07009582510819085803"
     },
     "user_tz": -120
    },
    "id": "MLIvkSNEmZFi"
   },
   "outputs": [],
   "source": [
    "train_data = train_data_raw.map(vectorize_text)\n",
    "validation_data = validation_data_raw.map(vectorize_text)\n",
    "test_data = test_data_raw.map(vectorize_text)"
   ]
  },
  {
   "cell_type": "markdown",
   "metadata": {
    "id": "M7m0aDeIOt6-"
   },
   "source": [
    "## Create Model"
   ]
  },
  {
   "cell_type": "code",
   "execution_count": 41,
   "metadata": {
    "executionInfo": {
     "elapsed": 290,
     "status": "ok",
     "timestamp": 1726135282984,
     "user": {
      "displayName": "Ulrich Bodenhofer",
      "userId": "07009582510819085803"
     },
     "user_tz": -120
    },
    "id": "wMntwv00Ot6-"
   },
   "outputs": [],
   "source": [
    "embedding_vector_length = 32\n",
    "epochs = 20"
   ]
  },
  {
   "cell_type": "markdown",
   "metadata": {},
   "source": [
    "### Changes Compared to model from Lecture:\n",
    "* Add DropoutLayers with (0.4) after Embedding and LSTM Layer to reduce overfitting\n",
    "* Add kernel regularization to LSTM Layer"
   ]
  },
  {
   "cell_type": "code",
   "execution_count": 42,
   "metadata": {
    "executionInfo": {
     "elapsed": 285,
     "status": "ok",
     "timestamp": 1726135289220,
     "user": {
      "displayName": "Ulrich Bodenhofer",
      "userId": "07009582510819085803"
     },
     "user_tz": -120
    },
    "id": "GJjdigvkOt6-"
   },
   "outputs": [],
   "source": [
    "model = tf.keras.models.Sequential([\n",
    "    tf.keras.layers.Input(shape=(1, )),\n",
    "    tf.keras.layers.Embedding(input_dim=max_features, output_dim=embedding_vector_length),\n",
    "    tf.keras.layers.Dropout(0.4),\n",
    "    tf.keras.layers.LSTM(64, kernel_regularizer=tf.keras.regularizers.l2(0.01)),\n",
    "    tf.keras.layers.Dropout(0.4),\n",
    "    tf.keras.layers.Dense(1, activation='sigmoid')\n",
    "])\n",
    "\n",
    "model.compile(optimizer='adam',\n",
    "              loss='binary_crossentropy',\n",
    "              metrics=['accuracy'])"
   ]
  },
  {
   "cell_type": "code",
   "execution_count": 43,
   "metadata": {
    "colab": {
     "base_uri": "https://localhost:8080/",
     "height": 225
    },
    "executionInfo": {
     "elapsed": 287,
     "status": "ok",
     "timestamp": 1726135292029,
     "user": {
      "displayName": "Ulrich Bodenhofer",
      "userId": "07009582510819085803"
     },
     "user_tz": -120
    },
    "id": "GmQ5BQc3Ot6_",
    "outputId": "e04fced5-2f2c-4a24-80c2-8edc4bd4c2f0",
    "scrolled": true
   },
   "outputs": [
    {
     "data": {
      "text/html": [
       "<pre style=\"white-space:pre;overflow-x:auto;line-height:normal;font-family:Menlo,'DejaVu Sans Mono',consolas,'Courier New',monospace\"><span style=\"font-weight: bold\">Model: \"sequential_2\"</span>\n",
       "</pre>\n"
      ],
      "text/plain": [
       "\u001b[1mModel: \"sequential_2\"\u001b[0m\n"
      ]
     },
     "metadata": {},
     "output_type": "display_data"
    },
    {
     "data": {
      "text/html": [
       "<pre style=\"white-space:pre;overflow-x:auto;line-height:normal;font-family:Menlo,'DejaVu Sans Mono',consolas,'Courier New',monospace\">┏━━━━━━━━━━━━━━━━━━━━━━━━━━━━━━━━━┳━━━━━━━━━━━━━━━━━━━━━━━━┳━━━━━━━━━━━━━━━┓\n",
       "┃<span style=\"font-weight: bold\"> Layer (type)                    </span>┃<span style=\"font-weight: bold\"> Output Shape           </span>┃<span style=\"font-weight: bold\">       Param # </span>┃\n",
       "┡━━━━━━━━━━━━━━━━━━━━━━━━━━━━━━━━━╇━━━━━━━━━━━━━━━━━━━━━━━━╇━━━━━━━━━━━━━━━┩\n",
       "│ embedding_2 (<span style=\"color: #0087ff; text-decoration-color: #0087ff\">Embedding</span>)         │ (<span style=\"color: #00d7ff; text-decoration-color: #00d7ff\">None</span>, <span style=\"color: #00af00; text-decoration-color: #00af00\">1</span>, <span style=\"color: #00af00; text-decoration-color: #00af00\">32</span>)          │       <span style=\"color: #00af00; text-decoration-color: #00af00\">320,000</span> │\n",
       "├─────────────────────────────────┼────────────────────────┼───────────────┤\n",
       "│ dropout_4 (<span style=\"color: #0087ff; text-decoration-color: #0087ff\">Dropout</span>)             │ (<span style=\"color: #00d7ff; text-decoration-color: #00d7ff\">None</span>, <span style=\"color: #00af00; text-decoration-color: #00af00\">1</span>, <span style=\"color: #00af00; text-decoration-color: #00af00\">32</span>)          │             <span style=\"color: #00af00; text-decoration-color: #00af00\">0</span> │\n",
       "├─────────────────────────────────┼────────────────────────┼───────────────┤\n",
       "│ lstm_2 (<span style=\"color: #0087ff; text-decoration-color: #0087ff\">LSTM</span>)                   │ (<span style=\"color: #00d7ff; text-decoration-color: #00d7ff\">None</span>, <span style=\"color: #00af00; text-decoration-color: #00af00\">64</span>)             │        <span style=\"color: #00af00; text-decoration-color: #00af00\">24,832</span> │\n",
       "├─────────────────────────────────┼────────────────────────┼───────────────┤\n",
       "│ dropout_5 (<span style=\"color: #0087ff; text-decoration-color: #0087ff\">Dropout</span>)             │ (<span style=\"color: #00d7ff; text-decoration-color: #00d7ff\">None</span>, <span style=\"color: #00af00; text-decoration-color: #00af00\">64</span>)             │             <span style=\"color: #00af00; text-decoration-color: #00af00\">0</span> │\n",
       "├─────────────────────────────────┼────────────────────────┼───────────────┤\n",
       "│ dense_2 (<span style=\"color: #0087ff; text-decoration-color: #0087ff\">Dense</span>)                 │ (<span style=\"color: #00d7ff; text-decoration-color: #00d7ff\">None</span>, <span style=\"color: #00af00; text-decoration-color: #00af00\">1</span>)              │            <span style=\"color: #00af00; text-decoration-color: #00af00\">65</span> │\n",
       "└─────────────────────────────────┴────────────────────────┴───────────────┘\n",
       "</pre>\n"
      ],
      "text/plain": [
       "┏━━━━━━━━━━━━━━━━━━━━━━━━━━━━━━━━━┳━━━━━━━━━━━━━━━━━━━━━━━━┳━━━━━━━━━━━━━━━┓\n",
       "┃\u001b[1m \u001b[0m\u001b[1mLayer (type)                   \u001b[0m\u001b[1m \u001b[0m┃\u001b[1m \u001b[0m\u001b[1mOutput Shape          \u001b[0m\u001b[1m \u001b[0m┃\u001b[1m \u001b[0m\u001b[1m      Param #\u001b[0m\u001b[1m \u001b[0m┃\n",
       "┡━━━━━━━━━━━━━━━━━━━━━━━━━━━━━━━━━╇━━━━━━━━━━━━━━━━━━━━━━━━╇━━━━━━━━━━━━━━━┩\n",
       "│ embedding_2 (\u001b[38;5;33mEmbedding\u001b[0m)         │ (\u001b[38;5;45mNone\u001b[0m, \u001b[38;5;34m1\u001b[0m, \u001b[38;5;34m32\u001b[0m)          │       \u001b[38;5;34m320,000\u001b[0m │\n",
       "├─────────────────────────────────┼────────────────────────┼───────────────┤\n",
       "│ dropout_4 (\u001b[38;5;33mDropout\u001b[0m)             │ (\u001b[38;5;45mNone\u001b[0m, \u001b[38;5;34m1\u001b[0m, \u001b[38;5;34m32\u001b[0m)          │             \u001b[38;5;34m0\u001b[0m │\n",
       "├─────────────────────────────────┼────────────────────────┼───────────────┤\n",
       "│ lstm_2 (\u001b[38;5;33mLSTM\u001b[0m)                   │ (\u001b[38;5;45mNone\u001b[0m, \u001b[38;5;34m64\u001b[0m)             │        \u001b[38;5;34m24,832\u001b[0m │\n",
       "├─────────────────────────────────┼────────────────────────┼───────────────┤\n",
       "│ dropout_5 (\u001b[38;5;33mDropout\u001b[0m)             │ (\u001b[38;5;45mNone\u001b[0m, \u001b[38;5;34m64\u001b[0m)             │             \u001b[38;5;34m0\u001b[0m │\n",
       "├─────────────────────────────────┼────────────────────────┼───────────────┤\n",
       "│ dense_2 (\u001b[38;5;33mDense\u001b[0m)                 │ (\u001b[38;5;45mNone\u001b[0m, \u001b[38;5;34m1\u001b[0m)              │            \u001b[38;5;34m65\u001b[0m │\n",
       "└─────────────────────────────────┴────────────────────────┴───────────────┘\n"
      ]
     },
     "metadata": {},
     "output_type": "display_data"
    },
    {
     "data": {
      "text/html": [
       "<pre style=\"white-space:pre;overflow-x:auto;line-height:normal;font-family:Menlo,'DejaVu Sans Mono',consolas,'Courier New',monospace\"><span style=\"font-weight: bold\"> Total params: </span><span style=\"color: #00af00; text-decoration-color: #00af00\">344,897</span> (1.32 MB)\n",
       "</pre>\n"
      ],
      "text/plain": [
       "\u001b[1m Total params: \u001b[0m\u001b[38;5;34m344,897\u001b[0m (1.32 MB)\n"
      ]
     },
     "metadata": {},
     "output_type": "display_data"
    },
    {
     "data": {
      "text/html": [
       "<pre style=\"white-space:pre;overflow-x:auto;line-height:normal;font-family:Menlo,'DejaVu Sans Mono',consolas,'Courier New',monospace\"><span style=\"font-weight: bold\"> Trainable params: </span><span style=\"color: #00af00; text-decoration-color: #00af00\">344,897</span> (1.32 MB)\n",
       "</pre>\n"
      ],
      "text/plain": [
       "\u001b[1m Trainable params: \u001b[0m\u001b[38;5;34m344,897\u001b[0m (1.32 MB)\n"
      ]
     },
     "metadata": {},
     "output_type": "display_data"
    },
    {
     "data": {
      "text/html": [
       "<pre style=\"white-space:pre;overflow-x:auto;line-height:normal;font-family:Menlo,'DejaVu Sans Mono',consolas,'Courier New',monospace\"><span style=\"font-weight: bold\"> Non-trainable params: </span><span style=\"color: #00af00; text-decoration-color: #00af00\">0</span> (0.00 B)\n",
       "</pre>\n"
      ],
      "text/plain": [
       "\u001b[1m Non-trainable params: \u001b[0m\u001b[38;5;34m0\u001b[0m (0.00 B)\n"
      ]
     },
     "metadata": {},
     "output_type": "display_data"
    }
   ],
   "source": [
    "model.summary()"
   ]
  },
  {
   "cell_type": "markdown",
   "metadata": {
    "id": "BUuWZvRCOt6_"
   },
   "source": [
    "## Train Model"
   ]
  },
  {
   "cell_type": "code",
   "execution_count": 44,
   "metadata": {
    "colab": {
     "base_uri": "https://localhost:8080/"
    },
    "executionInfo": {
     "elapsed": 178371,
     "status": "ok",
     "timestamp": 1726135477751,
     "user": {
      "displayName": "Ulrich Bodenhofer",
      "userId": "07009582510819085803"
     },
     "user_tz": -120
    },
    "id": "ZvxnEp76Ot6_",
    "outputId": "54fc2945-1e3c-47be-b2ea-659b28d66b99",
    "scrolled": true
   },
   "outputs": [
    {
     "name": "stdout",
     "output_type": "stream",
     "text": [
      "Epoch 1/20\n",
      "\u001b[1m331/333\u001b[0m \u001b[32m━━━━━━━━━━━━━━━━━━━\u001b[0m\u001b[37m━\u001b[0m \u001b[1m0s\u001b[0m 10ms/step - accuracy: 0.5004 - loss: 0.8893\n",
      "Epoch 1: val_accuracy improved from -inf to 0.51840, saving model to ../../Models/IMDB_model1/IMDB_model1_01-0.5184.keras\n",
      "\u001b[1m333/333\u001b[0m \u001b[32m━━━━━━━━━━━━━━━━━━━━\u001b[0m\u001b[37m\u001b[0m \u001b[1m5s\u001b[0m 12ms/step - accuracy: 0.5004 - loss: 0.8882 - val_accuracy: 0.5184 - val_loss: 0.6932\n",
      "Epoch 2/20\n",
      "\u001b[1m330/333\u001b[0m \u001b[32m━━━━━━━━━━━━━━━━━━━\u001b[0m\u001b[37m━\u001b[0m \u001b[1m0s\u001b[0m 10ms/step - accuracy: 0.5033 - loss: 0.6934\n",
      "Epoch 2: val_accuracy improved from 0.51840 to 0.52453, saving model to ../../Models/IMDB_model1/IMDB_model1_02-0.5245.keras\n",
      "\u001b[1m333/333\u001b[0m \u001b[32m━━━━━━━━━━━━━━━━━━━━\u001b[0m\u001b[37m\u001b[0m \u001b[1m4s\u001b[0m 11ms/step - accuracy: 0.5033 - loss: 0.6934 - val_accuracy: 0.5245 - val_loss: 0.6932\n",
      "Epoch 3/20\n",
      "\u001b[1m328/333\u001b[0m \u001b[32m━━━━━━━━━━━━━━━━━━━\u001b[0m\u001b[37m━\u001b[0m \u001b[1m0s\u001b[0m 10ms/step - accuracy: 0.5116 - loss: 0.6934\n",
      "Epoch 3: val_accuracy did not improve from 0.52453\n",
      "\u001b[1m333/333\u001b[0m \u001b[32m━━━━━━━━━━━━━━━━━━━━\u001b[0m\u001b[37m\u001b[0m \u001b[1m4s\u001b[0m 11ms/step - accuracy: 0.5116 - loss: 0.6934 - val_accuracy: 0.4920 - val_loss: 0.6953\n",
      "Epoch 4/20\n",
      "\u001b[1m329/333\u001b[0m \u001b[32m━━━━━━━━━━━━━━━━━━━\u001b[0m\u001b[37m━\u001b[0m \u001b[1m0s\u001b[0m 10ms/step - accuracy: 0.5177 - loss: 0.6935\n",
      "Epoch 4: val_accuracy improved from 0.52453 to 0.53013, saving model to ../../Models/IMDB_model1/IMDB_model1_04-0.5301.keras\n",
      "\u001b[1m333/333\u001b[0m \u001b[32m━━━━━━━━━━━━━━━━━━━━\u001b[0m\u001b[37m\u001b[0m \u001b[1m4s\u001b[0m 11ms/step - accuracy: 0.5179 - loss: 0.6935 - val_accuracy: 0.5301 - val_loss: 0.6946\n",
      "Epoch 5/20\n",
      "\u001b[1m332/333\u001b[0m \u001b[32m━━━━━━━━━━━━━━━━━━━\u001b[0m\u001b[37m━\u001b[0m \u001b[1m0s\u001b[0m 10ms/step - accuracy: 0.5543 - loss: 0.6877\n",
      "Epoch 5: val_accuracy did not improve from 0.53013\n",
      "\u001b[1m333/333\u001b[0m \u001b[32m━━━━━━━━━━━━━━━━━━━━\u001b[0m\u001b[37m\u001b[0m \u001b[1m4s\u001b[0m 11ms/step - accuracy: 0.5543 - loss: 0.6876 - val_accuracy: 0.5117 - val_loss: 0.6954\n",
      "Epoch 6/20\n",
      "\u001b[1m330/333\u001b[0m \u001b[32m━━━━━━━━━━━━━━━━━━━\u001b[0m\u001b[37m━\u001b[0m \u001b[1m0s\u001b[0m 10ms/step - accuracy: 0.5576 - loss: 0.6855\n",
      "Epoch 6: val_accuracy improved from 0.53013 to 0.53200, saving model to ../../Models/IMDB_model1/IMDB_model1_06-0.5320.keras\n",
      "\u001b[1m333/333\u001b[0m \u001b[32m━━━━━━━━━━━━━━━━━━━━\u001b[0m\u001b[37m\u001b[0m \u001b[1m4s\u001b[0m 11ms/step - accuracy: 0.5576 - loss: 0.6855 - val_accuracy: 0.5320 - val_loss: 0.6925\n",
      "Epoch 7/20\n",
      "\u001b[1m331/333\u001b[0m \u001b[32m━━━━━━━━━━━━━━━━━━━\u001b[0m\u001b[37m━\u001b[0m \u001b[1m0s\u001b[0m 10ms/step - accuracy: 0.5647 - loss: 0.6804\n",
      "Epoch 7: val_accuracy did not improve from 0.53200\n",
      "\u001b[1m333/333\u001b[0m \u001b[32m━━━━━━━━━━━━━━━━━━━━\u001b[0m\u001b[37m\u001b[0m \u001b[1m4s\u001b[0m 11ms/step - accuracy: 0.5646 - loss: 0.6805 - val_accuracy: 0.5189 - val_loss: 0.6927\n",
      "Epoch 8/20\n",
      "\u001b[1m333/333\u001b[0m \u001b[32m━━━━━━━━━━━━━━━━━━━━\u001b[0m\u001b[37m\u001b[0m \u001b[1m0s\u001b[0m 10ms/step - accuracy: 0.5339 - loss: 0.6868\n",
      "Epoch 8: val_accuracy improved from 0.53200 to 0.53253, saving model to ../../Models/IMDB_model1/IMDB_model1_08-0.5325.keras\n",
      "\u001b[1m333/333\u001b[0m \u001b[32m━━━━━━━━━━━━━━━━━━━━\u001b[0m\u001b[37m\u001b[0m \u001b[1m4s\u001b[0m 11ms/step - accuracy: 0.5340 - loss: 0.6867 - val_accuracy: 0.5325 - val_loss: 0.6935\n",
      "Epoch 9/20\n",
      "\u001b[1m332/333\u001b[0m \u001b[32m━━━━━━━━━━━━━━━━━━━\u001b[0m\u001b[37m━\u001b[0m \u001b[1m0s\u001b[0m 10ms/step - accuracy: 0.5813 - loss: 0.6637\n",
      "Epoch 9: val_accuracy improved from 0.53253 to 0.53333, saving model to ../../Models/IMDB_model1/IMDB_model1_09-0.5333.keras\n",
      "\u001b[1m333/333\u001b[0m \u001b[32m━━━━━━━━━━━━━━━━━━━━\u001b[0m\u001b[37m\u001b[0m \u001b[1m4s\u001b[0m 11ms/step - accuracy: 0.5813 - loss: 0.6637 - val_accuracy: 0.5333 - val_loss: 0.6926\n",
      "Epoch 10/20\n",
      "\u001b[1m329/333\u001b[0m \u001b[32m━━━━━━━━━━━━━━━━━━━\u001b[0m\u001b[37m━\u001b[0m \u001b[1m0s\u001b[0m 10ms/step - accuracy: 0.6180 - loss: 0.6398\n",
      "Epoch 10: val_accuracy improved from 0.53333 to 0.54133, saving model to ../../Models/IMDB_model1/IMDB_model1_10-0.5413.keras\n",
      "\u001b[1m333/333\u001b[0m \u001b[32m━━━━━━━━━━━━━━━━━━━━\u001b[0m\u001b[37m\u001b[0m \u001b[1m4s\u001b[0m 11ms/step - accuracy: 0.6182 - loss: 0.6398 - val_accuracy: 0.5413 - val_loss: 0.7010\n",
      "Epoch 11/20\n",
      "\u001b[1m329/333\u001b[0m \u001b[32m━━━━━━━━━━━━━━━━━━━\u001b[0m\u001b[37m━\u001b[0m \u001b[1m0s\u001b[0m 10ms/step - accuracy: 0.6756 - loss: 0.6051\n",
      "Epoch 11: val_accuracy improved from 0.54133 to 0.71120, saving model to ../../Models/IMDB_model1/IMDB_model1_11-0.7112.keras\n",
      "\u001b[1m333/333\u001b[0m \u001b[32m━━━━━━━━━━━━━━━━━━━━\u001b[0m\u001b[37m\u001b[0m \u001b[1m4s\u001b[0m 11ms/step - accuracy: 0.6761 - loss: 0.6048 - val_accuracy: 0.7112 - val_loss: 0.5918\n",
      "Epoch 12/20\n",
      "\u001b[1m332/333\u001b[0m \u001b[32m━━━━━━━━━━━━━━━━━━━\u001b[0m\u001b[37m━\u001b[0m \u001b[1m0s\u001b[0m 10ms/step - accuracy: 0.7603 - loss: 0.5402\n",
      "Epoch 12: val_accuracy did not improve from 0.71120\n",
      "\u001b[1m333/333\u001b[0m \u001b[32m━━━━━━━━━━━━━━━━━━━━\u001b[0m\u001b[37m\u001b[0m \u001b[1m4s\u001b[0m 11ms/step - accuracy: 0.7603 - loss: 0.5402 - val_accuracy: 0.6200 - val_loss: 0.6678\n",
      "Epoch 13/20\n",
      "\u001b[1m333/333\u001b[0m \u001b[32m━━━━━━━━━━━━━━━━━━━━\u001b[0m\u001b[37m\u001b[0m \u001b[1m0s\u001b[0m 10ms/step - accuracy: 0.7261 - loss: 0.5695\n",
      "Epoch 13: val_accuracy improved from 0.71120 to 0.73467, saving model to ../../Models/IMDB_model1/IMDB_model1_13-0.7347.keras\n",
      "\u001b[1m333/333\u001b[0m \u001b[32m━━━━━━━━━━━━━━━━━━━━\u001b[0m\u001b[37m\u001b[0m \u001b[1m4s\u001b[0m 11ms/step - accuracy: 0.7261 - loss: 0.5695 - val_accuracy: 0.7347 - val_loss: 0.5871\n",
      "Epoch 14/20\n",
      "\u001b[1m333/333\u001b[0m \u001b[32m━━━━━━━━━━━━━━━━━━━━\u001b[0m\u001b[37m\u001b[0m \u001b[1m0s\u001b[0m 10ms/step - accuracy: 0.7617 - loss: 0.5420\n",
      "Epoch 14: val_accuracy did not improve from 0.73467\n",
      "\u001b[1m333/333\u001b[0m \u001b[32m━━━━━━━━━━━━━━━━━━━━\u001b[0m\u001b[37m\u001b[0m \u001b[1m4s\u001b[0m 11ms/step - accuracy: 0.7616 - loss: 0.5421 - val_accuracy: 0.5128 - val_loss: 0.7029\n",
      "Epoch 15/20\n",
      "\u001b[1m332/333\u001b[0m \u001b[32m━━━━━━━━━━━━━━━━━━━\u001b[0m\u001b[37m━\u001b[0m \u001b[1m0s\u001b[0m 10ms/step - accuracy: 0.5972 - loss: 0.6606\n",
      "Epoch 15: val_accuracy did not improve from 0.73467\n",
      "\u001b[1m333/333\u001b[0m \u001b[32m━━━━━━━━━━━━━━━━━━━━\u001b[0m\u001b[37m\u001b[0m \u001b[1m4s\u001b[0m 11ms/step - accuracy: 0.5975 - loss: 0.6604 - val_accuracy: 0.7027 - val_loss: 0.6210\n",
      "Epoch 16/20\n",
      "\u001b[1m332/333\u001b[0m \u001b[32m━━━━━━━━━━━━━━━━━━━\u001b[0m\u001b[37m━\u001b[0m \u001b[1m0s\u001b[0m 10ms/step - accuracy: 0.5790 - loss: 0.7294\n",
      "Epoch 16: val_accuracy did not improve from 0.73467\n",
      "\u001b[1m333/333\u001b[0m \u001b[32m━━━━━━━━━━━━━━━━━━━━\u001b[0m\u001b[37m\u001b[0m \u001b[1m4s\u001b[0m 11ms/step - accuracy: 0.5790 - loss: 0.7293 - val_accuracy: 0.5125 - val_loss: 0.7380\n",
      "Epoch 17/20\n",
      "\u001b[1m332/333\u001b[0m \u001b[32m━━━━━━━━━━━━━━━━━━━\u001b[0m\u001b[37m━\u001b[0m \u001b[1m0s\u001b[0m 10ms/step - accuracy: 0.6271 - loss: 0.6501\n",
      "Epoch 17: val_accuracy did not improve from 0.73467\n",
      "\u001b[1m333/333\u001b[0m \u001b[32m━━━━━━━━━━━━━━━━━━━━\u001b[0m\u001b[37m\u001b[0m \u001b[1m4s\u001b[0m 11ms/step - accuracy: 0.6274 - loss: 0.6499 - val_accuracy: 0.7291 - val_loss: 0.6195\n",
      "Epoch 18/20\n",
      "\u001b[1m328/333\u001b[0m \u001b[32m━━━━━━━━━━━━━━━━━━━\u001b[0m\u001b[37m━\u001b[0m \u001b[1m0s\u001b[0m 10ms/step - accuracy: 0.7561 - loss: 0.5687\n",
      "Epoch 18: val_accuracy improved from 0.73467 to 0.74053, saving model to ../../Models/IMDB_model1/IMDB_model1_18-0.7405.keras\n",
      "\u001b[1m333/333\u001b[0m \u001b[32m━━━━━━━━━━━━━━━━━━━━\u001b[0m\u001b[37m\u001b[0m \u001b[1m4s\u001b[0m 11ms/step - accuracy: 0.7565 - loss: 0.5681 - val_accuracy: 0.7405 - val_loss: 0.5961\n",
      "Epoch 19/20\n",
      "\u001b[1m330/333\u001b[0m \u001b[32m━━━━━━━━━━━━━━━━━━━\u001b[0m\u001b[37m━\u001b[0m \u001b[1m0s\u001b[0m 10ms/step - accuracy: 0.7690 - loss: 0.5267\n",
      "Epoch 19: val_accuracy did not improve from 0.74053\n",
      "\u001b[1m333/333\u001b[0m \u001b[32m━━━━━━━━━━━━━━━━━━━━\u001b[0m\u001b[37m\u001b[0m \u001b[1m4s\u001b[0m 11ms/step - accuracy: 0.7683 - loss: 0.5272 - val_accuracy: 0.5413 - val_loss: 0.7369\n",
      "Epoch 20/20\n",
      "\u001b[1m329/333\u001b[0m \u001b[32m━━━━━━━━━━━━━━━━━━━\u001b[0m\u001b[37m━\u001b[0m \u001b[1m0s\u001b[0m 10ms/step - accuracy: 0.7654 - loss: 0.5322\n",
      "Epoch 20: val_accuracy did not improve from 0.74053\n",
      "\u001b[1m333/333\u001b[0m \u001b[32m━━━━━━━━━━━━━━━━━━━━\u001b[0m\u001b[37m\u001b[0m \u001b[1m4s\u001b[0m 11ms/step - accuracy: 0.7655 - loss: 0.5322 - val_accuracy: 0.6536 - val_loss: 0.6994\n"
     ]
    }
   ],
   "source": [
    "model_path_base = os.path.join(base_dir, 'Models/IMDB_model1')\n",
    "filepath = os.path.join(model_path_base, 'IMDB_model1_{epoch:02d}-{val_accuracy:.4f}.keras')\n",
    "checkpoint = tf.keras.callbacks.ModelCheckpoint(filepath, monitor='val_accuracy', verbose=1,\n",
    "                                                save_best_only=True, mode='max')\n",
    "callbacks_list = [checkpoint]\n",
    "\n",
    "history = model.fit(train_data, validation_data=validation_data, epochs=epochs,\n",
    "                    batch_size=batch_size, callbacks=callbacks_list)"
   ]
  },
  {
   "cell_type": "code",
   "execution_count": 45,
   "metadata": {
    "colab": {
     "base_uri": "https://localhost:8080/",
     "height": 1000
    },
    "executionInfo": {
     "elapsed": 869,
     "status": "ok",
     "timestamp": 1726135484175,
     "user": {
      "displayName": "Ulrich Bodenhofer",
      "userId": "07009582510819085803"
     },
     "user_tz": -120
    },
    "id": "XbDs-8ySOt6_",
    "outputId": "346f3766-f6ad-40ae-b24a-1328ed6b6fc4"
   },
   "outputs": [
    {
     "data": {
      "image/png": "[encoded data removed]",
      "text/plain": [
       "<Figure size 800x600 with 1 Axes>"
      ]
     },
     "metadata": {},
     "output_type": "display_data"
    },
    {
     "data": {
      "image/png": "[encoded data removed]",
      "text/plain": [
       "<Figure size 800x600 with 1 Axes>"
      ]
     },
     "metadata": {},
     "output_type": "display_data"
    }
   ],
   "source": [
    "plot_history(history)"
   ]
  },
  {
   "cell_type": "markdown",
   "metadata": {
    "id": "h4fy_zWkOt7A"
   },
   "source": [
    "## Evaluate on Test Data"
   ]
  },
  {
   "cell_type": "code",
   "execution_count": 47,
   "metadata": {
    "executionInfo": {
     "elapsed": 606,
     "status": "ok",
     "timestamp": 1726135493788,
     "user": {
      "displayName": "Ulrich Bodenhofer",
      "userId": "07009582510819085803"
     },
     "user_tz": -120
    },
    "id": "03wf8CioOt7A"
   },
   "outputs": [],
   "source": [
    "model = tf.keras.models.load_model(os.path.join(base_dir, \"Models/IMDB_model1/IMDB_model1_18-0.7405.keras\"))"
   ]
  },
  {
   "cell_type": "code",
   "execution_count": 48,
   "metadata": {
    "colab": {
     "base_uri": "https://localhost:8080/"
    },
    "executionInfo": {
     "elapsed": 5503,
     "status": "ok",
     "timestamp": 1726135501784,
     "user": {
      "displayName": "Ulrich Bodenhofer",
      "userId": "07009582510819085803"
     },
     "user_tz": -120
    },
    "id": "6xNMG2_AOt7A",
    "outputId": "a669fb05-58d5-4a77-c43c-465d6c556cf1"
   },
   "outputs": [
    {
     "name": "stdout",
     "output_type": "stream",
     "text": [
      "\u001b[1m 25/391\u001b[0m \u001b[32m━\u001b[0m\u001b[37m━━━━━━━━━━━━━━━━━━━\u001b[0m \u001b[1m1s\u001b[0m 4ms/step"
     ]
    },
    {
     "name": "stdout",
     "output_type": "stream",
     "text": [
      "\u001b[1m391/391\u001b[0m \u001b[32m━━━━━━━━━━━━━━━━━━━━\u001b[0m\u001b[37m\u001b[0m \u001b[1m2s\u001b[0m 5ms/step\n"
     ]
    }
   ],
   "source": [
    "pred = model.predict(test_data)"
   ]
  },
  {
   "cell_type": "code",
   "execution_count": 49,
   "metadata": {
    "executionInfo": {
     "elapsed": 1691,
     "status": "ok",
     "timestamp": 1726135506140,
     "user": {
      "displayName": "Ulrich Bodenhofer",
      "userId": "07009582510819085803"
     },
     "user_tz": -120
    },
    "id": "goY097J-nxll"
   },
   "outputs": [],
   "source": [
    "test_y = np.concatenate([labels for _, labels in test_data], axis=0)"
   ]
  },
  {
   "cell_type": "code",
   "execution_count": 50,
   "metadata": {
    "colab": {
     "base_uri": "https://localhost:8080/"
    },
    "executionInfo": {
     "elapsed": 286,
     "status": "ok",
     "timestamp": 1726135508846,
     "user": {
      "displayName": "Ulrich Bodenhofer",
      "userId": "07009582510819085803"
     },
     "user_tz": -120
    },
    "id": "wEYY1kE5Ot7B",
    "outputId": "c6b19db8-84ed-4330-f297-bf38d1b1ebbf",
    "scrolled": true
   },
   "outputs": [
    {
     "name": "stdout",
     "output_type": "stream",
     "text": [
      "Confusion matrix (rows -> true, columns -> predicted):\n",
      "\n",
      "      neg    pos\n",
      "neg  8409   4091\n",
      "pos  2294  10206\n",
      "\n",
      "\n",
      "Class neg:\n",
      "    Sensitivity (TPR):  67.272% (8409 of 12500)\n",
      "    Specificity (TNR):  81.648% (10206 of 12500)\n",
      "    Precision:          78.567% (8409 of 10703)\n",
      "    Neg. pred. value:   71.386% (10206 of 14297)\n",
      "Class pos:\n",
      "    Sensitivity (TPR):  81.648% (10206 of 12500)\n",
      "    Specificity (TNR):  67.272% (8409 of 12500)\n",
      "    Precision:          71.386% (10206 of 14297)\n",
      "    Neg. pred. value:   78.567% (8409 of 10703)\n",
      "\n",
      "Overall accuracy:   74.460% (18615 of 25000)\n",
      "Balanced accuracy:  74.460%\n"
     ]
    }
   ],
   "source": [
    "evaluate_classification_result(test_y, pred, classes=test_data_raw.class_names)"
   ]
  },
  {
   "cell_type": "markdown",
   "metadata": {
    "id": "gzDmedFVk8Yr"
   },
   "source": [
    "## Evaluate on Custom Test Data"
   ]
  },
  {
   "cell_type": "code",
   "execution_count": 51,
   "metadata": {
    "executionInfo": {
     "elapsed": 303,
     "status": "ok",
     "timestamp": 1726135513539,
     "user": {
      "displayName": "Ulrich Bodenhofer",
      "userId": "07009582510819085803"
     },
     "user_tz": -120
    },
    "id": "t_2IPMLCOt7B"
   },
   "outputs": [],
   "source": [
    "my_text = ['this is probably the worst movie i have seen in my entire life it really sucks in the most obnoxious way',\n",
    "           'if i had a dollar for each error in this movie i would be rich',\n",
    "           'great movie wow i really really liked it',\n",
    "           'complete trash show wasted money if you ask me',\n",
    "           'this was one of the worst movies i have ever seen',\n",
    "           'great movie would highly recommend',\n",
    "           'it was an incredible experience and i would watch it again without second thought',\n",
    "           'film bad',\n",
    "           'it was more or less good']"
   ]
  },
  {
   "cell_type": "code",
   "execution_count": 52,
   "metadata": {
    "colab": {
     "base_uri": "https://localhost:8080/"
    },
    "executionInfo": {
     "elapsed": 282,
     "status": "ok",
     "timestamp": 1726135517223,
     "user": {
      "displayName": "Ulrich Bodenhofer",
      "userId": "07009582510819085803"
     },
     "user_tz": -120
    },
    "id": "EOJVZoHqOt7C",
    "outputId": "a7288b61-2320-4feb-a87b-85edad60b354"
   },
   "outputs": [
    {
     "data": {
      "text/plain": [
       "array([[  10,    7,  235, ...,    0,    0,    0],\n",
       "       [  44,   11,   66, ...,    0,    0,    0],\n",
       "       [  84,   17, 1340, ...,    0,    0,    0],\n",
       "       ...,\n",
       "       [   9,   13,   33, ...,    0,    0,    0],\n",
       "       [  19,   81,    0, ...,    0,    0,    0],\n",
       "       [   9,   13,   50, ...,    0,    0,    0]])"
      ]
     },
     "execution_count": 52,
     "metadata": {},
     "output_type": "execute_result"
    }
   ],
   "source": [
    "my_test_data =  np.array([vectorize_layer(text) for text in my_text])\n",
    "my_test_data"
   ]
  },
  {
   "cell_type": "code",
   "execution_count": 53,
   "metadata": {
    "colab": {
     "base_uri": "https://localhost:8080/"
    },
    "executionInfo": {
     "elapsed": 279,
     "status": "ok",
     "timestamp": 1726135520562,
     "user": {
      "displayName": "Ulrich Bodenhofer",
      "userId": "07009582510819085803"
     },
     "user_tz": -120
    },
    "id": "VSd3nAuFOt7C",
    "outputId": "a2140ad5-3969-464c-ba85-23c306c19c42"
   },
   "outputs": [
    {
     "name": "stdout",
     "output_type": "stream",
     "text": [
      "\u001b[1m1/1\u001b[0m \u001b[32m━━━━━━━━━━━━━━━━━━━━\u001b[0m\u001b[37m\u001b[0m \u001b[1m0s\u001b[0m 100ms/step\n"
     ]
    }
   ],
   "source": [
    "pred = model.predict(my_test_data)"
   ]
  },
  {
   "cell_type": "code",
   "execution_count": 54,
   "metadata": {
    "colab": {
     "base_uri": "https://localhost:8080/",
     "height": 332
    },
    "executionInfo": {
     "elapsed": 314,
     "status": "ok",
     "timestamp": 1726135524373,
     "user": {
      "displayName": "Ulrich Bodenhofer",
      "userId": "07009582510819085803"
     },
     "user_tz": -120
    },
    "id": "lXoI5GXrOt7C",
    "outputId": "5a6b1980-0e78-4eb0-bf64-5b6acc2b36dc"
   },
   "outputs": [
    {
     "data": {
      "text/html": [
       "<div>\n",
       "<style scoped>\n",
       "    .dataframe tbody tr th:only-of-type {\n",
       "        vertical-align: middle;\n",
       "    }\n",
       "\n",
       "    .dataframe tbody tr th {\n",
       "        vertical-align: top;\n",
       "    }\n",
       "\n",
       "    .dataframe thead th {\n",
       "        text-align: right;\n",
       "    }\n",
       "</style>\n",
       "<table border=\"1\" class=\"dataframe\">\n",
       "  <thead>\n",
       "    <tr style=\"text-align: right;\">\n",
       "      <th></th>\n",
       "      <th>review</th>\n",
       "      <th>pred</th>\n",
       "    </tr>\n",
       "  </thead>\n",
       "  <tbody>\n",
       "    <tr>\n",
       "      <th>0</th>\n",
       "      <td>this is probably the worst movie i have seen i...</td>\n",
       "      <td>0.207000</td>\n",
       "    </tr>\n",
       "    <tr>\n",
       "      <th>1</th>\n",
       "      <td>if i had a dollar for each error in this movie...</td>\n",
       "      <td>0.207000</td>\n",
       "    </tr>\n",
       "    <tr>\n",
       "      <th>2</th>\n",
       "      <td>great movie wow i really really liked it</td>\n",
       "      <td>0.695083</td>\n",
       "    </tr>\n",
       "    <tr>\n",
       "      <th>3</th>\n",
       "      <td>complete trash show wasted money if you ask me</td>\n",
       "      <td>0.207000</td>\n",
       "    </tr>\n",
       "    <tr>\n",
       "      <th>4</th>\n",
       "      <td>this was one of the worst movies i have ever seen</td>\n",
       "      <td>0.207000</td>\n",
       "    </tr>\n",
       "    <tr>\n",
       "      <th>5</th>\n",
       "      <td>great movie would highly recommend</td>\n",
       "      <td>0.695083</td>\n",
       "    </tr>\n",
       "    <tr>\n",
       "      <th>6</th>\n",
       "      <td>it was an incredible experience and i would wa...</td>\n",
       "      <td>0.695083</td>\n",
       "    </tr>\n",
       "    <tr>\n",
       "      <th>7</th>\n",
       "      <td>film bad</td>\n",
       "      <td>0.207000</td>\n",
       "    </tr>\n",
       "    <tr>\n",
       "      <th>8</th>\n",
       "      <td>it was more or less good</td>\n",
       "      <td>0.207000</td>\n",
       "    </tr>\n",
       "  </tbody>\n",
       "</table>\n",
       "</div>"
      ],
      "text/plain": [
       "                                              review      pred\n",
       "0  this is probably the worst movie i have seen i...  0.207000\n",
       "1  if i had a dollar for each error in this movie...  0.207000\n",
       "2           great movie wow i really really liked it  0.695083\n",
       "3     complete trash show wasted money if you ask me  0.207000\n",
       "4  this was one of the worst movies i have ever seen  0.207000\n",
       "5                 great movie would highly recommend  0.695083\n",
       "6  it was an incredible experience and i would wa...  0.695083\n",
       "7                                           film bad  0.207000\n",
       "8                           it was more or less good  0.207000"
      ]
     },
     "execution_count": 54,
     "metadata": {},
     "output_type": "execute_result"
    }
   ],
   "source": [
    "pd.DataFrame({'review': my_text, 'pred': pred.reshape(-1)})"
   ]
  },
  {
   "cell_type": "code",
   "execution_count": 1,
   "metadata": {
    "colab": {
     "base_uri": "https://localhost:8080/"
    },
    "executionInfo": {
     "elapsed": 4251,
     "status": "ok",
     "timestamp": 1726135590104,
     "user": {
      "displayName": "Ulrich Bodenhofer",
      "userId": "07009582510819085803"
     },
     "user_tz": -120
    },
    "id": "gweKU33YldkF",
    "outputId": "ae09e1ef-84d4-4cfb-ff36-86f6193d74ed"
   },
   "outputs": [
    {
     "name": "stdout",
     "output_type": "stream",
     "text": [
      "[NbConvertApp] Converting notebook Ex5_Grimm_model1.ipynb to html\n",
      "[NbConvertApp] WARNING | Alternative text is missing on 2 image(s).\n",
      "[NbConvertApp] Writing 465148 bytes to Ex5_Grimm_model1.html\n"
     ]
    }
   ],
   "source": [
    "!jupyter nbconvert --to html Ex5_Grimm_model1.ipynb"
   ]
  }
 ],
 "metadata": {
  "accelerator": "GPU",
  "colab": {
   "provenance": []
  },
  "kernelspec": {
   "display_name": "NDLeIL",
   "language": "python",
   "name": "python3"
  },
  "language_info": {
   "codemirror_mode": {
    "name": "ipython",
    "version": 3
   },
   "file_extension": ".py",
   "mimetype": "text/x-python",
   "name": "python",
   "nbconvert_exporter": "python",
   "pygments_lexer": "ipython3",
   "version": "3.11.10"
  }
 },
 "nbformat": 4,
 "nbformat_minor": 0
}
