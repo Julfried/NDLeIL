{
 "cells": [
  {
   "cell_type": "markdown",
   "metadata": {
    "id": "8uDT2jxUEj5m"
   },
   "source": [
    "# Basics of Neural Networks and Deep Learning"
   ]
  },
  {
   "cell_type": "markdown",
   "metadata": {
    "id": "-yKpR5lREj5t"
   },
   "source": [
    "## Setup"
   ]
  },
  {
   "cell_type": "code",
   "execution_count": 1,
   "metadata": {
    "executionInfo": {
     "elapsed": 525,
     "status": "ok",
     "timestamp": 1725869857134,
     "user": {
      "displayName": "Ulrich Bodenhofer",
      "userId": "07009582510819085803"
     },
     "user_tz": -120
    },
    "id": "KygMB8gB6NAt"
   },
   "outputs": [],
   "source": [
    "import os\n",
    "\n",
    "## adapt this directory to your needs\n",
    "base_dir = '../'\n",
    "notebook_dir = os.path.join(base_dir, 'Exercise')\n",
    "data_dir = os.path.join(base_dir, 'DataSets')"
   ]
  },
  {
   "cell_type": "code",
   "execution_count": 2,
   "metadata": {
    "executionInfo": {
     "elapsed": 8794,
     "status": "ok",
     "timestamp": 1725869879175,
     "user": {
      "displayName": "Ulrich Bodenhofer",
      "userId": "07009582510819085803"
     },
     "user_tz": -120
    },
    "id": "OO2_D-7gEj5u"
   },
   "outputs": [],
   "source": [
    "import pandas as pd\n",
    "import numpy as np\n",
    "import matplotlib.pyplot as plt\n",
    "from sklearn.model_selection import train_test_split\n",
    "from sklearn import datasets\n",
    "\n",
    "import tensorflow as tf\n",
    "\n",
    "from pyMLaux import plot_2d_prediction, plot_history, show_img_data, evaluate_classification_result"
   ]
  },
  {
   "cell_type": "markdown",
   "metadata": {
    "id": "GmKZce3FEj51"
   },
   "source": [
    "## Simple Neural Networks Applied to the Fish Data Set"
   ]
  },
  {
   "cell_type": "code",
   "execution_count": 374,
   "metadata": {
    "executionInfo": {
     "elapsed": 2278,
     "status": "ok",
     "timestamp": 1725869888580,
     "user": {
      "displayName": "Ulrich Bodenhofer",
      "userId": "07009582510819085803"
     },
     "user_tz": -120
    },
    "id": "BgYo3UySEj51"
   },
   "outputs": [],
   "source": [
    "fish_data_raw = pd.read_csv(os.path.join(data_dir, 'fish.csv')) \n",
    "fish_data = {'data': np.array(fish_data_raw.iloc[:, :-1]),\n",
    "             'target': (np.array(fish_data_raw.iloc[:, -1]) + 1) / 2,\n",
    "             'feature_names': fish_data_raw.columns[:-1],\n",
    "             'target_names': ['Salmon', 'Sea bass']}"
   ]
  },
  {
   "cell_type": "code",
   "execution_count": 375,
   "metadata": {
    "executionInfo": {
     "elapsed": 461,
     "status": "ok",
     "timestamp": 1725869901574,
     "user": {
      "displayName": "Ulrich Bodenhofer",
      "userId": "07009582510819085803"
     },
     "user_tz": -120
    },
    "id": "jnV5vLGVEj51"
   },
   "outputs": [],
   "source": [
    "X_train, X_test, y_train, y_test = train_test_split(fish_data['data'], fish_data['target'],\n",
    "                                                    test_size=0.3, random_state=4232)"
   ]
  },
  {
   "cell_type": "code",
   "execution_count": 376,
   "metadata": {
    "executionInfo": {
     "elapsed": 1397,
     "status": "ok",
     "timestamp": 1725869906523,
     "user": {
      "displayName": "Ulrich Bodenhofer",
      "userId": "07009582510819085803"
     },
     "user_tz": -120
    },
    "id": "K8NtTQqqEj51"
   },
   "outputs": [],
   "source": [
    "model1 = tf.keras.models.Sequential([\n",
    "    tf.keras.layers.Input(shape=(fish_data['data'].shape[1], )),\n",
    "    tf.keras.layers.Dense(1, activation='sigmoid')\n",
    "])\n",
    "\n",
    "model1.compile(optimizer='sgd',\n",
    "               loss='binary_crossentropy',\n",
    "               metrics=['accuracy'])"
   ]
  },
  {
   "cell_type": "code",
   "execution_count": 377,
   "metadata": {
    "colab": {
     "base_uri": "https://localhost:8080/",
     "height": 161
    },
    "executionInfo": {
     "elapsed": 481,
     "status": "ok",
     "timestamp": 1725869909964,
     "user": {
      "displayName": "Ulrich Bodenhofer",
      "userId": "07009582510819085803"
     },
     "user_tz": -120
    },
    "id": "G85U6YGmEj52",
    "outputId": "55b18c41-5d4b-4826-88a3-0f6581ae7329"
   },
   "outputs": [
    {
     "data": {
      "text/html": [
       "<pre style=\"white-space:pre;overflow-x:auto;line-height:normal;font-family:Menlo,'DejaVu Sans Mono',consolas,'Courier New',monospace\"><span style=\"font-weight: bold\">Model: \"sequential_69\"</span>\n",
       "</pre>\n"
      ],
      "text/plain": [
       "\u001b[1mModel: \"sequential_69\"\u001b[0m\n"
      ]
     },
     "metadata": {},
     "output_type": "display_data"
    },
    {
     "data": {
      "text/html": [
       "<pre style=\"white-space:pre;overflow-x:auto;line-height:normal;font-family:Menlo,'DejaVu Sans Mono',consolas,'Courier New',monospace\">┏━━━━━━━━━━━━━━━━━━━━━━━━━━━━━━━━━┳━━━━━━━━━━━━━━━━━━━━━━━━┳━━━━━━━━━━━━━━━┓\n",
       "┃<span style=\"font-weight: bold\"> Layer (type)                    </span>┃<span style=\"font-weight: bold\"> Output Shape           </span>┃<span style=\"font-weight: bold\">       Param # </span>┃\n",
       "┡━━━━━━━━━━━━━━━━━━━━━━━━━━━━━━━━━╇━━━━━━━━━━━━━━━━━━━━━━━━╇━━━━━━━━━━━━━━━┩\n",
       "│ dense_206 (<span style=\"color: #0087ff; text-decoration-color: #0087ff\">Dense</span>)               │ (<span style=\"color: #00d7ff; text-decoration-color: #00d7ff\">None</span>, <span style=\"color: #00af00; text-decoration-color: #00af00\">1</span>)              │             <span style=\"color: #00af00; text-decoration-color: #00af00\">3</span> │\n",
       "└─────────────────────────────────┴────────────────────────┴───────────────┘\n",
       "</pre>\n"
      ],
      "text/plain": [
       "┏━━━━━━━━━━━━━━━━━━━━━━━━━━━━━━━━━┳━━━━━━━━━━━━━━━━━━━━━━━━┳━━━━━━━━━━━━━━━┓\n",
       "┃\u001b[1m \u001b[0m\u001b[1mLayer (type)                   \u001b[0m\u001b[1m \u001b[0m┃\u001b[1m \u001b[0m\u001b[1mOutput Shape          \u001b[0m\u001b[1m \u001b[0m┃\u001b[1m \u001b[0m\u001b[1m      Param #\u001b[0m\u001b[1m \u001b[0m┃\n",
       "┡━━━━━━━━━━━━━━━━━━━━━━━━━━━━━━━━━╇━━━━━━━━━━━━━━━━━━━━━━━━╇━━━━━━━━━━━━━━━┩\n",
       "│ dense_206 (\u001b[38;5;33mDense\u001b[0m)               │ (\u001b[38;5;45mNone\u001b[0m, \u001b[38;5;34m1\u001b[0m)              │             \u001b[38;5;34m3\u001b[0m │\n",
       "└─────────────────────────────────┴────────────────────────┴───────────────┘\n"
      ]
     },
     "metadata": {},
     "output_type": "display_data"
    },
    {
     "data": {
      "text/html": [
       "<pre style=\"white-space:pre;overflow-x:auto;line-height:normal;font-family:Menlo,'DejaVu Sans Mono',consolas,'Courier New',monospace\"><span style=\"font-weight: bold\"> Total params: </span><span style=\"color: #00af00; text-decoration-color: #00af00\">3</span> (12.00 B)\n",
       "</pre>\n"
      ],
      "text/plain": [
       "\u001b[1m Total params: \u001b[0m\u001b[38;5;34m3\u001b[0m (12.00 B)\n"
      ]
     },
     "metadata": {},
     "output_type": "display_data"
    },
    {
     "data": {
      "text/html": [
       "<pre style=\"white-space:pre;overflow-x:auto;line-height:normal;font-family:Menlo,'DejaVu Sans Mono',consolas,'Courier New',monospace\"><span style=\"font-weight: bold\"> Trainable params: </span><span style=\"color: #00af00; text-decoration-color: #00af00\">3</span> (12.00 B)\n",
       "</pre>\n"
      ],
      "text/plain": [
       "\u001b[1m Trainable params: \u001b[0m\u001b[38;5;34m3\u001b[0m (12.00 B)\n"
      ]
     },
     "metadata": {},
     "output_type": "display_data"
    },
    {
     "data": {
      "text/html": [
       "<pre style=\"white-space:pre;overflow-x:auto;line-height:normal;font-family:Menlo,'DejaVu Sans Mono',consolas,'Courier New',monospace\"><span style=\"font-weight: bold\"> Non-trainable params: </span><span style=\"color: #00af00; text-decoration-color: #00af00\">0</span> (0.00 B)\n",
       "</pre>\n"
      ],
      "text/plain": [
       "\u001b[1m Non-trainable params: \u001b[0m\u001b[38;5;34m0\u001b[0m (0.00 B)\n"
      ]
     },
     "metadata": {},
     "output_type": "display_data"
    }
   ],
   "source": [
    "model1.summary()"
   ]
  },
  {
   "cell_type": "code",
   "execution_count": 378,
   "metadata": {
    "colab": {
     "base_uri": "https://localhost:8080/"
    },
    "executionInfo": {
     "elapsed": 57477,
     "status": "ok",
     "timestamp": 1725869980272,
     "user": {
      "displayName": "Ulrich Bodenhofer",
      "userId": "07009582510819085803"
     },
     "user_tz": -120
    },
    "id": "rjqNNuxhEj52",
    "outputId": "de7aa44c-ebde-4513-81b4-88c434950c3f"
   },
   "outputs": [
    {
     "name": "stdout",
     "output_type": "stream",
     "text": [
      "Epoch 1/200\n",
      "91/91 - 1s - 6ms/step - accuracy: 0.5934 - loss: 0.6402 - val_accuracy: 0.6923 - val_loss: 0.6369\n",
      "Epoch 2/200\n",
      "91/91 - 0s - 1ms/step - accuracy: 0.7473 - loss: 0.6302 - val_accuracy: 0.7949 - val_loss: 0.6264\n",
      "Epoch 3/200\n",
      "91/91 - 0s - 1ms/step - accuracy: 0.7802 - loss: 0.6229 - val_accuracy: 0.8462 - val_loss: 0.6180\n",
      "Epoch 4/200\n",
      "91/91 - 0s - 1ms/step - accuracy: 0.8022 - loss: 0.6164 - val_accuracy: 0.8462 - val_loss: 0.6106\n",
      "Epoch 5/200\n",
      "91/91 - 0s - 1ms/step - accuracy: 0.8022 - loss: 0.6108 - val_accuracy: 0.8462 - val_loss: 0.6043\n",
      "Epoch 6/200\n",
      "91/91 - 0s - 1ms/step - accuracy: 0.8462 - loss: 0.6057 - val_accuracy: 0.8462 - val_loss: 0.5988\n",
      "Epoch 7/200\n",
      "91/91 - 0s - 1ms/step - accuracy: 0.8571 - loss: 0.6008 - val_accuracy: 0.8462 - val_loss: 0.5937\n",
      "Epoch 8/200\n",
      "91/91 - 0s - 1ms/step - accuracy: 0.8571 - loss: 0.5959 - val_accuracy: 0.8718 - val_loss: 0.5889\n",
      "Epoch 9/200\n",
      "91/91 - 0s - 1ms/step - accuracy: 0.8571 - loss: 0.5911 - val_accuracy: 0.8462 - val_loss: 0.5838\n",
      "Epoch 10/200\n",
      "91/91 - 0s - 1ms/step - accuracy: 0.8571 - loss: 0.5865 - val_accuracy: 0.8462 - val_loss: 0.5794\n",
      "Epoch 11/200\n",
      "91/91 - 0s - 1ms/step - accuracy: 0.8681 - loss: 0.5821 - val_accuracy: 0.8462 - val_loss: 0.5748\n",
      "Epoch 12/200\n",
      "91/91 - 0s - 1ms/step - accuracy: 0.8901 - loss: 0.5776 - val_accuracy: 0.8462 - val_loss: 0.5705\n",
      "Epoch 13/200\n",
      "91/91 - 0s - 1ms/step - accuracy: 0.9011 - loss: 0.5731 - val_accuracy: 0.8462 - val_loss: 0.5665\n",
      "Epoch 14/200\n",
      "91/91 - 0s - 1ms/step - accuracy: 0.8901 - loss: 0.5689 - val_accuracy: 0.8462 - val_loss: 0.5623\n",
      "Epoch 15/200\n",
      "91/91 - 0s - 1ms/step - accuracy: 0.9011 - loss: 0.5646 - val_accuracy: 0.8462 - val_loss: 0.5582\n",
      "Epoch 16/200\n",
      "91/91 - 0s - 1ms/step - accuracy: 0.9011 - loss: 0.5605 - val_accuracy: 0.8462 - val_loss: 0.5542\n",
      "Epoch 17/200\n",
      "91/91 - 0s - 1ms/step - accuracy: 0.8791 - loss: 0.5564 - val_accuracy: 0.8462 - val_loss: 0.5501\n",
      "Epoch 18/200\n",
      "91/91 - 0s - 1ms/step - accuracy: 0.8901 - loss: 0.5524 - val_accuracy: 0.8462 - val_loss: 0.5463\n",
      "Epoch 19/200\n",
      "91/91 - 0s - 1ms/step - accuracy: 0.9121 - loss: 0.5484 - val_accuracy: 0.8462 - val_loss: 0.5421\n",
      "Epoch 20/200\n",
      "91/91 - 0s - 1ms/step - accuracy: 0.9011 - loss: 0.5444 - val_accuracy: 0.8462 - val_loss: 0.5379\n",
      "Epoch 21/200\n",
      "91/91 - 0s - 1ms/step - accuracy: 0.9011 - loss: 0.5407 - val_accuracy: 0.8462 - val_loss: 0.5344\n",
      "Epoch 22/200\n",
      "91/91 - 0s - 1ms/step - accuracy: 0.9011 - loss: 0.5370 - val_accuracy: 0.8462 - val_loss: 0.5306\n",
      "Epoch 23/200\n",
      "91/91 - 0s - 1ms/step - accuracy: 0.9121 - loss: 0.5333 - val_accuracy: 0.8462 - val_loss: 0.5271\n",
      "Epoch 24/200\n",
      "91/91 - 0s - 1ms/step - accuracy: 0.9011 - loss: 0.5296 - val_accuracy: 0.8462 - val_loss: 0.5235\n",
      "Epoch 25/200\n",
      "91/91 - 0s - 1ms/step - accuracy: 0.9121 - loss: 0.5260 - val_accuracy: 0.8462 - val_loss: 0.5201\n",
      "Epoch 26/200\n",
      "91/91 - 0s - 1ms/step - accuracy: 0.9121 - loss: 0.5225 - val_accuracy: 0.8462 - val_loss: 0.5166\n",
      "Epoch 27/200\n",
      "91/91 - 0s - 1ms/step - accuracy: 0.9231 - loss: 0.5191 - val_accuracy: 0.8462 - val_loss: 0.5132\n",
      "Epoch 28/200\n",
      "91/91 - 0s - 1ms/step - accuracy: 0.9231 - loss: 0.5156 - val_accuracy: 0.8462 - val_loss: 0.5097\n",
      "Epoch 29/200\n",
      "91/91 - 0s - 1ms/step - accuracy: 0.9341 - loss: 0.5123 - val_accuracy: 0.8462 - val_loss: 0.5066\n",
      "Epoch 30/200\n",
      "91/91 - 0s - 1ms/step - accuracy: 0.9231 - loss: 0.5090 - val_accuracy: 0.8462 - val_loss: 0.5036\n",
      "Epoch 31/200\n",
      "91/91 - 0s - 1ms/step - accuracy: 0.9451 - loss: 0.5057 - val_accuracy: 0.8462 - val_loss: 0.5004\n",
      "Epoch 32/200\n",
      "91/91 - 0s - 1ms/step - accuracy: 0.9231 - loss: 0.5026 - val_accuracy: 0.8462 - val_loss: 0.4973\n",
      "Epoch 33/200\n",
      "91/91 - 0s - 1ms/step - accuracy: 0.9341 - loss: 0.4994 - val_accuracy: 0.8462 - val_loss: 0.4941\n",
      "Epoch 34/200\n",
      "91/91 - 0s - 1ms/step - accuracy: 0.9341 - loss: 0.4964 - val_accuracy: 0.8462 - val_loss: 0.4912\n",
      "Epoch 35/200\n",
      "91/91 - 0s - 1ms/step - accuracy: 0.9341 - loss: 0.4932 - val_accuracy: 0.8462 - val_loss: 0.4881\n",
      "Epoch 36/200\n",
      "91/91 - 0s - 1ms/step - accuracy: 0.9341 - loss: 0.4903 - val_accuracy: 0.8462 - val_loss: 0.4853\n",
      "Epoch 37/200\n",
      "91/91 - 0s - 1ms/step - accuracy: 0.9341 - loss: 0.4873 - val_accuracy: 0.8462 - val_loss: 0.4826\n",
      "Epoch 38/200\n",
      "91/91 - 0s - 1ms/step - accuracy: 0.9341 - loss: 0.4844 - val_accuracy: 0.8462 - val_loss: 0.4797\n",
      "Epoch 39/200\n",
      "91/91 - 0s - 1ms/step - accuracy: 0.9341 - loss: 0.4815 - val_accuracy: 0.8462 - val_loss: 0.4770\n",
      "Epoch 40/200\n",
      "91/91 - 0s - 1ms/step - accuracy: 0.9341 - loss: 0.4787 - val_accuracy: 0.8462 - val_loss: 0.4743\n",
      "Epoch 41/200\n",
      "91/91 - 0s - 1ms/step - accuracy: 0.9341 - loss: 0.4759 - val_accuracy: 0.8462 - val_loss: 0.4716\n",
      "Epoch 42/200\n",
      "91/91 - 0s - 1ms/step - accuracy: 0.9341 - loss: 0.4732 - val_accuracy: 0.8462 - val_loss: 0.4690\n",
      "Epoch 43/200\n",
      "91/91 - 0s - 1ms/step - accuracy: 0.9341 - loss: 0.4705 - val_accuracy: 0.8462 - val_loss: 0.4665\n",
      "Epoch 44/200\n",
      "91/91 - 0s - 1ms/step - accuracy: 0.9451 - loss: 0.4678 - val_accuracy: 0.8462 - val_loss: 0.4638\n",
      "Epoch 45/200\n",
      "91/91 - 0s - 1ms/step - accuracy: 0.9451 - loss: 0.4652 - val_accuracy: 0.8462 - val_loss: 0.4614\n",
      "Epoch 46/200\n",
      "91/91 - 0s - 1ms/step - accuracy: 0.9451 - loss: 0.4626 - val_accuracy: 0.8462 - val_loss: 0.4589\n",
      "Epoch 47/200\n",
      "91/91 - 0s - 1ms/step - accuracy: 0.9451 - loss: 0.4601 - val_accuracy: 0.8462 - val_loss: 0.4565\n",
      "Epoch 48/200\n",
      "91/91 - 0s - 1ms/step - accuracy: 0.9451 - loss: 0.4576 - val_accuracy: 0.8462 - val_loss: 0.4541\n",
      "Epoch 49/200\n",
      "91/91 - 0s - 1ms/step - accuracy: 0.9451 - loss: 0.4551 - val_accuracy: 0.8462 - val_loss: 0.4517\n",
      "Epoch 50/200\n",
      "91/91 - 0s - 1ms/step - accuracy: 0.9341 - loss: 0.4526 - val_accuracy: 0.8462 - val_loss: 0.4494\n",
      "Epoch 51/200\n",
      "91/91 - 0s - 1ms/step - accuracy: 0.9451 - loss: 0.4502 - val_accuracy: 0.8462 - val_loss: 0.4470\n",
      "Epoch 52/200\n",
      "91/91 - 0s - 1ms/step - accuracy: 0.9451 - loss: 0.4479 - val_accuracy: 0.8462 - val_loss: 0.4448\n",
      "Epoch 53/200\n",
      "91/91 - 0s - 1ms/step - accuracy: 0.9451 - loss: 0.4455 - val_accuracy: 0.8462 - val_loss: 0.4424\n",
      "Epoch 54/200\n",
      "91/91 - 0s - 1ms/step - accuracy: 0.9451 - loss: 0.4433 - val_accuracy: 0.8462 - val_loss: 0.4402\n",
      "Epoch 55/200\n",
      "91/91 - 0s - 1ms/step - accuracy: 0.9451 - loss: 0.4410 - val_accuracy: 0.8462 - val_loss: 0.4380\n",
      "Epoch 56/200\n",
      "91/91 - 0s - 1ms/step - accuracy: 0.9451 - loss: 0.4387 - val_accuracy: 0.8462 - val_loss: 0.4359\n",
      "Epoch 57/200\n",
      "91/91 - 0s - 1ms/step - accuracy: 0.9451 - loss: 0.4365 - val_accuracy: 0.8462 - val_loss: 0.4337\n",
      "Epoch 58/200\n",
      "91/91 - 0s - 1ms/step - accuracy: 0.9451 - loss: 0.4344 - val_accuracy: 0.8462 - val_loss: 0.4316\n",
      "Epoch 59/200\n",
      "91/91 - 0s - 1ms/step - accuracy: 0.9451 - loss: 0.4322 - val_accuracy: 0.8462 - val_loss: 0.4296\n",
      "Epoch 60/200\n",
      "91/91 - 0s - 1ms/step - accuracy: 0.9451 - loss: 0.4301 - val_accuracy: 0.8462 - val_loss: 0.4276\n",
      "Epoch 61/200\n",
      "91/91 - 0s - 1ms/step - accuracy: 0.9451 - loss: 0.4279 - val_accuracy: 0.8718 - val_loss: 0.4255\n",
      "Epoch 62/200\n",
      "91/91 - 0s - 1ms/step - accuracy: 0.9451 - loss: 0.4259 - val_accuracy: 0.8718 - val_loss: 0.4236\n",
      "Epoch 63/200\n",
      "91/91 - 0s - 1ms/step - accuracy: 0.9451 - loss: 0.4239 - val_accuracy: 0.8718 - val_loss: 0.4216\n",
      "Epoch 64/200\n",
      "91/91 - 0s - 1ms/step - accuracy: 0.9451 - loss: 0.4218 - val_accuracy: 0.8462 - val_loss: 0.4199\n",
      "Epoch 65/200\n",
      "91/91 - 0s - 1ms/step - accuracy: 0.9451 - loss: 0.4199 - val_accuracy: 0.8718 - val_loss: 0.4179\n",
      "Epoch 66/200\n",
      "91/91 - 0s - 1ms/step - accuracy: 0.9451 - loss: 0.4178 - val_accuracy: 0.8462 - val_loss: 0.4162\n",
      "Epoch 67/200\n",
      "91/91 - 0s - 1ms/step - accuracy: 0.9451 - loss: 0.4160 - val_accuracy: 0.8718 - val_loss: 0.4143\n",
      "Epoch 68/200\n",
      "91/91 - 0s - 1ms/step - accuracy: 0.9451 - loss: 0.4140 - val_accuracy: 0.8718 - val_loss: 0.4126\n",
      "Epoch 69/200\n",
      "91/91 - 0s - 1ms/step - accuracy: 0.9451 - loss: 0.4122 - val_accuracy: 0.8718 - val_loss: 0.4107\n",
      "Epoch 70/200\n",
      "91/91 - 0s - 1ms/step - accuracy: 0.9451 - loss: 0.4103 - val_accuracy: 0.8974 - val_loss: 0.4090\n",
      "Epoch 71/200\n",
      "91/91 - 0s - 1ms/step - accuracy: 0.9451 - loss: 0.4085 - val_accuracy: 0.8718 - val_loss: 0.4071\n",
      "Epoch 72/200\n",
      "91/91 - 0s - 3ms/step - accuracy: 0.9451 - loss: 0.4067 - val_accuracy: 0.8718 - val_loss: 0.4054\n",
      "Epoch 73/200\n",
      "91/91 - 0s - 1ms/step - accuracy: 0.9451 - loss: 0.4049 - val_accuracy: 0.8718 - val_loss: 0.4036\n",
      "Epoch 74/200\n",
      "91/91 - 0s - 1ms/step - accuracy: 0.9451 - loss: 0.4030 - val_accuracy: 0.8974 - val_loss: 0.4020\n",
      "Epoch 75/200\n",
      "91/91 - 0s - 1ms/step - accuracy: 0.9451 - loss: 0.4013 - val_accuracy: 0.8718 - val_loss: 0.4003\n",
      "Epoch 76/200\n",
      "91/91 - 0s - 1ms/step - accuracy: 0.9451 - loss: 0.3996 - val_accuracy: 0.8718 - val_loss: 0.3987\n",
      "Epoch 77/200\n",
      "91/91 - 0s - 1ms/step - accuracy: 0.9451 - loss: 0.3979 - val_accuracy: 0.8974 - val_loss: 0.3971\n",
      "Epoch 78/200\n",
      "91/91 - 0s - 1ms/step - accuracy: 0.9451 - loss: 0.3961 - val_accuracy: 0.8718 - val_loss: 0.3953\n",
      "Epoch 79/200\n",
      "91/91 - 0s - 1ms/step - accuracy: 0.9451 - loss: 0.3946 - val_accuracy: 0.8718 - val_loss: 0.3938\n",
      "Epoch 80/200\n",
      "91/91 - 0s - 1ms/step - accuracy: 0.9451 - loss: 0.3929 - val_accuracy: 0.8718 - val_loss: 0.3921\n",
      "Epoch 81/200\n",
      "91/91 - 0s - 2ms/step - accuracy: 0.9451 - loss: 0.3912 - val_accuracy: 0.8718 - val_loss: 0.3905\n",
      "Epoch 82/200\n",
      "91/91 - 0s - 1ms/step - accuracy: 0.9451 - loss: 0.3897 - val_accuracy: 0.8718 - val_loss: 0.3891\n",
      "Epoch 83/200\n",
      "91/91 - 0s - 1ms/step - accuracy: 0.9451 - loss: 0.3881 - val_accuracy: 0.8718 - val_loss: 0.3876\n",
      "Epoch 84/200\n",
      "91/91 - 0s - 1ms/step - accuracy: 0.9451 - loss: 0.3866 - val_accuracy: 0.8718 - val_loss: 0.3861\n",
      "Epoch 85/200\n",
      "91/91 - 0s - 1ms/step - accuracy: 0.9451 - loss: 0.3850 - val_accuracy: 0.8974 - val_loss: 0.3847\n",
      "Epoch 86/200\n",
      "91/91 - 0s - 1ms/step - accuracy: 0.9451 - loss: 0.3835 - val_accuracy: 0.8974 - val_loss: 0.3833\n",
      "Epoch 87/200\n",
      "91/91 - 0s - 1ms/step - accuracy: 0.9451 - loss: 0.3820 - val_accuracy: 0.8974 - val_loss: 0.3819\n",
      "Epoch 88/200\n",
      "91/91 - 0s - 1ms/step - accuracy: 0.9451 - loss: 0.3805 - val_accuracy: 0.8974 - val_loss: 0.3805\n",
      "Epoch 89/200\n",
      "91/91 - 0s - 1ms/step - accuracy: 0.9451 - loss: 0.3790 - val_accuracy: 0.8974 - val_loss: 0.3791\n",
      "Epoch 90/200\n",
      "91/91 - 0s - 1ms/step - accuracy: 0.9451 - loss: 0.3775 - val_accuracy: 0.8974 - val_loss: 0.3777\n",
      "Epoch 91/200\n",
      "91/91 - 0s - 1ms/step - accuracy: 0.9341 - loss: 0.3760 - val_accuracy: 0.8974 - val_loss: 0.3763\n",
      "Epoch 92/200\n",
      "91/91 - 0s - 1ms/step - accuracy: 0.9451 - loss: 0.3747 - val_accuracy: 0.8974 - val_loss: 0.3749\n",
      "Epoch 93/200\n",
      "91/91 - 0s - 1ms/step - accuracy: 0.9451 - loss: 0.3732 - val_accuracy: 0.8974 - val_loss: 0.3736\n",
      "Epoch 94/200\n",
      "91/91 - 0s - 1ms/step - accuracy: 0.9451 - loss: 0.3718 - val_accuracy: 0.8974 - val_loss: 0.3722\n",
      "Epoch 95/200\n",
      "91/91 - 0s - 1ms/step - accuracy: 0.9451 - loss: 0.3705 - val_accuracy: 0.8974 - val_loss: 0.3710\n",
      "Epoch 96/200\n",
      "91/91 - 0s - 1ms/step - accuracy: 0.9451 - loss: 0.3691 - val_accuracy: 0.8974 - val_loss: 0.3697\n",
      "Epoch 97/200\n",
      "91/91 - 0s - 1ms/step - accuracy: 0.9451 - loss: 0.3677 - val_accuracy: 0.8974 - val_loss: 0.3685\n",
      "Epoch 98/200\n",
      "91/91 - 0s - 1ms/step - accuracy: 0.9451 - loss: 0.3664 - val_accuracy: 0.8974 - val_loss: 0.3672\n",
      "Epoch 99/200\n",
      "91/91 - 0s - 1ms/step - accuracy: 0.9451 - loss: 0.3651 - val_accuracy: 0.8974 - val_loss: 0.3660\n",
      "Epoch 100/200\n",
      "91/91 - 0s - 1ms/step - accuracy: 0.9451 - loss: 0.3637 - val_accuracy: 0.8974 - val_loss: 0.3648\n",
      "Epoch 101/200\n",
      "91/91 - 0s - 1ms/step - accuracy: 0.9451 - loss: 0.3625 - val_accuracy: 0.8974 - val_loss: 0.3635\n",
      "Epoch 102/200\n",
      "91/91 - 0s - 1ms/step - accuracy: 0.9451 - loss: 0.3611 - val_accuracy: 0.8974 - val_loss: 0.3624\n",
      "Epoch 103/200\n",
      "91/91 - 0s - 1ms/step - accuracy: 0.9451 - loss: 0.3599 - val_accuracy: 0.8974 - val_loss: 0.3612\n",
      "Epoch 104/200\n",
      "91/91 - 0s - 1ms/step - accuracy: 0.9451 - loss: 0.3587 - val_accuracy: 0.8974 - val_loss: 0.3600\n",
      "Epoch 105/200\n",
      "91/91 - 0s - 1ms/step - accuracy: 0.9451 - loss: 0.3574 - val_accuracy: 0.8974 - val_loss: 0.3588\n",
      "Epoch 106/200\n",
      "91/91 - 0s - 1ms/step - accuracy: 0.9451 - loss: 0.3562 - val_accuracy: 0.8974 - val_loss: 0.3576\n",
      "Epoch 107/200\n",
      "91/91 - 0s - 1ms/step - accuracy: 0.9451 - loss: 0.3550 - val_accuracy: 0.8974 - val_loss: 0.3565\n",
      "Epoch 108/200\n",
      "91/91 - 0s - 2ms/step - accuracy: 0.9451 - loss: 0.3537 - val_accuracy: 0.8974 - val_loss: 0.3554\n",
      "Epoch 109/200\n",
      "91/91 - 0s - 3ms/step - accuracy: 0.9451 - loss: 0.3526 - val_accuracy: 0.8974 - val_loss: 0.3544\n",
      "Epoch 110/200\n",
      "91/91 - 0s - 1ms/step - accuracy: 0.9451 - loss: 0.3515 - val_accuracy: 0.8974 - val_loss: 0.3532\n",
      "Epoch 111/200\n",
      "91/91 - 0s - 1ms/step - accuracy: 0.9451 - loss: 0.3503 - val_accuracy: 0.8974 - val_loss: 0.3521\n",
      "Epoch 112/200\n",
      "91/91 - 0s - 1ms/step - accuracy: 0.9451 - loss: 0.3491 - val_accuracy: 0.8974 - val_loss: 0.3511\n",
      "Epoch 113/200\n",
      "91/91 - 0s - 1ms/step - accuracy: 0.9451 - loss: 0.3480 - val_accuracy: 0.8974 - val_loss: 0.3500\n",
      "Epoch 114/200\n",
      "91/91 - 0s - 1ms/step - accuracy: 0.9451 - loss: 0.3469 - val_accuracy: 0.8974 - val_loss: 0.3489\n",
      "Epoch 115/200\n",
      "91/91 - 0s - 1ms/step - accuracy: 0.9341 - loss: 0.3457 - val_accuracy: 0.8974 - val_loss: 0.3478\n",
      "Epoch 116/200\n",
      "91/91 - 0s - 1ms/step - accuracy: 0.9451 - loss: 0.3446 - val_accuracy: 0.8974 - val_loss: 0.3468\n",
      "Epoch 117/200\n",
      "91/91 - 0s - 1ms/step - accuracy: 0.9451 - loss: 0.3435 - val_accuracy: 0.8974 - val_loss: 0.3458\n",
      "Epoch 118/200\n",
      "91/91 - 0s - 1ms/step - accuracy: 0.9451 - loss: 0.3425 - val_accuracy: 0.8974 - val_loss: 0.3448\n",
      "Epoch 119/200\n",
      "91/91 - 0s - 1ms/step - accuracy: 0.9451 - loss: 0.3414 - val_accuracy: 0.8974 - val_loss: 0.3438\n",
      "Epoch 120/200\n",
      "91/91 - 0s - 1ms/step - accuracy: 0.9451 - loss: 0.3403 - val_accuracy: 0.8974 - val_loss: 0.3428\n",
      "Epoch 121/200\n",
      "91/91 - 0s - 1ms/step - accuracy: 0.9451 - loss: 0.3392 - val_accuracy: 0.8974 - val_loss: 0.3419\n",
      "Epoch 122/200\n",
      "91/91 - 0s - 1ms/step - accuracy: 0.9451 - loss: 0.3382 - val_accuracy: 0.8974 - val_loss: 0.3409\n",
      "Epoch 123/200\n",
      "91/91 - 0s - 1ms/step - accuracy: 0.9451 - loss: 0.3372 - val_accuracy: 0.8974 - val_loss: 0.3399\n",
      "Epoch 124/200\n",
      "91/91 - 0s - 1ms/step - accuracy: 0.9451 - loss: 0.3362 - val_accuracy: 0.8974 - val_loss: 0.3389\n",
      "Epoch 125/200\n",
      "91/91 - 0s - 1ms/step - accuracy: 0.9451 - loss: 0.3351 - val_accuracy: 0.8974 - val_loss: 0.3380\n",
      "Epoch 126/200\n",
      "91/91 - 0s - 1ms/step - accuracy: 0.9451 - loss: 0.3341 - val_accuracy: 0.8974 - val_loss: 0.3370\n",
      "Epoch 127/200\n",
      "91/91 - 0s - 1ms/step - accuracy: 0.9451 - loss: 0.3332 - val_accuracy: 0.8974 - val_loss: 0.3361\n",
      "Epoch 128/200\n",
      "91/91 - 0s - 1ms/step - accuracy: 0.9451 - loss: 0.3322 - val_accuracy: 0.8974 - val_loss: 0.3352\n",
      "Epoch 129/200\n",
      "91/91 - 0s - 1ms/step - accuracy: 0.9451 - loss: 0.3312 - val_accuracy: 0.8974 - val_loss: 0.3343\n",
      "Epoch 130/200\n",
      "91/91 - 0s - 1ms/step - accuracy: 0.9451 - loss: 0.3302 - val_accuracy: 0.8974 - val_loss: 0.3334\n",
      "Epoch 131/200\n",
      "91/91 - 0s - 1ms/step - accuracy: 0.9341 - loss: 0.3292 - val_accuracy: 0.8974 - val_loss: 0.3324\n",
      "Epoch 132/200\n",
      "91/91 - 0s - 1ms/step - accuracy: 0.9451 - loss: 0.3283 - val_accuracy: 0.8974 - val_loss: 0.3316\n",
      "Epoch 133/200\n",
      "91/91 - 0s - 1ms/step - accuracy: 0.9451 - loss: 0.3274 - val_accuracy: 0.8974 - val_loss: 0.3307\n",
      "Epoch 134/200\n",
      "91/91 - 0s - 1ms/step - accuracy: 0.9451 - loss: 0.3264 - val_accuracy: 0.8974 - val_loss: 0.3298\n",
      "Epoch 135/200\n",
      "91/91 - 0s - 1ms/step - accuracy: 0.9451 - loss: 0.3255 - val_accuracy: 0.8974 - val_loss: 0.3290\n",
      "Epoch 136/200\n",
      "91/91 - 0s - 1ms/step - accuracy: 0.9341 - loss: 0.3246 - val_accuracy: 0.8974 - val_loss: 0.3281\n",
      "Epoch 137/200\n",
      "91/91 - 0s - 1ms/step - accuracy: 0.9451 - loss: 0.3237 - val_accuracy: 0.8974 - val_loss: 0.3273\n",
      "Epoch 138/200\n",
      "91/91 - 0s - 1ms/step - accuracy: 0.9451 - loss: 0.3228 - val_accuracy: 0.8974 - val_loss: 0.3265\n",
      "Epoch 139/200\n",
      "91/91 - 0s - 1ms/step - accuracy: 0.9451 - loss: 0.3219 - val_accuracy: 0.8974 - val_loss: 0.3257\n",
      "Epoch 140/200\n",
      "91/91 - 0s - 1ms/step - accuracy: 0.9341 - loss: 0.3210 - val_accuracy: 0.8974 - val_loss: 0.3248\n",
      "Epoch 141/200\n",
      "91/91 - 0s - 1ms/step - accuracy: 0.9451 - loss: 0.3202 - val_accuracy: 0.8974 - val_loss: 0.3240\n",
      "Epoch 142/200\n",
      "91/91 - 0s - 1ms/step - accuracy: 0.9451 - loss: 0.3193 - val_accuracy: 0.8974 - val_loss: 0.3232\n",
      "Epoch 143/200\n",
      "91/91 - 0s - 1ms/step - accuracy: 0.9451 - loss: 0.3184 - val_accuracy: 0.8974 - val_loss: 0.3224\n",
      "Epoch 144/200\n",
      "91/91 - 0s - 1ms/step - accuracy: 0.9451 - loss: 0.3176 - val_accuracy: 0.8974 - val_loss: 0.3216\n",
      "Epoch 145/200\n",
      "91/91 - 0s - 1ms/step - accuracy: 0.9451 - loss: 0.3167 - val_accuracy: 0.8974 - val_loss: 0.3209\n",
      "Epoch 146/200\n",
      "91/91 - 0s - 1ms/step - accuracy: 0.9451 - loss: 0.3159 - val_accuracy: 0.8974 - val_loss: 0.3201\n",
      "Epoch 147/200\n",
      "91/91 - 0s - 1ms/step - accuracy: 0.9451 - loss: 0.3151 - val_accuracy: 0.8974 - val_loss: 0.3194\n",
      "Epoch 148/200\n",
      "91/91 - 0s - 1ms/step - accuracy: 0.9451 - loss: 0.3142 - val_accuracy: 0.8974 - val_loss: 0.3186\n",
      "Epoch 149/200\n",
      "91/91 - 0s - 1ms/step - accuracy: 0.9451 - loss: 0.3134 - val_accuracy: 0.8974 - val_loss: 0.3179\n",
      "Epoch 150/200\n",
      "91/91 - 0s - 1ms/step - accuracy: 0.9341 - loss: 0.3126 - val_accuracy: 0.8974 - val_loss: 0.3171\n",
      "Epoch 151/200\n",
      "91/91 - 0s - 1ms/step - accuracy: 0.9341 - loss: 0.3118 - val_accuracy: 0.8974 - val_loss: 0.3164\n",
      "Epoch 152/200\n",
      "91/91 - 0s - 1ms/step - accuracy: 0.9451 - loss: 0.3111 - val_accuracy: 0.8974 - val_loss: 0.3156\n",
      "Epoch 153/200\n",
      "91/91 - 0s - 1ms/step - accuracy: 0.9341 - loss: 0.3103 - val_accuracy: 0.8974 - val_loss: 0.3149\n",
      "Epoch 154/200\n",
      "91/91 - 0s - 1ms/step - accuracy: 0.9451 - loss: 0.3095 - val_accuracy: 0.8974 - val_loss: 0.3142\n",
      "Epoch 155/200\n",
      "91/91 - 0s - 1ms/step - accuracy: 0.9451 - loss: 0.3087 - val_accuracy: 0.8974 - val_loss: 0.3135\n",
      "Epoch 156/200\n",
      "91/91 - 0s - 1ms/step - accuracy: 0.9451 - loss: 0.3080 - val_accuracy: 0.8974 - val_loss: 0.3128\n",
      "Epoch 157/200\n",
      "91/91 - 0s - 1ms/step - accuracy: 0.9451 - loss: 0.3072 - val_accuracy: 0.8974 - val_loss: 0.3121\n",
      "Epoch 158/200\n",
      "91/91 - 0s - 2ms/step - accuracy: 0.9341 - loss: 0.3064 - val_accuracy: 0.8974 - val_loss: 0.3114\n",
      "Epoch 159/200\n",
      "91/91 - 0s - 2ms/step - accuracy: 0.9451 - loss: 0.3057 - val_accuracy: 0.8974 - val_loss: 0.3107\n",
      "Epoch 160/200\n",
      "91/91 - 0s - 1ms/step - accuracy: 0.9341 - loss: 0.3049 - val_accuracy: 0.8974 - val_loss: 0.3100\n",
      "Epoch 161/200\n",
      "91/91 - 0s - 1ms/step - accuracy: 0.9451 - loss: 0.3042 - val_accuracy: 0.8974 - val_loss: 0.3094\n",
      "Epoch 162/200\n",
      "91/91 - 0s - 1ms/step - accuracy: 0.9451 - loss: 0.3035 - val_accuracy: 0.8974 - val_loss: 0.3087\n",
      "Epoch 163/200\n",
      "91/91 - 0s - 1ms/step - accuracy: 0.9451 - loss: 0.3028 - val_accuracy: 0.8974 - val_loss: 0.3080\n",
      "Epoch 164/200\n",
      "91/91 - 0s - 1ms/step - accuracy: 0.9341 - loss: 0.3020 - val_accuracy: 0.8974 - val_loss: 0.3074\n",
      "Epoch 165/200\n",
      "91/91 - 0s - 1ms/step - accuracy: 0.9451 - loss: 0.3013 - val_accuracy: 0.8974 - val_loss: 0.3067\n",
      "Epoch 166/200\n",
      "91/91 - 0s - 1ms/step - accuracy: 0.9341 - loss: 0.3006 - val_accuracy: 0.8974 - val_loss: 0.3061\n",
      "Epoch 167/200\n",
      "91/91 - 0s - 1ms/step - accuracy: 0.9341 - loss: 0.2999 - val_accuracy: 0.8974 - val_loss: 0.3054\n",
      "Epoch 168/200\n",
      "91/91 - 0s - 1ms/step - accuracy: 0.9451 - loss: 0.2992 - val_accuracy: 0.8974 - val_loss: 0.3048\n",
      "Epoch 169/200\n",
      "91/91 - 0s - 1ms/step - accuracy: 0.9451 - loss: 0.2985 - val_accuracy: 0.8974 - val_loss: 0.3042\n",
      "Epoch 170/200\n",
      "91/91 - 0s - 1ms/step - accuracy: 0.9451 - loss: 0.2978 - val_accuracy: 0.8974 - val_loss: 0.3036\n",
      "Epoch 171/200\n",
      "91/91 - 0s - 1ms/step - accuracy: 0.9341 - loss: 0.2972 - val_accuracy: 0.8974 - val_loss: 0.3029\n",
      "Epoch 172/200\n",
      "91/91 - 0s - 1ms/step - accuracy: 0.9341 - loss: 0.2965 - val_accuracy: 0.8974 - val_loss: 0.3023\n",
      "Epoch 173/200\n",
      "91/91 - 0s - 1ms/step - accuracy: 0.9341 - loss: 0.2958 - val_accuracy: 0.8974 - val_loss: 0.3017\n",
      "Epoch 174/200\n",
      "91/91 - 0s - 1ms/step - accuracy: 0.9341 - loss: 0.2952 - val_accuracy: 0.8974 - val_loss: 0.3011\n",
      "Epoch 175/200\n",
      "91/91 - 0s - 1ms/step - accuracy: 0.9341 - loss: 0.2945 - val_accuracy: 0.8974 - val_loss: 0.3005\n",
      "Epoch 176/200\n",
      "91/91 - 0s - 1ms/step - accuracy: 0.9341 - loss: 0.2939 - val_accuracy: 0.8974 - val_loss: 0.2999\n",
      "Epoch 177/200\n",
      "91/91 - 0s - 1ms/step - accuracy: 0.9341 - loss: 0.2932 - val_accuracy: 0.8974 - val_loss: 0.2993\n",
      "Epoch 178/200\n",
      "91/91 - 0s - 1ms/step - accuracy: 0.9341 - loss: 0.2925 - val_accuracy: 0.8974 - val_loss: 0.2987\n",
      "Epoch 179/200\n",
      "91/91 - 0s - 1ms/step - accuracy: 0.9451 - loss: 0.2919 - val_accuracy: 0.8974 - val_loss: 0.2981\n",
      "Epoch 180/200\n",
      "91/91 - 0s - 1ms/step - accuracy: 0.9341 - loss: 0.2913 - val_accuracy: 0.8974 - val_loss: 0.2975\n",
      "Epoch 181/200\n",
      "91/91 - 0s - 1ms/step - accuracy: 0.9451 - loss: 0.2907 - val_accuracy: 0.8974 - val_loss: 0.2970\n",
      "Epoch 182/200\n",
      "91/91 - 0s - 1ms/step - accuracy: 0.9341 - loss: 0.2900 - val_accuracy: 0.8974 - val_loss: 0.2964\n",
      "Epoch 183/200\n",
      "91/91 - 0s - 1ms/step - accuracy: 0.9341 - loss: 0.2894 - val_accuracy: 0.8974 - val_loss: 0.2958\n",
      "Epoch 184/200\n",
      "91/91 - 0s - 1ms/step - accuracy: 0.9341 - loss: 0.2888 - val_accuracy: 0.8974 - val_loss: 0.2953\n",
      "Epoch 185/200\n",
      "91/91 - 0s - 1ms/step - accuracy: 0.9341 - loss: 0.2882 - val_accuracy: 0.8974 - val_loss: 0.2947\n",
      "Epoch 186/200\n",
      "91/91 - 0s - 2ms/step - accuracy: 0.9451 - loss: 0.2875 - val_accuracy: 0.8974 - val_loss: 0.2942\n",
      "Epoch 187/200\n",
      "91/91 - 0s - 1ms/step - accuracy: 0.9341 - loss: 0.2870 - val_accuracy: 0.8974 - val_loss: 0.2936\n",
      "Epoch 188/200\n",
      "91/91 - 0s - 1ms/step - accuracy: 0.9341 - loss: 0.2864 - val_accuracy: 0.8974 - val_loss: 0.2931\n",
      "Epoch 189/200\n",
      "91/91 - 0s - 1ms/step - accuracy: 0.9451 - loss: 0.2858 - val_accuracy: 0.8974 - val_loss: 0.2926\n",
      "Epoch 190/200\n",
      "91/91 - 0s - 1ms/step - accuracy: 0.9341 - loss: 0.2852 - val_accuracy: 0.8974 - val_loss: 0.2920\n",
      "Epoch 191/200\n",
      "91/91 - 0s - 1ms/step - accuracy: 0.9341 - loss: 0.2846 - val_accuracy: 0.8974 - val_loss: 0.2915\n",
      "Epoch 192/200\n",
      "91/91 - 0s - 1ms/step - accuracy: 0.9451 - loss: 0.2840 - val_accuracy: 0.8974 - val_loss: 0.2910\n",
      "Epoch 193/200\n",
      "91/91 - 0s - 1ms/step - accuracy: 0.9451 - loss: 0.2834 - val_accuracy: 0.8974 - val_loss: 0.2904\n",
      "Epoch 194/200\n",
      "91/91 - 0s - 1ms/step - accuracy: 0.9341 - loss: 0.2829 - val_accuracy: 0.8974 - val_loss: 0.2899\n",
      "Epoch 195/200\n",
      "91/91 - 0s - 1ms/step - accuracy: 0.9341 - loss: 0.2823 - val_accuracy: 0.8974 - val_loss: 0.2894\n",
      "Epoch 196/200\n",
      "91/91 - 0s - 1ms/step - accuracy: 0.9451 - loss: 0.2818 - val_accuracy: 0.8974 - val_loss: 0.2889\n",
      "Epoch 197/200\n",
      "91/91 - 0s - 1ms/step - accuracy: 0.9341 - loss: 0.2812 - val_accuracy: 0.8974 - val_loss: 0.2884\n",
      "Epoch 198/200\n",
      "91/91 - 0s - 1ms/step - accuracy: 0.9341 - loss: 0.2807 - val_accuracy: 0.8974 - val_loss: 0.2879\n",
      "Epoch 199/200\n",
      "91/91 - 0s - 1ms/step - accuracy: 0.9341 - loss: 0.2801 - val_accuracy: 0.8974 - val_loss: 0.2874\n",
      "Epoch 200/200\n",
      "91/91 - 0s - 1ms/step - accuracy: 0.9341 - loss: 0.2796 - val_accuracy: 0.8974 - val_loss: 0.2869\n"
     ]
    }
   ],
   "source": [
    "history = model1.fit(x=X_train, y=y_train, epochs=200, batch_size=1, validation_data=(X_test, y_test), verbose=2, shuffle=True)"
   ]
  },
  {
   "cell_type": "code",
   "execution_count": 379,
   "metadata": {
    "colab": {
     "base_uri": "https://localhost:8080/",
     "height": 1000
    },
    "executionInfo": {
     "elapsed": 1294,
     "status": "ok",
     "timestamp": 1725869987275,
     "user": {
      "displayName": "Ulrich Bodenhofer",
      "userId": "07009582510819085803"
     },
     "user_tz": -120
    },
    "id": "o9lktqepEj53",
    "outputId": "3ebaae5b-db35-475d-9427-ca5272bbd4d8"
   },
   "outputs": [
    {
     "data": {
      "image/png": "[encoded data removed]",
      "text/plain": [
       "<Figure size 800x600 with 1 Axes>"
      ]
     },
     "metadata": {},
     "output_type": "display_data"
    },
    {
     "data": {
      "image/png": "[encoded data removed]",
      "text/plain": [
       "<Figure size 800x600 with 1 Axes>"
      ]
     },
     "metadata": {},
     "output_type": "display_data"
    }
   ],
   "source": [
    "plot_history(history)"
   ]
  },
  {
   "cell_type": "code",
   "execution_count": 380,
   "metadata": {
    "colab": {
     "base_uri": "https://localhost:8080/",
     "height": 699
    },
    "executionInfo": {
     "elapsed": 2774,
     "status": "ok",
     "timestamp": 1725870048096,
     "user": {
      "displayName": "Ulrich Bodenhofer",
      "userId": "07009582510819085803"
     },
     "user_tz": -120
    },
    "id": "tQ6oumYaEj54",
    "outputId": "2f3f2b4c-5986-489d-c8f1-adf66d53482d"
   },
   "outputs": [
    {
     "name": "stdout",
     "output_type": "stream",
     "text": [
      "\u001b[1m319/319\u001b[0m \u001b[32m━━━━━━━━━━━━━━━━━━━━\u001b[0m\u001b[37m\u001b[0m \u001b[1m0s\u001b[0m 733us/step\n"
     ]
    },
    {
     "data": {
      "image/png": "[encoded data removed]",
      "text/plain": [
       "<Figure size 800x800 with 1 Axes>"
      ]
     },
     "metadata": {},
     "output_type": "display_data"
    }
   ],
   "source": [
    "plot_2d_prediction(fish_data['data'], fish_data['target'], model1.predict, midval=0.5,\n",
    "                   xval=np.linspace(0, 1, 101), yval=np.linspace(0, 1, 101))"
   ]
  },
  {
   "cell_type": "code",
   "execution_count": 381,
   "metadata": {
    "executionInfo": {
     "elapsed": 452,
     "status": "ok",
     "timestamp": 1725870063259,
     "user": {
      "displayName": "Ulrich Bodenhofer",
      "userId": "07009582510819085803"
     },
     "user_tz": -120
    },
    "id": "vKia0a0kEj55"
   },
   "outputs": [],
   "source": [
    "model2 = tf.keras.models.Sequential([\n",
    "    tf.keras.layers.Input(shape=(fish_data['data'].shape[1], )),\n",
    "    tf.keras.layers.Dense(5, activation='sigmoid'),\n",
    "    tf.keras.layers.Dense(1, activation='sigmoid')\n",
    "])\n",
    "\n",
    "model2.compile(optimizer='sgd',\n",
    "              loss='binary_crossentropy',\n",
    "              metrics=['accuracy'])"
   ]
  },
  {
   "cell_type": "code",
   "execution_count": 382,
   "metadata": {
    "colab": {
     "base_uri": "https://localhost:8080/",
     "height": 193
    },
    "executionInfo": {
     "elapsed": 624,
     "status": "ok",
     "timestamp": 1725870067415,
     "user": {
      "displayName": "Ulrich Bodenhofer",
      "userId": "07009582510819085803"
     },
     "user_tz": -120
    },
    "id": "cQDOac2DEj55",
    "outputId": "5a585cb4-f6d1-4541-87b9-93531978ba13"
   },
   "outputs": [
    {
     "data": {
      "text/html": [
       "<pre style=\"white-space:pre;overflow-x:auto;line-height:normal;font-family:Menlo,'DejaVu Sans Mono',consolas,'Courier New',monospace\"><span style=\"font-weight: bold\">Model: \"sequential_70\"</span>\n",
       "</pre>\n"
      ],
      "text/plain": [
       "\u001b[1mModel: \"sequential_70\"\u001b[0m\n"
      ]
     },
     "metadata": {},
     "output_type": "display_data"
    },
    {
     "data": {
      "text/html": [
       "<pre style=\"white-space:pre;overflow-x:auto;line-height:normal;font-family:Menlo,'DejaVu Sans Mono',consolas,'Courier New',monospace\">┏━━━━━━━━━━━━━━━━━━━━━━━━━━━━━━━━━┳━━━━━━━━━━━━━━━━━━━━━━━━┳━━━━━━━━━━━━━━━┓\n",
       "┃<span style=\"font-weight: bold\"> Layer (type)                    </span>┃<span style=\"font-weight: bold\"> Output Shape           </span>┃<span style=\"font-weight: bold\">       Param # </span>┃\n",
       "┡━━━━━━━━━━━━━━━━━━━━━━━━━━━━━━━━━╇━━━━━━━━━━━━━━━━━━━━━━━━╇━━━━━━━━━━━━━━━┩\n",
       "│ dense_207 (<span style=\"color: #0087ff; text-decoration-color: #0087ff\">Dense</span>)               │ (<span style=\"color: #00d7ff; text-decoration-color: #00d7ff\">None</span>, <span style=\"color: #00af00; text-decoration-color: #00af00\">5</span>)              │            <span style=\"color: #00af00; text-decoration-color: #00af00\">15</span> │\n",
       "├─────────────────────────────────┼────────────────────────┼───────────────┤\n",
       "│ dense_208 (<span style=\"color: #0087ff; text-decoration-color: #0087ff\">Dense</span>)               │ (<span style=\"color: #00d7ff; text-decoration-color: #00d7ff\">None</span>, <span style=\"color: #00af00; text-decoration-color: #00af00\">1</span>)              │             <span style=\"color: #00af00; text-decoration-color: #00af00\">6</span> │\n",
       "└─────────────────────────────────┴────────────────────────┴───────────────┘\n",
       "</pre>\n"
      ],
      "text/plain": [
       "┏━━━━━━━━━━━━━━━━━━━━━━━━━━━━━━━━━┳━━━━━━━━━━━━━━━━━━━━━━━━┳━━━━━━━━━━━━━━━┓\n",
       "┃\u001b[1m \u001b[0m\u001b[1mLayer (type)                   \u001b[0m\u001b[1m \u001b[0m┃\u001b[1m \u001b[0m\u001b[1mOutput Shape          \u001b[0m\u001b[1m \u001b[0m┃\u001b[1m \u001b[0m\u001b[1m      Param #\u001b[0m\u001b[1m \u001b[0m┃\n",
       "┡━━━━━━━━━━━━━━━━━━━━━━━━━━━━━━━━━╇━━━━━━━━━━━━━━━━━━━━━━━━╇━━━━━━━━━━━━━━━┩\n",
       "│ dense_207 (\u001b[38;5;33mDense\u001b[0m)               │ (\u001b[38;5;45mNone\u001b[0m, \u001b[38;5;34m5\u001b[0m)              │            \u001b[38;5;34m15\u001b[0m │\n",
       "├─────────────────────────────────┼────────────────────────┼───────────────┤\n",
       "│ dense_208 (\u001b[38;5;33mDense\u001b[0m)               │ (\u001b[38;5;45mNone\u001b[0m, \u001b[38;5;34m1\u001b[0m)              │             \u001b[38;5;34m6\u001b[0m │\n",
       "└─────────────────────────────────┴────────────────────────┴───────────────┘\n"
      ]
     },
     "metadata": {},
     "output_type": "display_data"
    },
    {
     "data": {
      "text/html": [
       "<pre style=\"white-space:pre;overflow-x:auto;line-height:normal;font-family:Menlo,'DejaVu Sans Mono',consolas,'Courier New',monospace\"><span style=\"font-weight: bold\"> Total params: </span><span style=\"color: #00af00; text-decoration-color: #00af00\">21</span> (84.00 B)\n",
       "</pre>\n"
      ],
      "text/plain": [
       "\u001b[1m Total params: \u001b[0m\u001b[38;5;34m21\u001b[0m (84.00 B)\n"
      ]
     },
     "metadata": {},
     "output_type": "display_data"
    },
    {
     "data": {
      "text/html": [
       "<pre style=\"white-space:pre;overflow-x:auto;line-height:normal;font-family:Menlo,'DejaVu Sans Mono',consolas,'Courier New',monospace\"><span style=\"font-weight: bold\"> Trainable params: </span><span style=\"color: #00af00; text-decoration-color: #00af00\">21</span> (84.00 B)\n",
       "</pre>\n"
      ],
      "text/plain": [
       "\u001b[1m Trainable params: \u001b[0m\u001b[38;5;34m21\u001b[0m (84.00 B)\n"
      ]
     },
     "metadata": {},
     "output_type": "display_data"
    },
    {
     "data": {
      "text/html": [
       "<pre style=\"white-space:pre;overflow-x:auto;line-height:normal;font-family:Menlo,'DejaVu Sans Mono',consolas,'Courier New',monospace\"><span style=\"font-weight: bold\"> Non-trainable params: </span><span style=\"color: #00af00; text-decoration-color: #00af00\">0</span> (0.00 B)\n",
       "</pre>\n"
      ],
      "text/plain": [
       "\u001b[1m Non-trainable params: \u001b[0m\u001b[38;5;34m0\u001b[0m (0.00 B)\n"
      ]
     },
     "metadata": {},
     "output_type": "display_data"
    }
   ],
   "source": [
    "model2.summary()"
   ]
  },
  {
   "cell_type": "code",
   "execution_count": 383,
   "metadata": {
    "colab": {
     "base_uri": "https://localhost:8080/"
    },
    "executionInfo": {
     "elapsed": 57605,
     "status": "ok",
     "timestamp": 1725870141373,
     "user": {
      "displayName": "Ulrich Bodenhofer",
      "userId": "07009582510819085803"
     },
     "user_tz": -120
    },
    "id": "X7ztIpoPEj56",
    "outputId": "a381f4fd-e986-4445-9c29-15eba62501d2"
   },
   "outputs": [
    {
     "name": "stdout",
     "output_type": "stream",
     "text": [
      "Epoch 1/200\n",
      "91/91 - 1s - 6ms/step - accuracy: 0.4286 - loss: 0.7115 - val_accuracy: 0.2051 - val_loss: 0.7036\n",
      "Epoch 2/200\n",
      "91/91 - 0s - 1ms/step - accuracy: 0.3407 - loss: 0.7046 - val_accuracy: 0.5897 - val_loss: 0.6965\n",
      "Epoch 3/200\n",
      "91/91 - 0s - 1ms/step - accuracy: 0.4945 - loss: 0.7023 - val_accuracy: 0.5897 - val_loss: 0.6927\n",
      "Epoch 4/200\n",
      "91/91 - 0s - 1ms/step - accuracy: 0.5495 - loss: 0.7010 - val_accuracy: 0.5897 - val_loss: 0.6917\n",
      "Epoch 5/200\n",
      "91/91 - 0s - 1ms/step - accuracy: 0.5495 - loss: 0.7000 - val_accuracy: 0.5897 - val_loss: 0.6905\n",
      "Epoch 6/200\n",
      "91/91 - 0s - 1ms/step - accuracy: 0.5495 - loss: 0.6987 - val_accuracy: 0.5897 - val_loss: 0.6889\n",
      "Epoch 7/200\n",
      "91/91 - 0s - 1ms/step - accuracy: 0.5495 - loss: 0.6972 - val_accuracy: 0.5897 - val_loss: 0.6868\n",
      "Epoch 8/200\n",
      "91/91 - 0s - 1ms/step - accuracy: 0.5495 - loss: 0.6955 - val_accuracy: 0.5897 - val_loss: 0.6878\n",
      "Epoch 9/200\n",
      "91/91 - 0s - 1ms/step - accuracy: 0.5495 - loss: 0.6952 - val_accuracy: 0.5897 - val_loss: 0.6855\n",
      "Epoch 10/200\n",
      "91/91 - 0s - 1ms/step - accuracy: 0.5495 - loss: 0.6940 - val_accuracy: 0.5897 - val_loss: 0.6848\n",
      "Epoch 11/200\n",
      "91/91 - 0s - 1ms/step - accuracy: 0.5495 - loss: 0.6929 - val_accuracy: 0.5897 - val_loss: 0.6832\n",
      "Epoch 12/200\n",
      "91/91 - 0s - 1ms/step - accuracy: 0.5495 - loss: 0.6918 - val_accuracy: 0.5897 - val_loss: 0.6823\n",
      "Epoch 13/200\n",
      "91/91 - 0s - 1ms/step - accuracy: 0.5495 - loss: 0.6907 - val_accuracy: 0.5897 - val_loss: 0.6812\n",
      "Epoch 14/200\n",
      "91/91 - 0s - 1ms/step - accuracy: 0.5495 - loss: 0.6893 - val_accuracy: 0.5897 - val_loss: 0.6809\n",
      "Epoch 15/200\n",
      "91/91 - 0s - 1ms/step - accuracy: 0.5495 - loss: 0.6884 - val_accuracy: 0.5897 - val_loss: 0.6799\n",
      "Epoch 16/200\n",
      "91/91 - 0s - 1ms/step - accuracy: 0.5495 - loss: 0.6872 - val_accuracy: 0.5897 - val_loss: 0.6779\n",
      "Epoch 17/200\n",
      "91/91 - 0s - 1ms/step - accuracy: 0.5495 - loss: 0.6861 - val_accuracy: 0.5897 - val_loss: 0.6762\n",
      "Epoch 18/200\n",
      "91/91 - 0s - 1ms/step - accuracy: 0.5495 - loss: 0.6851 - val_accuracy: 0.5897 - val_loss: 0.6751\n",
      "Epoch 19/200\n",
      "91/91 - 0s - 1ms/step - accuracy: 0.5495 - loss: 0.6838 - val_accuracy: 0.5897 - val_loss: 0.6745\n",
      "Epoch 20/200\n",
      "91/91 - 0s - 1ms/step - accuracy: 0.5495 - loss: 0.6828 - val_accuracy: 0.5897 - val_loss: 0.6738\n",
      "Epoch 21/200\n",
      "91/91 - 0s - 1ms/step - accuracy: 0.5495 - loss: 0.6817 - val_accuracy: 0.5897 - val_loss: 0.6722\n",
      "Epoch 22/200\n",
      "91/91 - 0s - 1ms/step - accuracy: 0.5934 - loss: 0.6797 - val_accuracy: 0.5897 - val_loss: 0.6697\n",
      "Epoch 23/200\n",
      "91/91 - 0s - 1ms/step - accuracy: 0.5495 - loss: 0.6793 - val_accuracy: 0.5897 - val_loss: 0.6689\n",
      "Epoch 24/200\n",
      "91/91 - 0s - 1ms/step - accuracy: 0.5495 - loss: 0.6783 - val_accuracy: 0.5897 - val_loss: 0.6679\n",
      "Epoch 25/200\n",
      "91/91 - 0s - 1ms/step - accuracy: 0.5495 - loss: 0.6768 - val_accuracy: 0.5897 - val_loss: 0.6680\n",
      "Epoch 26/200\n",
      "91/91 - 0s - 1ms/step - accuracy: 0.5495 - loss: 0.6756 - val_accuracy: 0.5897 - val_loss: 0.6658\n",
      "Epoch 27/200\n",
      "91/91 - 0s - 1ms/step - accuracy: 0.5495 - loss: 0.6746 - val_accuracy: 0.5897 - val_loss: 0.6652\n",
      "Epoch 28/200\n",
      "91/91 - 0s - 1ms/step - accuracy: 0.5495 - loss: 0.6728 - val_accuracy: 0.5897 - val_loss: 0.6657\n",
      "Epoch 29/200\n",
      "91/91 - 0s - 1ms/step - accuracy: 0.5495 - loss: 0.6724 - val_accuracy: 0.5897 - val_loss: 0.6641\n",
      "Epoch 30/200\n",
      "91/91 - 0s - 1ms/step - accuracy: 0.5824 - loss: 0.6709 - val_accuracy: 0.5897 - val_loss: 0.6623\n",
      "Epoch 31/200\n",
      "91/91 - 0s - 1ms/step - accuracy: 0.6154 - loss: 0.6694 - val_accuracy: 0.5897 - val_loss: 0.6600\n",
      "Epoch 32/200\n",
      "91/91 - 0s - 1ms/step - accuracy: 0.5495 - loss: 0.6685 - val_accuracy: 0.5897 - val_loss: 0.6595\n",
      "Epoch 33/200\n",
      "91/91 - 0s - 1ms/step - accuracy: 0.5495 - loss: 0.6663 - val_accuracy: 0.5897 - val_loss: 0.6599\n",
      "Epoch 34/200\n",
      "91/91 - 0s - 2ms/step - accuracy: 0.5714 - loss: 0.6661 - val_accuracy: 0.5897 - val_loss: 0.6579\n",
      "Epoch 35/200\n",
      "91/91 - 0s - 1ms/step - accuracy: 0.7253 - loss: 0.6639 - val_accuracy: 0.5897 - val_loss: 0.6547\n",
      "Epoch 36/200\n",
      "91/91 - 0s - 1ms/step - accuracy: 0.5495 - loss: 0.6634 - val_accuracy: 0.5897 - val_loss: 0.6537\n",
      "Epoch 37/200\n",
      "91/91 - 0s - 1ms/step - accuracy: 0.5604 - loss: 0.6619 - val_accuracy: 0.5897 - val_loss: 0.6523\n",
      "Epoch 38/200\n",
      "91/91 - 0s - 1ms/step - accuracy: 0.6154 - loss: 0.6602 - val_accuracy: 0.5897 - val_loss: 0.6505\n",
      "Epoch 39/200\n",
      "91/91 - 0s - 1ms/step - accuracy: 0.5495 - loss: 0.6590 - val_accuracy: 0.5897 - val_loss: 0.6488\n",
      "Epoch 40/200\n",
      "91/91 - 0s - 1ms/step - accuracy: 0.5495 - loss: 0.6576 - val_accuracy: 0.5897 - val_loss: 0.6474\n",
      "Epoch 41/200\n",
      "91/91 - 0s - 1ms/step - accuracy: 0.5604 - loss: 0.6563 - val_accuracy: 0.5897 - val_loss: 0.6463\n",
      "Epoch 42/200\n",
      "91/91 - 0s - 1ms/step - accuracy: 0.6484 - loss: 0.6543 - val_accuracy: 0.5897 - val_loss: 0.6444\n",
      "Epoch 43/200\n",
      "91/91 - 0s - 1ms/step - accuracy: 0.5604 - loss: 0.6530 - val_accuracy: 0.5897 - val_loss: 0.6437\n",
      "Epoch 44/200\n",
      "91/91 - 0s - 1ms/step - accuracy: 0.6154 - loss: 0.6513 - val_accuracy: 0.5897 - val_loss: 0.6417\n",
      "Epoch 45/200\n",
      "91/91 - 0s - 1ms/step - accuracy: 0.6154 - loss: 0.6498 - val_accuracy: 0.5897 - val_loss: 0.6398\n",
      "Epoch 46/200\n",
      "91/91 - 0s - 1ms/step - accuracy: 0.5604 - loss: 0.6481 - val_accuracy: 0.6410 - val_loss: 0.6392\n",
      "Epoch 47/200\n",
      "91/91 - 0s - 1ms/step - accuracy: 0.6374 - loss: 0.6465 - val_accuracy: 0.6410 - val_loss: 0.6373\n",
      "Epoch 48/200\n",
      "91/91 - 0s - 1ms/step - accuracy: 0.7253 - loss: 0.6442 - val_accuracy: 0.6410 - val_loss: 0.6348\n",
      "Epoch 49/200\n",
      "91/91 - 0s - 1ms/step - accuracy: 0.7582 - loss: 0.6424 - val_accuracy: 0.5897 - val_loss: 0.6325\n",
      "Epoch 50/200\n",
      "91/91 - 0s - 1ms/step - accuracy: 0.5934 - loss: 0.6397 - val_accuracy: 0.7436 - val_loss: 0.6328\n",
      "Epoch 51/200\n",
      "91/91 - 0s - 1ms/step - accuracy: 0.7143 - loss: 0.6393 - val_accuracy: 0.7179 - val_loss: 0.6304\n",
      "Epoch 52/200\n",
      "91/91 - 0s - 1ms/step - accuracy: 0.6264 - loss: 0.6371 - val_accuracy: 0.7436 - val_loss: 0.6289\n",
      "Epoch 53/200\n",
      "91/91 - 0s - 1ms/step - accuracy: 0.7253 - loss: 0.6355 - val_accuracy: 0.7436 - val_loss: 0.6268\n",
      "Epoch 54/200\n",
      "91/91 - 0s - 1ms/step - accuracy: 0.6813 - loss: 0.6332 - val_accuracy: 0.7436 - val_loss: 0.6251\n",
      "Epoch 55/200\n",
      "91/91 - 0s - 1ms/step - accuracy: 0.7692 - loss: 0.6314 - val_accuracy: 0.7436 - val_loss: 0.6227\n",
      "Epoch 56/200\n",
      "91/91 - 0s - 1ms/step - accuracy: 0.7253 - loss: 0.6293 - val_accuracy: 0.7692 - val_loss: 0.6207\n",
      "Epoch 57/200\n",
      "91/91 - 0s - 2ms/step - accuracy: 0.7033 - loss: 0.6271 - val_accuracy: 0.8462 - val_loss: 0.6190\n",
      "Epoch 58/200\n",
      "91/91 - 0s - 1ms/step - accuracy: 0.7582 - loss: 0.6250 - val_accuracy: 0.8462 - val_loss: 0.6169\n",
      "Epoch 59/200\n",
      "91/91 - 0s - 1ms/step - accuracy: 0.7143 - loss: 0.6223 - val_accuracy: 0.8718 - val_loss: 0.6156\n",
      "Epoch 60/200\n",
      "91/91 - 0s - 2ms/step - accuracy: 0.8681 - loss: 0.6206 - val_accuracy: 0.8462 - val_loss: 0.6123\n",
      "Epoch 61/200\n",
      "91/91 - 0s - 1ms/step - accuracy: 0.8571 - loss: 0.6181 - val_accuracy: 0.8462 - val_loss: 0.6092\n",
      "Epoch 62/200\n",
      "91/91 - 0s - 1ms/step - accuracy: 0.7363 - loss: 0.6157 - val_accuracy: 0.8462 - val_loss: 0.6073\n",
      "Epoch 63/200\n",
      "91/91 - 0s - 1ms/step - accuracy: 0.8462 - loss: 0.6131 - val_accuracy: 0.8462 - val_loss: 0.6043\n",
      "Epoch 64/200\n",
      "91/91 - 0s - 1ms/step - accuracy: 0.7802 - loss: 0.6103 - val_accuracy: 0.8718 - val_loss: 0.6029\n",
      "Epoch 65/200\n",
      "91/91 - 0s - 1ms/step - accuracy: 0.8462 - loss: 0.6083 - val_accuracy: 0.8718 - val_loss: 0.6005\n",
      "Epoch 66/200\n",
      "91/91 - 0s - 1ms/step - accuracy: 0.8901 - loss: 0.6056 - val_accuracy: 0.8718 - val_loss: 0.5971\n",
      "Epoch 67/200\n",
      "91/91 - 0s - 1ms/step - accuracy: 0.8462 - loss: 0.6028 - val_accuracy: 0.8718 - val_loss: 0.5949\n",
      "Epoch 68/200\n",
      "91/91 - 0s - 1ms/step - accuracy: 0.8681 - loss: 0.6002 - val_accuracy: 0.8718 - val_loss: 0.5923\n",
      "Epoch 69/200\n",
      "91/91 - 0s - 1ms/step - accuracy: 0.8791 - loss: 0.5971 - val_accuracy: 0.8718 - val_loss: 0.5884\n",
      "Epoch 70/200\n",
      "91/91 - 0s - 1ms/step - accuracy: 0.8571 - loss: 0.5947 - val_accuracy: 0.8718 - val_loss: 0.5860\n",
      "Epoch 71/200\n",
      "91/91 - 0s - 2ms/step - accuracy: 0.9121 - loss: 0.5915 - val_accuracy: 0.8718 - val_loss: 0.5828\n",
      "Epoch 72/200\n",
      "91/91 - 0s - 1ms/step - accuracy: 0.8901 - loss: 0.5888 - val_accuracy: 0.8718 - val_loss: 0.5803\n",
      "Epoch 73/200\n",
      "91/91 - 0s - 1ms/step - accuracy: 0.8571 - loss: 0.5856 - val_accuracy: 0.8974 - val_loss: 0.5782\n",
      "Epoch 74/200\n",
      "91/91 - 0s - 1ms/step - accuracy: 0.9011 - loss: 0.5828 - val_accuracy: 0.8974 - val_loss: 0.5744\n",
      "Epoch 75/200\n",
      "91/91 - 0s - 1ms/step - accuracy: 0.9121 - loss: 0.5798 - val_accuracy: 0.8974 - val_loss: 0.5712\n",
      "Epoch 76/200\n",
      "91/91 - 0s - 1ms/step - accuracy: 0.9451 - loss: 0.5756 - val_accuracy: 0.8718 - val_loss: 0.5671\n",
      "Epoch 77/200\n",
      "91/91 - 0s - 1ms/step - accuracy: 0.8681 - loss: 0.5734 - val_accuracy: 0.8974 - val_loss: 0.5646\n",
      "Epoch 78/200\n",
      "91/91 - 0s - 1ms/step - accuracy: 0.8901 - loss: 0.5700 - val_accuracy: 0.8974 - val_loss: 0.5619\n",
      "Epoch 79/200\n",
      "91/91 - 0s - 1ms/step - accuracy: 0.9121 - loss: 0.5669 - val_accuracy: 0.8974 - val_loss: 0.5590\n",
      "Epoch 80/200\n",
      "91/91 - 0s - 1ms/step - accuracy: 0.9341 - loss: 0.5636 - val_accuracy: 0.8974 - val_loss: 0.5553\n",
      "Epoch 81/200\n",
      "91/91 - 0s - 1ms/step - accuracy: 0.9121 - loss: 0.5600 - val_accuracy: 0.8974 - val_loss: 0.5523\n",
      "Epoch 82/200\n",
      "91/91 - 0s - 1ms/step - accuracy: 0.9341 - loss: 0.5567 - val_accuracy: 0.8974 - val_loss: 0.5487\n",
      "Epoch 83/200\n",
      "91/91 - 0s - 2ms/step - accuracy: 0.9121 - loss: 0.5532 - val_accuracy: 0.8974 - val_loss: 0.5454\n",
      "Epoch 84/200\n",
      "91/91 - 0s - 1ms/step - accuracy: 0.9341 - loss: 0.5495 - val_accuracy: 0.9231 - val_loss: 0.5425\n",
      "Epoch 85/200\n",
      "91/91 - 0s - 1ms/step - accuracy: 0.9560 - loss: 0.5461 - val_accuracy: 0.8974 - val_loss: 0.5380\n",
      "Epoch 86/200\n",
      "91/91 - 0s - 1ms/step - accuracy: 0.9231 - loss: 0.5423 - val_accuracy: 0.9231 - val_loss: 0.5350\n",
      "Epoch 87/200\n",
      "91/91 - 0s - 1ms/step - accuracy: 0.9231 - loss: 0.5389 - val_accuracy: 0.9231 - val_loss: 0.5313\n",
      "Epoch 88/200\n",
      "91/91 - 0s - 1ms/step - accuracy: 0.9341 - loss: 0.5352 - val_accuracy: 0.8974 - val_loss: 0.5277\n",
      "Epoch 89/200\n",
      "91/91 - 0s - 1ms/step - accuracy: 0.9231 - loss: 0.5315 - val_accuracy: 0.8974 - val_loss: 0.5240\n",
      "Epoch 90/200\n",
      "91/91 - 0s - 1ms/step - accuracy: 0.9231 - loss: 0.5277 - val_accuracy: 0.8974 - val_loss: 0.5203\n",
      "Epoch 91/200\n",
      "91/91 - 0s - 1ms/step - accuracy: 0.9121 - loss: 0.5239 - val_accuracy: 0.8974 - val_loss: 0.5161\n",
      "Epoch 92/200\n",
      "91/91 - 0s - 1ms/step - accuracy: 0.9231 - loss: 0.5199 - val_accuracy: 0.9231 - val_loss: 0.5130\n",
      "Epoch 93/200\n",
      "91/91 - 0s - 1ms/step - accuracy: 0.9451 - loss: 0.5164 - val_accuracy: 0.9231 - val_loss: 0.5091\n",
      "Epoch 94/200\n",
      "91/91 - 0s - 1ms/step - accuracy: 0.9341 - loss: 0.5124 - val_accuracy: 0.9231 - val_loss: 0.5053\n",
      "Epoch 95/200\n",
      "91/91 - 0s - 1ms/step - accuracy: 0.9231 - loss: 0.5081 - val_accuracy: 0.8718 - val_loss: 0.5005\n",
      "Epoch 96/200\n",
      "91/91 - 0s - 1ms/step - accuracy: 0.9451 - loss: 0.5045 - val_accuracy: 0.8974 - val_loss: 0.4964\n",
      "Epoch 97/200\n",
      "91/91 - 0s - 1ms/step - accuracy: 0.9451 - loss: 0.5006 - val_accuracy: 0.8974 - val_loss: 0.4926\n",
      "Epoch 98/200\n",
      "91/91 - 0s - 1ms/step - accuracy: 0.9451 - loss: 0.4968 - val_accuracy: 0.8974 - val_loss: 0.4893\n",
      "Epoch 99/200\n",
      "91/91 - 0s - 1ms/step - accuracy: 0.9451 - loss: 0.4926 - val_accuracy: 0.9231 - val_loss: 0.4861\n",
      "Epoch 100/200\n",
      "91/91 - 0s - 1ms/step - accuracy: 0.9341 - loss: 0.4888 - val_accuracy: 0.8974 - val_loss: 0.4816\n",
      "Epoch 101/200\n",
      "91/91 - 0s - 1ms/step - accuracy: 0.9451 - loss: 0.4849 - val_accuracy: 0.8974 - val_loss: 0.4776\n",
      "Epoch 102/200\n",
      "91/91 - 0s - 1ms/step - accuracy: 0.9451 - loss: 0.4806 - val_accuracy: 0.8974 - val_loss: 0.4733\n",
      "Epoch 103/200\n",
      "91/91 - 0s - 1ms/step - accuracy: 0.9341 - loss: 0.4771 - val_accuracy: 0.8974 - val_loss: 0.4696\n",
      "Epoch 104/200\n",
      "91/91 - 0s - 1ms/step - accuracy: 0.9231 - loss: 0.4723 - val_accuracy: 0.9231 - val_loss: 0.4666\n",
      "Epoch 105/200\n",
      "91/91 - 0s - 1ms/step - accuracy: 0.9231 - loss: 0.4689 - val_accuracy: 0.9231 - val_loss: 0.4622\n",
      "Epoch 106/200\n",
      "91/91 - 0s - 1ms/step - accuracy: 0.9231 - loss: 0.4648 - val_accuracy: 0.8974 - val_loss: 0.4580\n",
      "Epoch 107/200\n",
      "91/91 - 0s - 2ms/step - accuracy: 0.9341 - loss: 0.4611 - val_accuracy: 0.9231 - val_loss: 0.4544\n",
      "Epoch 108/200\n",
      "91/91 - 0s - 1ms/step - accuracy: 0.9451 - loss: 0.4570 - val_accuracy: 0.8974 - val_loss: 0.4504\n",
      "Epoch 109/200\n",
      "91/91 - 0s - 1ms/step - accuracy: 0.9451 - loss: 0.4532 - val_accuracy: 0.9231 - val_loss: 0.4466\n",
      "Epoch 110/200\n",
      "91/91 - 0s - 1ms/step - accuracy: 0.9341 - loss: 0.4491 - val_accuracy: 0.9231 - val_loss: 0.4429\n",
      "Epoch 111/200\n",
      "91/91 - 0s - 1ms/step - accuracy: 0.9451 - loss: 0.4450 - val_accuracy: 0.8974 - val_loss: 0.4388\n",
      "Epoch 112/200\n",
      "91/91 - 0s - 1ms/step - accuracy: 0.9451 - loss: 0.4411 - val_accuracy: 0.8974 - val_loss: 0.4349\n",
      "Epoch 113/200\n",
      "91/91 - 0s - 1ms/step - accuracy: 0.9231 - loss: 0.4375 - val_accuracy: 0.9231 - val_loss: 0.4313\n",
      "Epoch 114/200\n",
      "91/91 - 0s - 1ms/step - accuracy: 0.9451 - loss: 0.4326 - val_accuracy: 0.8974 - val_loss: 0.4272\n",
      "Epoch 115/200\n",
      "91/91 - 0s - 1ms/step - accuracy: 0.9341 - loss: 0.4296 - val_accuracy: 0.9231 - val_loss: 0.4240\n",
      "Epoch 116/200\n",
      "91/91 - 0s - 1ms/step - accuracy: 0.9451 - loss: 0.4255 - val_accuracy: 0.9231 - val_loss: 0.4200\n",
      "Epoch 117/200\n",
      "91/91 - 0s - 1ms/step - accuracy: 0.9451 - loss: 0.4212 - val_accuracy: 0.9231 - val_loss: 0.4172\n",
      "Epoch 118/200\n",
      "91/91 - 0s - 1ms/step - accuracy: 0.9341 - loss: 0.4181 - val_accuracy: 0.9231 - val_loss: 0.4131\n",
      "Epoch 119/200\n",
      "91/91 - 0s - 1ms/step - accuracy: 0.9341 - loss: 0.4144 - val_accuracy: 0.9231 - val_loss: 0.4097\n",
      "Epoch 120/200\n",
      "91/91 - 0s - 1ms/step - accuracy: 0.9451 - loss: 0.4108 - val_accuracy: 0.9231 - val_loss: 0.4059\n",
      "Epoch 121/200\n",
      "91/91 - 0s - 1ms/step - accuracy: 0.9451 - loss: 0.4067 - val_accuracy: 0.9231 - val_loss: 0.4021\n",
      "Epoch 122/200\n",
      "91/91 - 0s - 1ms/step - accuracy: 0.9341 - loss: 0.4033 - val_accuracy: 0.9231 - val_loss: 0.3985\n",
      "Epoch 123/200\n",
      "91/91 - 0s - 1ms/step - accuracy: 0.9341 - loss: 0.3986 - val_accuracy: 0.9231 - val_loss: 0.3959\n",
      "Epoch 124/200\n",
      "91/91 - 0s - 1ms/step - accuracy: 0.9341 - loss: 0.3953 - val_accuracy: 0.9231 - val_loss: 0.3917\n",
      "Epoch 125/200\n",
      "91/91 - 0s - 1ms/step - accuracy: 0.9341 - loss: 0.3925 - val_accuracy: 0.9231 - val_loss: 0.3884\n",
      "Epoch 126/200\n",
      "91/91 - 0s - 1ms/step - accuracy: 0.9341 - loss: 0.3886 - val_accuracy: 0.9231 - val_loss: 0.3856\n",
      "Epoch 127/200\n",
      "91/91 - 0s - 1ms/step - accuracy: 0.9451 - loss: 0.3856 - val_accuracy: 0.9231 - val_loss: 0.3821\n",
      "Epoch 128/200\n",
      "91/91 - 0s - 1ms/step - accuracy: 0.9341 - loss: 0.3819 - val_accuracy: 0.9231 - val_loss: 0.3789\n",
      "Epoch 129/200\n",
      "91/91 - 0s - 1ms/step - accuracy: 0.9451 - loss: 0.3786 - val_accuracy: 0.9231 - val_loss: 0.3755\n",
      "Epoch 130/200\n",
      "91/91 - 0s - 1ms/step - accuracy: 0.9451 - loss: 0.3751 - val_accuracy: 0.9231 - val_loss: 0.3723\n",
      "Epoch 131/200\n",
      "91/91 - 0s - 1ms/step - accuracy: 0.9451 - loss: 0.3717 - val_accuracy: 0.9231 - val_loss: 0.3693\n",
      "Epoch 132/200\n",
      "91/91 - 0s - 1ms/step - accuracy: 0.9451 - loss: 0.3684 - val_accuracy: 0.9231 - val_loss: 0.3663\n",
      "Epoch 133/200\n",
      "91/91 - 0s - 1ms/step - accuracy: 0.9451 - loss: 0.3653 - val_accuracy: 0.9231 - val_loss: 0.3630\n",
      "Epoch 134/200\n",
      "91/91 - 0s - 1ms/step - accuracy: 0.9451 - loss: 0.3618 - val_accuracy: 0.9231 - val_loss: 0.3601\n",
      "Epoch 135/200\n",
      "91/91 - 0s - 1ms/step - accuracy: 0.9341 - loss: 0.3587 - val_accuracy: 0.9231 - val_loss: 0.3571\n",
      "Epoch 136/200\n",
      "91/91 - 0s - 1ms/step - accuracy: 0.9341 - loss: 0.3555 - val_accuracy: 0.9231 - val_loss: 0.3537\n",
      "Epoch 137/200\n",
      "91/91 - 0s - 1ms/step - accuracy: 0.9231 - loss: 0.3524 - val_accuracy: 0.9231 - val_loss: 0.3508\n",
      "Epoch 138/200\n",
      "91/91 - 0s - 1ms/step - accuracy: 0.9341 - loss: 0.3493 - val_accuracy: 0.9231 - val_loss: 0.3478\n",
      "Epoch 139/200\n",
      "91/91 - 0s - 1ms/step - accuracy: 0.9451 - loss: 0.3462 - val_accuracy: 0.9231 - val_loss: 0.3451\n",
      "Epoch 140/200\n",
      "91/91 - 0s - 1ms/step - accuracy: 0.9341 - loss: 0.3433 - val_accuracy: 0.9231 - val_loss: 0.3423\n",
      "Epoch 141/200\n",
      "91/91 - 0s - 1ms/step - accuracy: 0.9341 - loss: 0.3402 - val_accuracy: 0.9231 - val_loss: 0.3395\n",
      "Epoch 142/200\n",
      "91/91 - 0s - 1ms/step - accuracy: 0.9341 - loss: 0.3375 - val_accuracy: 0.9231 - val_loss: 0.3368\n",
      "Epoch 143/200\n",
      "91/91 - 0s - 1ms/step - accuracy: 0.9341 - loss: 0.3345 - val_accuracy: 0.9231 - val_loss: 0.3342\n",
      "Epoch 144/200\n",
      "91/91 - 0s - 1ms/step - accuracy: 0.9451 - loss: 0.3319 - val_accuracy: 0.9231 - val_loss: 0.3316\n",
      "Epoch 145/200\n",
      "91/91 - 0s - 1ms/step - accuracy: 0.9341 - loss: 0.3285 - val_accuracy: 0.9231 - val_loss: 0.3290\n",
      "Epoch 146/200\n",
      "91/91 - 0s - 1ms/step - accuracy: 0.9341 - loss: 0.3262 - val_accuracy: 0.9231 - val_loss: 0.3265\n",
      "Epoch 147/200\n",
      "91/91 - 0s - 1ms/step - accuracy: 0.9341 - loss: 0.3234 - val_accuracy: 0.9231 - val_loss: 0.3240\n",
      "Epoch 148/200\n",
      "91/91 - 0s - 1ms/step - accuracy: 0.9341 - loss: 0.3210 - val_accuracy: 0.9231 - val_loss: 0.3216\n",
      "Epoch 149/200\n",
      "91/91 - 0s - 1ms/step - accuracy: 0.9341 - loss: 0.3182 - val_accuracy: 0.9231 - val_loss: 0.3192\n",
      "Epoch 150/200\n",
      "91/91 - 0s - 1ms/step - accuracy: 0.9451 - loss: 0.3157 - val_accuracy: 0.9231 - val_loss: 0.3169\n",
      "Epoch 151/200\n",
      "91/91 - 0s - 1ms/step - accuracy: 0.9341 - loss: 0.3127 - val_accuracy: 0.9231 - val_loss: 0.3146\n",
      "Epoch 152/200\n",
      "91/91 - 0s - 1ms/step - accuracy: 0.9451 - loss: 0.3105 - val_accuracy: 0.9231 - val_loss: 0.3123\n",
      "Epoch 153/200\n",
      "91/91 - 0s - 1ms/step - accuracy: 0.9341 - loss: 0.3081 - val_accuracy: 0.9231 - val_loss: 0.3101\n",
      "Epoch 154/200\n",
      "91/91 - 0s - 1ms/step - accuracy: 0.9341 - loss: 0.3057 - val_accuracy: 0.9231 - val_loss: 0.3079\n",
      "Epoch 155/200\n",
      "91/91 - 0s - 1ms/step - accuracy: 0.9451 - loss: 0.3028 - val_accuracy: 0.8974 - val_loss: 0.3059\n",
      "Epoch 156/200\n",
      "91/91 - 0s - 1ms/step - accuracy: 0.9341 - loss: 0.3010 - val_accuracy: 0.9231 - val_loss: 0.3036\n",
      "Epoch 157/200\n",
      "91/91 - 0s - 1ms/step - accuracy: 0.9341 - loss: 0.2984 - val_accuracy: 0.8974 - val_loss: 0.3017\n",
      "Epoch 158/200\n",
      "91/91 - 0s - 1ms/step - accuracy: 0.9341 - loss: 0.2965 - val_accuracy: 0.9231 - val_loss: 0.2995\n",
      "Epoch 159/200\n",
      "91/91 - 0s - 1ms/step - accuracy: 0.9451 - loss: 0.2941 - val_accuracy: 0.9231 - val_loss: 0.2975\n",
      "Epoch 160/200\n",
      "91/91 - 0s - 1ms/step - accuracy: 0.9341 - loss: 0.2920 - val_accuracy: 0.9231 - val_loss: 0.2955\n",
      "Epoch 161/200\n",
      "91/91 - 0s - 1ms/step - accuracy: 0.9341 - loss: 0.2898 - val_accuracy: 0.9231 - val_loss: 0.2936\n",
      "Epoch 162/200\n",
      "91/91 - 0s - 1ms/step - accuracy: 0.9341 - loss: 0.2877 - val_accuracy: 0.9231 - val_loss: 0.2916\n",
      "Epoch 163/200\n",
      "91/91 - 0s - 1ms/step - accuracy: 0.9341 - loss: 0.2855 - val_accuracy: 0.9231 - val_loss: 0.2898\n",
      "Epoch 164/200\n",
      "91/91 - 0s - 1ms/step - accuracy: 0.9341 - loss: 0.2833 - val_accuracy: 0.9231 - val_loss: 0.2879\n",
      "Epoch 165/200\n",
      "91/91 - 0s - 1ms/step - accuracy: 0.9341 - loss: 0.2815 - val_accuracy: 0.9231 - val_loss: 0.2861\n",
      "Epoch 166/200\n",
      "91/91 - 0s - 1ms/step - accuracy: 0.9341 - loss: 0.2795 - val_accuracy: 0.9231 - val_loss: 0.2844\n",
      "Epoch 167/200\n",
      "91/91 - 0s - 1ms/step - accuracy: 0.9341 - loss: 0.2774 - val_accuracy: 0.9231 - val_loss: 0.2826\n",
      "Epoch 168/200\n",
      "91/91 - 0s - 1ms/step - accuracy: 0.9451 - loss: 0.2752 - val_accuracy: 0.9231 - val_loss: 0.2810\n",
      "Epoch 169/200\n",
      "91/91 - 0s - 1ms/step - accuracy: 0.9451 - loss: 0.2737 - val_accuracy: 0.9231 - val_loss: 0.2793\n",
      "Epoch 170/200\n",
      "91/91 - 0s - 1ms/step - accuracy: 0.9341 - loss: 0.2718 - val_accuracy: 0.9231 - val_loss: 0.2776\n",
      "Epoch 171/200\n",
      "91/91 - 0s - 1ms/step - accuracy: 0.9451 - loss: 0.2697 - val_accuracy: 0.9231 - val_loss: 0.2762\n",
      "Epoch 172/200\n",
      "91/91 - 0s - 1ms/step - accuracy: 0.9451 - loss: 0.2681 - val_accuracy: 0.9231 - val_loss: 0.2744\n",
      "Epoch 173/200\n",
      "91/91 - 0s - 1ms/step - accuracy: 0.9341 - loss: 0.2663 - val_accuracy: 0.9231 - val_loss: 0.2729\n",
      "Epoch 174/200\n",
      "91/91 - 0s - 1ms/step - accuracy: 0.9451 - loss: 0.2645 - val_accuracy: 0.9231 - val_loss: 0.2713\n",
      "Epoch 175/200\n",
      "91/91 - 0s - 1ms/step - accuracy: 0.9341 - loss: 0.2629 - val_accuracy: 0.9231 - val_loss: 0.2698\n",
      "Epoch 176/200\n",
      "91/91 - 0s - 1ms/step - accuracy: 0.9341 - loss: 0.2612 - val_accuracy: 0.9231 - val_loss: 0.2684\n",
      "Epoch 177/200\n",
      "91/91 - 0s - 1ms/step - accuracy: 0.9341 - loss: 0.2595 - val_accuracy: 0.9231 - val_loss: 0.2671\n",
      "Epoch 178/200\n",
      "91/91 - 0s - 1ms/step - accuracy: 0.9341 - loss: 0.2579 - val_accuracy: 0.9231 - val_loss: 0.2657\n",
      "Epoch 179/200\n",
      "91/91 - 0s - 1ms/step - accuracy: 0.9451 - loss: 0.2563 - val_accuracy: 0.9231 - val_loss: 0.2643\n",
      "Epoch 180/200\n",
      "91/91 - 0s - 1ms/step - accuracy: 0.9451 - loss: 0.2543 - val_accuracy: 0.9231 - val_loss: 0.2631\n",
      "Epoch 181/200\n",
      "91/91 - 0s - 1ms/step - accuracy: 0.9341 - loss: 0.2528 - val_accuracy: 0.9231 - val_loss: 0.2614\n",
      "Epoch 182/200\n",
      "91/91 - 0s - 1ms/step - accuracy: 0.9341 - loss: 0.2516 - val_accuracy: 0.9231 - val_loss: 0.2602\n",
      "Epoch 183/200\n",
      "91/91 - 0s - 1ms/step - accuracy: 0.9341 - loss: 0.2500 - val_accuracy: 0.9231 - val_loss: 0.2588\n",
      "Epoch 184/200\n",
      "91/91 - 0s - 1ms/step - accuracy: 0.9341 - loss: 0.2487 - val_accuracy: 0.9231 - val_loss: 0.2575\n",
      "Epoch 185/200\n",
      "91/91 - 0s - 1ms/step - accuracy: 0.9341 - loss: 0.2472 - val_accuracy: 0.9231 - val_loss: 0.2563\n",
      "Epoch 186/200\n",
      "91/91 - 0s - 1ms/step - accuracy: 0.9341 - loss: 0.2457 - val_accuracy: 0.9231 - val_loss: 0.2551\n",
      "Epoch 187/200\n",
      "91/91 - 0s - 1ms/step - accuracy: 0.9341 - loss: 0.2443 - val_accuracy: 0.9231 - val_loss: 0.2538\n",
      "Epoch 188/200\n",
      "91/91 - 0s - 1ms/step - accuracy: 0.9341 - loss: 0.2429 - val_accuracy: 0.9231 - val_loss: 0.2527\n",
      "Epoch 189/200\n",
      "91/91 - 0s - 1ms/step - accuracy: 0.9341 - loss: 0.2415 - val_accuracy: 0.9231 - val_loss: 0.2515\n",
      "Epoch 190/200\n",
      "91/91 - 0s - 1ms/step - accuracy: 0.9341 - loss: 0.2403 - val_accuracy: 0.9231 - val_loss: 0.2504\n",
      "Epoch 191/200\n",
      "91/91 - 0s - 1ms/step - accuracy: 0.9341 - loss: 0.2388 - val_accuracy: 0.9231 - val_loss: 0.2494\n",
      "Epoch 192/200\n",
      "91/91 - 0s - 1ms/step - accuracy: 0.9341 - loss: 0.2375 - val_accuracy: 0.9231 - val_loss: 0.2484\n",
      "Epoch 193/200\n",
      "91/91 - 0s - 1ms/step - accuracy: 0.9341 - loss: 0.2364 - val_accuracy: 0.9231 - val_loss: 0.2472\n",
      "Epoch 194/200\n",
      "91/91 - 0s - 1ms/step - accuracy: 0.9341 - loss: 0.2351 - val_accuracy: 0.9231 - val_loss: 0.2462\n",
      "Epoch 195/200\n",
      "91/91 - 0s - 1ms/step - accuracy: 0.9341 - loss: 0.2337 - val_accuracy: 0.9231 - val_loss: 0.2452\n",
      "Epoch 196/200\n",
      "91/91 - 0s - 1ms/step - accuracy: 0.9341 - loss: 0.2326 - val_accuracy: 0.9231 - val_loss: 0.2441\n",
      "Epoch 197/200\n",
      "91/91 - 0s - 1ms/step - accuracy: 0.9341 - loss: 0.2315 - val_accuracy: 0.9231 - val_loss: 0.2430\n",
      "Epoch 198/200\n",
      "91/91 - 0s - 2ms/step - accuracy: 0.9341 - loss: 0.2303 - val_accuracy: 0.9231 - val_loss: 0.2421\n",
      "Epoch 199/200\n",
      "91/91 - 0s - 1ms/step - accuracy: 0.9341 - loss: 0.2291 - val_accuracy: 0.9231 - val_loss: 0.2411\n",
      "Epoch 200/200\n",
      "91/91 - 0s - 1ms/step - accuracy: 0.9341 - loss: 0.2279 - val_accuracy: 0.9231 - val_loss: 0.2402\n"
     ]
    }
   ],
   "source": [
    "history = model2.fit(x=X_train, y=y_train, epochs=200, batch_size=1, validation_data=(X_test, y_test), verbose=2, shuffle=True)"
   ]
  },
  {
   "cell_type": "code",
   "execution_count": 384,
   "metadata": {
    "colab": {
     "base_uri": "https://localhost:8080/",
     "height": 1000
    },
    "executionInfo": {
     "elapsed": 979,
     "status": "ok",
     "timestamp": 1725870148011,
     "user": {
      "displayName": "Ulrich Bodenhofer",
      "userId": "07009582510819085803"
     },
     "user_tz": -120
    },
    "id": "KC334L0qEj56",
    "outputId": "76120f29-b28a-429a-d276-224729796e51"
   },
   "outputs": [
    {
     "data": {
      "image/png": "[encoded data removed]",
      "text/plain": [
       "<Figure size 800x600 with 1 Axes>"
      ]
     },
     "metadata": {},
     "output_type": "display_data"
    },
    {
     "data": {
      "image/png": "[encoded data removed]",
      "text/plain": [
       "<Figure size 800x600 with 1 Axes>"
      ]
     },
     "metadata": {},
     "output_type": "display_data"
    }
   ],
   "source": [
    "plot_history(history)"
   ]
  },
  {
   "cell_type": "code",
   "execution_count": 385,
   "metadata": {
    "colab": {
     "base_uri": "https://localhost:8080/",
     "height": 699
    },
    "executionInfo": {
     "elapsed": 1558,
     "status": "ok",
     "timestamp": 1725870166232,
     "user": {
      "displayName": "Ulrich Bodenhofer",
      "userId": "07009582510819085803"
     },
     "user_tz": -120
    },
    "id": "waQXUj8SEj56",
    "outputId": "6fd6f96f-eb1f-4e7d-e22d-d8c0437624e6"
   },
   "outputs": [
    {
     "name": "stdout",
     "output_type": "stream",
     "text": [
      "\u001b[1m319/319\u001b[0m \u001b[32m━━━━━━━━━━━━━━━━━━━━\u001b[0m\u001b[37m\u001b[0m \u001b[1m0s\u001b[0m 794us/step\n"
     ]
    },
    {
     "data": {
      "image/png": "[encoded data removed]",
      "text/plain": [
       "<Figure size 800x800 with 1 Axes>"
      ]
     },
     "metadata": {},
     "output_type": "display_data"
    }
   ],
   "source": [
    "plot_2d_prediction(fish_data['data'], fish_data['target'], model2.predict, midval=0.5,\n",
    "                   xval=np.linspace(0, 1, 101), yval=np.linspace(0, 1, 101))"
   ]
  },
  {
   "cell_type": "markdown",
   "metadata": {
    "id": "8g3rjQdnEj56"
   },
   "source": [
    "## Simple Neural Networks Applied to the Iris Data Set"
   ]
  },
  {
   "cell_type": "code",
   "execution_count": 386,
   "metadata": {
    "executionInfo": {
     "elapsed": 441,
     "status": "ok",
     "timestamp": 1725870173877,
     "user": {
      "displayName": "Ulrich Bodenhofer",
      "userId": "07009582510819085803"
     },
     "user_tz": -120
    },
    "id": "RDZl9l_CEj56"
   },
   "outputs": [],
   "source": [
    "iris_data = datasets.load_iris(return_X_y=False)"
   ]
  },
  {
   "cell_type": "code",
   "execution_count": 387,
   "metadata": {
    "executionInfo": {
     "elapsed": 482,
     "status": "ok",
     "timestamp": 1725870177242,
     "user": {
      "displayName": "Ulrich Bodenhofer",
      "userId": "07009582510819085803"
     },
     "user_tz": -120
    },
    "id": "VuD8Niq2Ej57"
   },
   "outputs": [],
   "source": [
    "X_train, X_test, y_train, y_test = train_test_split(iris_data['data'], iris_data['target'],\n",
    "                                                    test_size=0.3, random_state=4232)"
   ]
  },
  {
   "cell_type": "code",
   "execution_count": 388,
   "metadata": {
    "executionInfo": {
     "elapsed": 463,
     "status": "ok",
     "timestamp": 1725870180311,
     "user": {
      "displayName": "Ulrich Bodenhofer",
      "userId": "07009582510819085803"
     },
     "user_tz": -120
    },
    "id": "1Emya0VyEj57"
   },
   "outputs": [],
   "source": [
    "model3 = tf.keras.models.Sequential([\n",
    "    tf.keras.layers.Input(shape=(iris_data['data'].shape[1], )),\n",
    "    tf.keras.layers.Dense(10, activation='sigmoid'),\n",
    "    tf.keras.layers.Dense(3, activation='softmax')\n",
    "])\n",
    "\n",
    "model3.compile(optimizer='sgd',\n",
    "               loss='sparse_categorical_crossentropy',\n",
    "               metrics=['accuracy'])"
   ]
  },
  {
   "cell_type": "code",
   "execution_count": 389,
   "metadata": {
    "colab": {
     "base_uri": "https://localhost:8080/",
     "height": 193
    },
    "executionInfo": {
     "elapsed": 473,
     "status": "ok",
     "timestamp": 1725870183080,
     "user": {
      "displayName": "Ulrich Bodenhofer",
      "userId": "07009582510819085803"
     },
     "user_tz": -120
    },
    "id": "_bOmVUFOEj57",
    "outputId": "5d74b233-e9a6-4a95-da6d-8ff428fff879"
   },
   "outputs": [
    {
     "data": {
      "text/html": [
       "<pre style=\"white-space:pre;overflow-x:auto;line-height:normal;font-family:Menlo,'DejaVu Sans Mono',consolas,'Courier New',monospace\"><span style=\"font-weight: bold\">Model: \"sequential_71\"</span>\n",
       "</pre>\n"
      ],
      "text/plain": [
       "\u001b[1mModel: \"sequential_71\"\u001b[0m\n"
      ]
     },
     "metadata": {},
     "output_type": "display_data"
    },
    {
     "data": {
      "text/html": [
       "<pre style=\"white-space:pre;overflow-x:auto;line-height:normal;font-family:Menlo,'DejaVu Sans Mono',consolas,'Courier New',monospace\">┏━━━━━━━━━━━━━━━━━━━━━━━━━━━━━━━━━┳━━━━━━━━━━━━━━━━━━━━━━━━┳━━━━━━━━━━━━━━━┓\n",
       "┃<span style=\"font-weight: bold\"> Layer (type)                    </span>┃<span style=\"font-weight: bold\"> Output Shape           </span>┃<span style=\"font-weight: bold\">       Param # </span>┃\n",
       "┡━━━━━━━━━━━━━━━━━━━━━━━━━━━━━━━━━╇━━━━━━━━━━━━━━━━━━━━━━━━╇━━━━━━━━━━━━━━━┩\n",
       "│ dense_209 (<span style=\"color: #0087ff; text-decoration-color: #0087ff\">Dense</span>)               │ (<span style=\"color: #00d7ff; text-decoration-color: #00d7ff\">None</span>, <span style=\"color: #00af00; text-decoration-color: #00af00\">10</span>)             │            <span style=\"color: #00af00; text-decoration-color: #00af00\">50</span> │\n",
       "├─────────────────────────────────┼────────────────────────┼───────────────┤\n",
       "│ dense_210 (<span style=\"color: #0087ff; text-decoration-color: #0087ff\">Dense</span>)               │ (<span style=\"color: #00d7ff; text-decoration-color: #00d7ff\">None</span>, <span style=\"color: #00af00; text-decoration-color: #00af00\">3</span>)              │            <span style=\"color: #00af00; text-decoration-color: #00af00\">33</span> │\n",
       "└─────────────────────────────────┴────────────────────────┴───────────────┘\n",
       "</pre>\n"
      ],
      "text/plain": [
       "┏━━━━━━━━━━━━━━━━━━━━━━━━━━━━━━━━━┳━━━━━━━━━━━━━━━━━━━━━━━━┳━━━━━━━━━━━━━━━┓\n",
       "┃\u001b[1m \u001b[0m\u001b[1mLayer (type)                   \u001b[0m\u001b[1m \u001b[0m┃\u001b[1m \u001b[0m\u001b[1mOutput Shape          \u001b[0m\u001b[1m \u001b[0m┃\u001b[1m \u001b[0m\u001b[1m      Param #\u001b[0m\u001b[1m \u001b[0m┃\n",
       "┡━━━━━━━━━━━━━━━━━━━━━━━━━━━━━━━━━╇━━━━━━━━━━━━━━━━━━━━━━━━╇━━━━━━━━━━━━━━━┩\n",
       "│ dense_209 (\u001b[38;5;33mDense\u001b[0m)               │ (\u001b[38;5;45mNone\u001b[0m, \u001b[38;5;34m10\u001b[0m)             │            \u001b[38;5;34m50\u001b[0m │\n",
       "├─────────────────────────────────┼────────────────────────┼───────────────┤\n",
       "│ dense_210 (\u001b[38;5;33mDense\u001b[0m)               │ (\u001b[38;5;45mNone\u001b[0m, \u001b[38;5;34m3\u001b[0m)              │            \u001b[38;5;34m33\u001b[0m │\n",
       "└─────────────────────────────────┴────────────────────────┴───────────────┘\n"
      ]
     },
     "metadata": {},
     "output_type": "display_data"
    },
    {
     "data": {
      "text/html": [
       "<pre style=\"white-space:pre;overflow-x:auto;line-height:normal;font-family:Menlo,'DejaVu Sans Mono',consolas,'Courier New',monospace\"><span style=\"font-weight: bold\"> Total params: </span><span style=\"color: #00af00; text-decoration-color: #00af00\">83</span> (332.00 B)\n",
       "</pre>\n"
      ],
      "text/plain": [
       "\u001b[1m Total params: \u001b[0m\u001b[38;5;34m83\u001b[0m (332.00 B)\n"
      ]
     },
     "metadata": {},
     "output_type": "display_data"
    },
    {
     "data": {
      "text/html": [
       "<pre style=\"white-space:pre;overflow-x:auto;line-height:normal;font-family:Menlo,'DejaVu Sans Mono',consolas,'Courier New',monospace\"><span style=\"font-weight: bold\"> Trainable params: </span><span style=\"color: #00af00; text-decoration-color: #00af00\">83</span> (332.00 B)\n",
       "</pre>\n"
      ],
      "text/plain": [
       "\u001b[1m Trainable params: \u001b[0m\u001b[38;5;34m83\u001b[0m (332.00 B)\n"
      ]
     },
     "metadata": {},
     "output_type": "display_data"
    },
    {
     "data": {
      "text/html": [
       "<pre style=\"white-space:pre;overflow-x:auto;line-height:normal;font-family:Menlo,'DejaVu Sans Mono',consolas,'Courier New',monospace\"><span style=\"font-weight: bold\"> Non-trainable params: </span><span style=\"color: #00af00; text-decoration-color: #00af00\">0</span> (0.00 B)\n",
       "</pre>\n"
      ],
      "text/plain": [
       "\u001b[1m Non-trainable params: \u001b[0m\u001b[38;5;34m0\u001b[0m (0.00 B)\n"
      ]
     },
     "metadata": {},
     "output_type": "display_data"
    }
   ],
   "source": [
    "model3.summary()"
   ]
  },
  {
   "cell_type": "code",
   "execution_count": 390,
   "metadata": {
    "colab": {
     "base_uri": "https://localhost:8080/"
    },
    "executionInfo": {
     "elapsed": 30424,
     "status": "ok",
     "timestamp": 1725870220095,
     "user": {
      "displayName": "Ulrich Bodenhofer",
      "userId": "07009582510819085803"
     },
     "user_tz": -120
    },
    "id": "v9-nIwMiEj57",
    "outputId": "4b208551-090a-4d4a-e817-85e03075372c"
   },
   "outputs": [
    {
     "name": "stdout",
     "output_type": "stream",
     "text": [
      "Epoch 1/100\n",
      "105/105 - 1s - 5ms/step - accuracy: 0.1714 - loss: 1.2034 - val_accuracy: 0.3778 - val_loss: 1.1010\n",
      "Epoch 2/100\n",
      "105/105 - 0s - 1ms/step - accuracy: 0.2667 - loss: 1.1262 - val_accuracy: 0.2444 - val_loss: 1.1225\n",
      "Epoch 3/100\n",
      "105/105 - 0s - 1ms/step - accuracy: 0.3333 - loss: 1.1145 - val_accuracy: 0.4889 - val_loss: 1.0902\n",
      "Epoch 4/100\n",
      "105/105 - 0s - 1ms/step - accuracy: 0.3524 - loss: 1.1040 - val_accuracy: 0.4222 - val_loss: 1.0766\n",
      "Epoch 5/100\n",
      "105/105 - 0s - 1ms/step - accuracy: 0.4000 - loss: 1.0936 - val_accuracy: 0.6222 - val_loss: 1.0795\n",
      "Epoch 6/100\n",
      "105/105 - 0s - 1ms/step - accuracy: 0.4667 - loss: 1.0816 - val_accuracy: 0.6444 - val_loss: 1.0616\n",
      "Epoch 7/100\n",
      "105/105 - 0s - 2ms/step - accuracy: 0.5810 - loss: 1.0523 - val_accuracy: 0.6222 - val_loss: 1.0531\n",
      "Epoch 8/100\n",
      "105/105 - 0s - 1ms/step - accuracy: 0.5429 - loss: 1.0387 - val_accuracy: 0.6222 - val_loss: 1.0303\n",
      "Epoch 9/100\n",
      "105/105 - 0s - 1ms/step - accuracy: 0.6286 - loss: 1.0123 - val_accuracy: 0.6222 - val_loss: 1.0045\n",
      "Epoch 10/100\n",
      "105/105 - 0s - 1ms/step - accuracy: 0.6857 - loss: 0.9753 - val_accuracy: 0.8444 - val_loss: 0.9648\n",
      "Epoch 11/100\n",
      "105/105 - 0s - 1ms/step - accuracy: 0.6952 - loss: 0.9351 - val_accuracy: 0.7778 - val_loss: 0.9330\n",
      "Epoch 12/100\n",
      "105/105 - 0s - 1ms/step - accuracy: 0.6857 - loss: 0.8851 - val_accuracy: 0.6889 - val_loss: 0.9216\n",
      "Epoch 13/100\n",
      "105/105 - 0s - 1ms/step - accuracy: 0.7048 - loss: 0.8480 - val_accuracy: 0.9111 - val_loss: 0.8535\n",
      "Epoch 14/100\n",
      "105/105 - 0s - 1ms/step - accuracy: 0.7333 - loss: 0.8004 - val_accuracy: 0.6222 - val_loss: 0.8330\n",
      "Epoch 15/100\n",
      "105/105 - 0s - 1ms/step - accuracy: 0.7048 - loss: 0.7655 - val_accuracy: 0.6889 - val_loss: 0.7896\n",
      "Epoch 16/100\n",
      "105/105 - 0s - 1ms/step - accuracy: 0.7810 - loss: 0.7273 - val_accuracy: 0.6889 - val_loss: 0.7557\n",
      "Epoch 17/100\n",
      "105/105 - 0s - 2ms/step - accuracy: 0.7429 - loss: 0.6924 - val_accuracy: 0.7333 - val_loss: 0.7197\n",
      "Epoch 18/100\n",
      "105/105 - 0s - 1ms/step - accuracy: 0.7619 - loss: 0.6617 - val_accuracy: 0.6444 - val_loss: 0.7011\n",
      "Epoch 19/100\n",
      "105/105 - 0s - 1ms/step - accuracy: 0.7714 - loss: 0.6377 - val_accuracy: 0.7333 - val_loss: 0.6731\n",
      "Epoch 20/100\n",
      "105/105 - 0s - 1ms/step - accuracy: 0.7905 - loss: 0.6144 - val_accuracy: 0.7778 - val_loss: 0.6568\n",
      "Epoch 21/100\n",
      "105/105 - 0s - 1ms/step - accuracy: 0.8095 - loss: 0.5932 - val_accuracy: 0.7333 - val_loss: 0.6389\n",
      "Epoch 22/100\n",
      "105/105 - 0s - 1ms/step - accuracy: 0.7619 - loss: 0.5750 - val_accuracy: 0.9111 - val_loss: 0.6195\n",
      "Epoch 23/100\n",
      "105/105 - 0s - 1ms/step - accuracy: 0.7905 - loss: 0.5477 - val_accuracy: 0.6222 - val_loss: 0.6291\n",
      "Epoch 24/100\n",
      "105/105 - 0s - 1ms/step - accuracy: 0.8190 - loss: 0.5453 - val_accuracy: 0.8000 - val_loss: 0.6013\n",
      "Epoch 25/100\n",
      "105/105 - 0s - 1ms/step - accuracy: 0.8286 - loss: 0.5307 - val_accuracy: 0.9333 - val_loss: 0.5793\n",
      "Epoch 26/100\n",
      "105/105 - 0s - 1ms/step - accuracy: 0.9143 - loss: 0.5141 - val_accuracy: 0.6889 - val_loss: 0.5782\n",
      "Epoch 27/100\n",
      "105/105 - 0s - 1ms/step - accuracy: 0.7905 - loss: 0.5073 - val_accuracy: 0.9778 - val_loss: 0.5594\n",
      "Epoch 28/100\n",
      "105/105 - 0s - 1ms/step - accuracy: 0.9048 - loss: 0.4957 - val_accuracy: 0.8667 - val_loss: 0.5492\n",
      "Epoch 29/100\n",
      "105/105 - 0s - 1ms/step - accuracy: 0.8476 - loss: 0.4857 - val_accuracy: 0.9778 - val_loss: 0.5411\n",
      "Epoch 30/100\n",
      "105/105 - 0s - 1ms/step - accuracy: 0.8952 - loss: 0.4770 - val_accuracy: 0.9778 - val_loss: 0.5301\n",
      "Epoch 31/100\n",
      "105/105 - 0s - 1ms/step - accuracy: 0.9238 - loss: 0.4691 - val_accuracy: 0.8667 - val_loss: 0.5193\n",
      "Epoch 32/100\n",
      "105/105 - 0s - 1ms/step - accuracy: 0.8952 - loss: 0.4560 - val_accuracy: 0.8667 - val_loss: 0.5111\n",
      "Epoch 33/100\n",
      "105/105 - 0s - 1ms/step - accuracy: 0.9238 - loss: 0.4528 - val_accuracy: 0.8889 - val_loss: 0.5026\n",
      "Epoch 34/100\n",
      "105/105 - 0s - 1ms/step - accuracy: 0.8952 - loss: 0.4443 - val_accuracy: 0.8889 - val_loss: 0.4942\n",
      "Epoch 35/100\n",
      "105/105 - 0s - 1ms/step - accuracy: 0.9143 - loss: 0.4317 - val_accuracy: 0.9111 - val_loss: 0.4974\n",
      "Epoch 36/100\n",
      "105/105 - 0s - 1ms/step - accuracy: 0.9333 - loss: 0.4292 - val_accuracy: 0.8889 - val_loss: 0.4784\n",
      "Epoch 37/100\n",
      "105/105 - 0s - 1ms/step - accuracy: 0.9143 - loss: 0.4215 - val_accuracy: 0.8889 - val_loss: 0.4707\n",
      "Epoch 38/100\n",
      "105/105 - 0s - 1ms/step - accuracy: 0.9143 - loss: 0.4120 - val_accuracy: 0.8889 - val_loss: 0.4637\n",
      "Epoch 39/100\n",
      "105/105 - 0s - 1ms/step - accuracy: 0.9333 - loss: 0.4022 - val_accuracy: 0.8889 - val_loss: 0.4746\n",
      "Epoch 40/100\n",
      "105/105 - 0s - 1ms/step - accuracy: 0.9238 - loss: 0.3904 - val_accuracy: 0.7556 - val_loss: 0.4680\n",
      "Epoch 41/100\n",
      "105/105 - 0s - 1ms/step - accuracy: 0.9429 - loss: 0.3935 - val_accuracy: 0.9778 - val_loss: 0.4416\n",
      "Epoch 42/100\n",
      "105/105 - 0s - 1ms/step - accuracy: 0.9429 - loss: 0.3853 - val_accuracy: 0.8667 - val_loss: 0.4360\n",
      "Epoch 43/100\n",
      "105/105 - 0s - 1ms/step - accuracy: 0.9429 - loss: 0.3803 - val_accuracy: 0.9778 - val_loss: 0.4236\n",
      "Epoch 44/100\n",
      "105/105 - 0s - 1ms/step - accuracy: 0.9619 - loss: 0.3738 - val_accuracy: 0.9778 - val_loss: 0.4157\n",
      "Epoch 45/100\n",
      "105/105 - 0s - 1ms/step - accuracy: 0.9524 - loss: 0.3617 - val_accuracy: 0.8889 - val_loss: 0.4112\n",
      "Epoch 46/100\n",
      "105/105 - 0s - 1ms/step - accuracy: 0.9333 - loss: 0.3554 - val_accuracy: 1.0000 - val_loss: 0.4007\n",
      "Epoch 47/100\n",
      "105/105 - 0s - 1ms/step - accuracy: 0.9524 - loss: 0.3452 - val_accuracy: 0.8000 - val_loss: 0.4301\n",
      "Epoch 48/100\n",
      "105/105 - 0s - 1ms/step - accuracy: 0.9429 - loss: 0.3447 - val_accuracy: 0.8000 - val_loss: 0.4200\n",
      "Epoch 49/100\n",
      "105/105 - 0s - 1ms/step - accuracy: 0.9238 - loss: 0.3441 - val_accuracy: 0.9111 - val_loss: 0.3826\n",
      "Epoch 50/100\n",
      "105/105 - 0s - 1ms/step - accuracy: 0.9429 - loss: 0.3279 - val_accuracy: 0.9333 - val_loss: 0.3805\n",
      "Epoch 51/100\n",
      "105/105 - 0s - 1ms/step - accuracy: 0.9429 - loss: 0.3303 - val_accuracy: 0.9556 - val_loss: 0.3677\n",
      "Epoch 52/100\n",
      "105/105 - 0s - 1ms/step - accuracy: 0.9524 - loss: 0.3249 - val_accuracy: 1.0000 - val_loss: 0.3619\n",
      "Epoch 53/100\n",
      "105/105 - 0s - 1ms/step - accuracy: 0.9524 - loss: 0.3133 - val_accuracy: 0.9333 - val_loss: 0.3611\n",
      "Epoch 54/100\n",
      "105/105 - 0s - 1ms/step - accuracy: 0.9619 - loss: 0.3077 - val_accuracy: 0.9333 - val_loss: 0.3534\n",
      "Epoch 55/100\n",
      "105/105 - 0s - 1ms/step - accuracy: 0.9524 - loss: 0.3019 - val_accuracy: 0.8889 - val_loss: 0.3480\n",
      "Epoch 56/100\n",
      "105/105 - 0s - 1ms/step - accuracy: 0.9429 - loss: 0.2968 - val_accuracy: 0.9111 - val_loss: 0.3416\n",
      "Epoch 57/100\n",
      "105/105 - 0s - 1ms/step - accuracy: 0.9619 - loss: 0.2912 - val_accuracy: 0.9111 - val_loss: 0.3453\n",
      "Epoch 58/100\n",
      "105/105 - 0s - 1ms/step - accuracy: 0.9429 - loss: 0.2924 - val_accuracy: 0.9778 - val_loss: 0.3231\n",
      "Epoch 59/100\n",
      "105/105 - 0s - 1ms/step - accuracy: 0.9429 - loss: 0.2839 - val_accuracy: 0.8889 - val_loss: 0.3305\n",
      "Epoch 60/100\n",
      "105/105 - 0s - 1ms/step - accuracy: 0.9619 - loss: 0.2801 - val_accuracy: 1.0000 - val_loss: 0.3137\n",
      "Epoch 61/100\n",
      "105/105 - 0s - 1ms/step - accuracy: 0.9429 - loss: 0.2754 - val_accuracy: 0.9333 - val_loss: 0.3122\n",
      "Epoch 62/100\n",
      "105/105 - 0s - 1ms/step - accuracy: 0.9619 - loss: 0.2632 - val_accuracy: 0.9556 - val_loss: 0.3074\n",
      "Epoch 63/100\n",
      "105/105 - 0s - 1ms/step - accuracy: 0.9619 - loss: 0.2678 - val_accuracy: 0.9778 - val_loss: 0.2978\n",
      "Epoch 64/100\n",
      "105/105 - 0s - 1ms/step - accuracy: 0.9619 - loss: 0.2621 - val_accuracy: 0.9778 - val_loss: 0.2945\n",
      "Epoch 65/100\n",
      "105/105 - 0s - 1ms/step - accuracy: 0.9619 - loss: 0.2547 - val_accuracy: 0.9333 - val_loss: 0.2975\n",
      "Epoch 66/100\n",
      "105/105 - 0s - 1ms/step - accuracy: 0.9619 - loss: 0.2506 - val_accuracy: 0.9778 - val_loss: 0.2859\n",
      "Epoch 67/100\n",
      "105/105 - 0s - 1ms/step - accuracy: 0.9619 - loss: 0.2449 - val_accuracy: 1.0000 - val_loss: 0.2784\n",
      "Epoch 68/100\n",
      "105/105 - 0s - 1ms/step - accuracy: 0.9524 - loss: 0.2464 - val_accuracy: 0.9778 - val_loss: 0.2753\n",
      "Epoch 69/100\n",
      "105/105 - 0s - 1ms/step - accuracy: 0.9429 - loss: 0.2394 - val_accuracy: 1.0000 - val_loss: 0.2693\n",
      "Epoch 70/100\n",
      "105/105 - 0s - 1ms/step - accuracy: 0.9714 - loss: 0.2305 - val_accuracy: 0.9111 - val_loss: 0.2820\n",
      "Epoch 71/100\n",
      "105/105 - 0s - 1ms/step - accuracy: 0.9619 - loss: 0.2338 - val_accuracy: 0.9778 - val_loss: 0.2625\n",
      "Epoch 72/100\n",
      "105/105 - 0s - 1ms/step - accuracy: 0.9714 - loss: 0.2235 - val_accuracy: 0.9333 - val_loss: 0.2660\n",
      "Epoch 73/100\n",
      "105/105 - 0s - 1ms/step - accuracy: 0.9714 - loss: 0.2281 - val_accuracy: 0.9778 - val_loss: 0.2534\n",
      "Epoch 74/100\n",
      "105/105 - 0s - 1ms/step - accuracy: 0.9714 - loss: 0.2247 - val_accuracy: 0.9778 - val_loss: 0.2533\n",
      "Epoch 75/100\n",
      "105/105 - 0s - 1ms/step - accuracy: 0.9619 - loss: 0.2174 - val_accuracy: 0.9556 - val_loss: 0.2542\n",
      "Epoch 76/100\n",
      "105/105 - 0s - 1ms/step - accuracy: 0.9619 - loss: 0.2197 - val_accuracy: 0.9778 - val_loss: 0.2430\n",
      "Epoch 77/100\n",
      "105/105 - 0s - 1ms/step - accuracy: 0.9619 - loss: 0.2085 - val_accuracy: 1.0000 - val_loss: 0.2391\n",
      "Epoch 78/100\n",
      "105/105 - 0s - 1ms/step - accuracy: 0.9524 - loss: 0.2070 - val_accuracy: 0.9333 - val_loss: 0.2467\n",
      "Epoch 79/100\n",
      "105/105 - 0s - 1ms/step - accuracy: 0.9524 - loss: 0.2036 - val_accuracy: 1.0000 - val_loss: 0.2340\n",
      "Epoch 80/100\n",
      "105/105 - 0s - 1ms/step - accuracy: 0.9524 - loss: 0.2076 - val_accuracy: 0.9778 - val_loss: 0.2296\n",
      "Epoch 81/100\n",
      "105/105 - 0s - 1ms/step - accuracy: 0.9619 - loss: 0.2045 - val_accuracy: 0.9778 - val_loss: 0.2327\n",
      "Epoch 82/100\n",
      "105/105 - 0s - 1ms/step - accuracy: 0.9714 - loss: 0.1904 - val_accuracy: 0.9778 - val_loss: 0.2307\n",
      "Epoch 83/100\n",
      "105/105 - 0s - 1ms/step - accuracy: 0.9619 - loss: 0.1896 - val_accuracy: 0.8889 - val_loss: 0.2725\n",
      "Epoch 84/100\n",
      "105/105 - 0s - 1ms/step - accuracy: 0.9714 - loss: 0.1944 - val_accuracy: 0.9778 - val_loss: 0.2197\n",
      "Epoch 85/100\n",
      "105/105 - 0s - 1ms/step - accuracy: 0.9619 - loss: 0.1930 - val_accuracy: 0.9778 - val_loss: 0.2195\n",
      "Epoch 86/100\n",
      "105/105 - 0s - 1ms/step - accuracy: 0.9619 - loss: 0.1881 - val_accuracy: 0.9333 - val_loss: 0.2297\n",
      "Epoch 87/100\n",
      "105/105 - 0s - 1ms/step - accuracy: 0.9619 - loss: 0.1825 - val_accuracy: 0.9778 - val_loss: 0.2143\n",
      "Epoch 88/100\n",
      "105/105 - 0s - 1ms/step - accuracy: 0.9810 - loss: 0.1745 - val_accuracy: 0.9333 - val_loss: 0.2189\n",
      "Epoch 89/100\n",
      "105/105 - 0s - 1ms/step - accuracy: 0.9714 - loss: 0.1791 - val_accuracy: 0.9111 - val_loss: 0.2325\n",
      "Epoch 90/100\n",
      "105/105 - 0s - 1ms/step - accuracy: 0.9714 - loss: 0.1836 - val_accuracy: 0.9778 - val_loss: 0.2023\n",
      "Epoch 91/100\n",
      "105/105 - 0s - 1ms/step - accuracy: 0.9714 - loss: 0.1792 - val_accuracy: 1.0000 - val_loss: 0.2022\n",
      "Epoch 92/100\n",
      "105/105 - 0s - 1ms/step - accuracy: 0.9524 - loss: 0.1710 - val_accuracy: 0.9778 - val_loss: 0.2031\n",
      "Epoch 93/100\n",
      "105/105 - 0s - 1ms/step - accuracy: 0.9619 - loss: 0.1768 - val_accuracy: 0.9778 - val_loss: 0.2000\n",
      "Epoch 94/100\n",
      "105/105 - 0s - 1ms/step - accuracy: 0.9714 - loss: 0.1663 - val_accuracy: 1.0000 - val_loss: 0.1932\n",
      "Epoch 95/100\n",
      "105/105 - 0s - 1ms/step - accuracy: 0.9619 - loss: 0.1703 - val_accuracy: 0.9333 - val_loss: 0.2099\n",
      "Epoch 96/100\n",
      "105/105 - 0s - 1ms/step - accuracy: 0.9619 - loss: 0.1683 - val_accuracy: 1.0000 - val_loss: 0.1900\n",
      "Epoch 97/100\n",
      "105/105 - 0s - 1ms/step - accuracy: 0.9619 - loss: 0.1685 - val_accuracy: 0.9778 - val_loss: 0.1934\n",
      "Epoch 98/100\n",
      "105/105 - 0s - 1ms/step - accuracy: 0.9714 - loss: 0.1655 - val_accuracy: 0.9333 - val_loss: 0.2082\n",
      "Epoch 99/100\n",
      "105/105 - 0s - 1ms/step - accuracy: 0.9714 - loss: 0.1593 - val_accuracy: 0.9778 - val_loss: 0.1874\n",
      "Epoch 100/100\n",
      "105/105 - 0s - 1ms/step - accuracy: 0.9714 - loss: 0.1636 - val_accuracy: 0.9778 - val_loss: 0.1858\n"
     ]
    }
   ],
   "source": [
    "history = model3.fit(x=X_train, y=y_train, epochs=100, batch_size=1, validation_data=(X_test, y_test), verbose=2, shuffle=True)"
   ]
  },
  {
   "cell_type": "code",
   "execution_count": 391,
   "metadata": {
    "colab": {
     "base_uri": "https://localhost:8080/",
     "height": 1000
    },
    "executionInfo": {
     "elapsed": 1135,
     "status": "ok",
     "timestamp": 1725870225055,
     "user": {
      "displayName": "Ulrich Bodenhofer",
      "userId": "07009582510819085803"
     },
     "user_tz": -120
    },
    "id": "N3un_jv3Ej57",
    "outputId": "23e8435a-c2fd-4bbc-8bbe-ae0960324909"
   },
   "outputs": [
    {
     "data": {
      "image/png": "[encoded data removed]",
      "text/plain": [
       "<Figure size 800x600 with 1 Axes>"
      ]
     },
     "metadata": {},
     "output_type": "display_data"
    },
    {
     "data": {
      "image/png": "[encoded data removed]",
      "text/plain": [
       "<Figure size 800x600 with 1 Axes>"
      ]
     },
     "metadata": {},
     "output_type": "display_data"
    }
   ],
   "source": [
    "plot_history(history)"
   ]
  },
  {
   "cell_type": "code",
   "execution_count": 392,
   "metadata": {
    "colab": {
     "base_uri": "https://localhost:8080/"
    },
    "executionInfo": {
     "elapsed": 1801,
     "status": "ok",
     "timestamp": 1725870238772,
     "user": {
      "displayName": "Ulrich Bodenhofer",
      "userId": "07009582510819085803"
     },
     "user_tz": -120
    },
    "id": "tpuGDBsuEj58",
    "outputId": "ef99a015-6a0b-4511-a614-6ee8801977c6"
   },
   "outputs": [
    {
     "name": "stdout",
     "output_type": "stream",
     "text": [
      "\u001b[1m2/2\u001b[0m \u001b[32m━━━━━━━━━━━━━━━━━━━━\u001b[0m\u001b[37m\u001b[0m \u001b[1m0s\u001b[0m 24ms/step\n",
      "Confusion matrix (rows -> true, columns -> predicted):\n",
      "\n",
      "            setosa  versicolor  virginica\n",
      "setosa          11           0          0\n",
      "versicolor       0          17          0\n",
      "virginica        0           1         16\n",
      "\n",
      "\n",
      "Class setosa:\n",
      "    Sensitivity (TPR): 100.000% (11 of 11)\n",
      "    Specificity (TNR): 100.000% (34 of 34)\n",
      "    Precision:         100.000% (11 of 11)\n",
      "    Neg. pred. value:  100.000% (34 of 34)\n",
      "Class versicolor:\n",
      "    Sensitivity (TPR): 100.000% (17 of 17)\n",
      "    Specificity (TNR):  96.429% (27 of 28)\n",
      "    Precision:          94.444% (17 of 18)\n",
      "    Neg. pred. value:  100.000% (27 of 27)\n",
      "Class virginica:\n",
      "    Sensitivity (TPR):  94.118% (16 of 17)\n",
      "    Specificity (TNR): 100.000% (28 of 28)\n",
      "    Precision:         100.000% (16 of 16)\n",
      "    Neg. pred. value:   96.552% (28 of 29)\n",
      "\n",
      "Overall accuracy:   97.778% (44 of 45)\n",
      "Balanced accuracy:  98.039%\n"
     ]
    }
   ],
   "source": [
    "pred = model3.predict(X_test)\n",
    "\n",
    "evaluate_classification_result(y_test, pred, classes=iris_data.target_names)"
   ]
  },
  {
   "cell_type": "markdown",
   "metadata": {
    "id": "Jyvpc7gMEj58"
   },
   "source": [
    "## Load Simple Digit Recognition Data"
   ]
  },
  {
   "cell_type": "code",
   "execution_count": 4,
   "metadata": {
    "executionInfo": {
     "elapsed": 1496,
     "status": "ok",
     "timestamp": 1725870254138,
     "user": {
      "displayName": "Ulrich Bodenhofer",
      "userId": "07009582510819085803"
     },
     "user_tz": -120
    },
    "id": "sDG8Bi3PEj58"
   },
   "outputs": [],
   "source": [
    "dig_train_raw = pd.read_csv(os.path.join(data_dir, 'Digits_training.csv'), sep=',')\n",
    "dig_train = {'data': np.array(dig_train_raw.iloc[:, :-1]),\n",
    "             'target': np.array(dig_train_raw.iloc[:, -1]),\n",
    "             'feature_names': dig_train_raw.columns[:-1],\n",
    "             'target_names': [str(i) for i in range(0, 10)]}"
   ]
  },
  {
   "cell_type": "code",
   "execution_count": 5,
   "metadata": {},
   "outputs": [],
   "source": [
    "dig_test_raw = pd.read_csv(os.path.join(data_dir, 'Digits_test.csv'), sep=',')\n",
    "dig_test = {'data': np.array(dig_test_raw.iloc[:, :-1]),\n",
    "            'target': np.array(dig_test_raw.iloc[:, -1]),\n",
    "            'feature_names': dig_test_raw.columns[:-1],\n",
    "            'target_names': [str(i) for i in range(0, 10)]}"
   ]
  },
  {
   "cell_type": "code",
   "execution_count": 395,
   "metadata": {
    "colab": {
     "base_uri": "https://localhost:8080/",
     "height": 345
    },
    "executionInfo": {
     "elapsed": 1004,
     "status": "ok",
     "timestamp": 1725870266153,
     "user": {
      "displayName": "Ulrich Bodenhofer",
      "userId": "07009582510819085803"
     },
     "user_tz": -120
    },
    "id": "yfIcw1prEj59",
    "outputId": "e004e84c-e9c8-43e6-e826-726d34b47f4e"
   },
   "outputs": [
    {
     "data": {
      "image/png": "[encoded data removed]",
      "text/plain": [
       "<Figure size 400x400 with 30 Axes>"
      ]
     },
     "metadata": {},
     "output_type": "display_data"
    }
   ],
   "source": [
    "show_img_data(dig_train['data'].reshape((dig_train['data'].shape[0], 6, 4, 1)), figsize=(4, 4),\n",
    "              interpolation=None)"
   ]
  },
  {
   "cell_type": "code",
   "execution_count": 396,
   "metadata": {
    "colab": {
     "base_uri": "https://localhost:8080/"
    },
    "executionInfo": {
     "elapsed": 570,
     "status": "ok",
     "timestamp": 1725870280543,
     "user": {
      "displayName": "Ulrich Bodenhofer",
      "userId": "07009582510819085803"
     },
     "user_tz": -120
    },
    "id": "axEYmPgREj59",
    "outputId": "a469065b-1264-482f-eb2f-9e392b695306"
   },
   "outputs": [
    {
     "data": {
      "text/plain": [
       "array([[8, 5, 1, 0, 6, 0],\n",
       "       [3, 2, 3, 4, 9, 5],\n",
       "       [3, 3, 1, 6, 4, 7],\n",
       "       [5, 0, 1, 0, 2, 0],\n",
       "       [2, 6, 5, 2, 7, 2]])"
      ]
     },
     "execution_count": 396,
     "metadata": {},
     "output_type": "execute_result"
    }
   ],
   "source": [
    "dig_train['target'][range(0, 30)].reshape(5, 6)"
   ]
  },
  {
   "cell_type": "markdown",
   "metadata": {
    "id": "P3wOKQJZEj59"
   },
   "source": [
    "## Traditional Multi-Layer Perceptron with Sigmoid Activation"
   ]
  },
  {
   "cell_type": "markdown",
   "metadata": {},
   "source": [
    "**Results from experimenting:**\n",
    "- 1 hidden layer with 10 neurons / 350 epochs / learn-rate 0.01: 85,1% validation accuracy\n",
    "- 1 hidden layer with 16 neurons / 350 epochs / learn-rate 0.01: 87,2% validation accuracy\n",
    "- 1 hidden layer with 32 neurons / 350 epochs / learn-rate 0.01: 88,067% validation accuracy\n",
    "- 1 hidden layer with 64 neurons / 350 epochs / learn-rate 0.01: 87,6% validation accuracy\n",
    "- 1 hidden layer with 128 neurons / 350 epochs / learn-rate 0.01: 87,9% validation accuracy\n",
    "- 1 hidden layer with 64 neurons / 500 epochs / learn-rate 0.01: 88,6% validation accuracy\n",
    "- 1 hidden layer with 128 neurons / 500 epochs / learn-rate 0.01: 88,467% validation accuracy\n",
    "- 2 hidden layers with 32 and 16 neurons / 350 epochs / learn-rate 0.01: 84,167% validation accuracy\n",
    "- 2 hidden layers with 128 and 64 neurons / 350 epochs / learn-rate 0.01: 85,767% validation accuracy\n",
    "- 2 hidden layers with 256 and 128 neurons / 350 epochs / learn-rate 0.1: 92,515%% validation accuracy\n",
    "- 2 hidden layers with 128 and 64 neurons / 350 epochs / learn-rate 0.1: 92,665% validation accuracy\n",
    "\n",
    "**Discussion:** Sigmoid activation function is not the best choice for this problem, due to the vanishing gradient problem, as discussed in the theory section. Therefore increasing the learning rate led to a jump in the accuracy, due to the fact that the weights were updated more regularly even in the deeper layers. The best results were obtained with 2 hidden layers with 128 and 64 neurons and a learning rate of 0.1. The best accuracy was 92,665%. "
   ]
  },
  {
   "cell_type": "code",
   "execution_count": 397,
   "metadata": {
    "executionInfo": {
     "elapsed": 455,
     "status": "ok",
     "timestamp": 1725870295527,
     "user": {
      "displayName": "Ulrich Bodenhofer",
      "userId": "07009582510819085803"
     },
     "user_tz": -120
    },
    "id": "VzuiBRZ5Ej59"
   },
   "outputs": [],
   "source": [
    "model = tf.keras.models.Sequential([\n",
    "    tf.keras.layers.Input(shape=(dig_train['data'].shape[1], )),\n",
    "    tf.keras.layers.Dense(128, activation='sigmoid'),\n",
    "    tf.keras.layers.Dense(64, activation='sigmoid'),\n",
    "    tf.keras.layers.Dense(10, activation='softmax')\n",
    "])\n",
    "\n",
    "optim = tf.keras.optimizers.SGD(learning_rate=0.1)\n",
    "model.compile(optimizer=optim,\n",
    "              loss='sparse_categorical_crossentropy',\n",
    "              metrics=['accuracy'])"
   ]
  },
  {
   "cell_type": "code",
   "execution_count": 398,
   "metadata": {
    "colab": {
     "base_uri": "https://localhost:8080/",
     "height": 193
    },
    "executionInfo": {
     "elapsed": 468,
     "status": "ok",
     "timestamp": 1725870299299,
     "user": {
      "displayName": "Ulrich Bodenhofer",
      "userId": "07009582510819085803"
     },
     "user_tz": -120
    },
    "id": "NvowyHNHEj5-",
    "outputId": "4347de89-8553-4e33-a712-22ae6d78b500"
   },
   "outputs": [
    {
     "data": {
      "text/html": [
       "<pre style=\"white-space:pre;overflow-x:auto;line-height:normal;font-family:Menlo,'DejaVu Sans Mono',consolas,'Courier New',monospace\"><span style=\"font-weight: bold\">Model: \"sequential_72\"</span>\n",
       "</pre>\n"
      ],
      "text/plain": [
       "\u001b[1mModel: \"sequential_72\"\u001b[0m\n"
      ]
     },
     "metadata": {},
     "output_type": "display_data"
    },
    {
     "data": {
      "text/html": [
       "<pre style=\"white-space:pre;overflow-x:auto;line-height:normal;font-family:Menlo,'DejaVu Sans Mono',consolas,'Courier New',monospace\">┏━━━━━━━━━━━━━━━━━━━━━━━━━━━━━━━━━┳━━━━━━━━━━━━━━━━━━━━━━━━┳━━━━━━━━━━━━━━━┓\n",
       "┃<span style=\"font-weight: bold\"> Layer (type)                    </span>┃<span style=\"font-weight: bold\"> Output Shape           </span>┃<span style=\"font-weight: bold\">       Param # </span>┃\n",
       "┡━━━━━━━━━━━━━━━━━━━━━━━━━━━━━━━━━╇━━━━━━━━━━━━━━━━━━━━━━━━╇━━━━━━━━━━━━━━━┩\n",
       "│ dense_211 (<span style=\"color: #0087ff; text-decoration-color: #0087ff\">Dense</span>)               │ (<span style=\"color: #00d7ff; text-decoration-color: #00d7ff\">None</span>, <span style=\"color: #00af00; text-decoration-color: #00af00\">128</span>)            │         <span style=\"color: #00af00; text-decoration-color: #00af00\">3,200</span> │\n",
       "├─────────────────────────────────┼────────────────────────┼───────────────┤\n",
       "│ dense_212 (<span style=\"color: #0087ff; text-decoration-color: #0087ff\">Dense</span>)               │ (<span style=\"color: #00d7ff; text-decoration-color: #00d7ff\">None</span>, <span style=\"color: #00af00; text-decoration-color: #00af00\">64</span>)             │         <span style=\"color: #00af00; text-decoration-color: #00af00\">8,256</span> │\n",
       "├─────────────────────────────────┼────────────────────────┼───────────────┤\n",
       "│ dense_213 (<span style=\"color: #0087ff; text-decoration-color: #0087ff\">Dense</span>)               │ (<span style=\"color: #00d7ff; text-decoration-color: #00d7ff\">None</span>, <span style=\"color: #00af00; text-decoration-color: #00af00\">10</span>)             │           <span style=\"color: #00af00; text-decoration-color: #00af00\">650</span> │\n",
       "└─────────────────────────────────┴────────────────────────┴───────────────┘\n",
       "</pre>\n"
      ],
      "text/plain": [
       "┏━━━━━━━━━━━━━━━━━━━━━━━━━━━━━━━━━┳━━━━━━━━━━━━━━━━━━━━━━━━┳━━━━━━━━━━━━━━━┓\n",
       "┃\u001b[1m \u001b[0m\u001b[1mLayer (type)                   \u001b[0m\u001b[1m \u001b[0m┃\u001b[1m \u001b[0m\u001b[1mOutput Shape          \u001b[0m\u001b[1m \u001b[0m┃\u001b[1m \u001b[0m\u001b[1m      Param #\u001b[0m\u001b[1m \u001b[0m┃\n",
       "┡━━━━━━━━━━━━━━━━━━━━━━━━━━━━━━━━━╇━━━━━━━━━━━━━━━━━━━━━━━━╇━━━━━━━━━━━━━━━┩\n",
       "│ dense_211 (\u001b[38;5;33mDense\u001b[0m)               │ (\u001b[38;5;45mNone\u001b[0m, \u001b[38;5;34m128\u001b[0m)            │         \u001b[38;5;34m3,200\u001b[0m │\n",
       "├─────────────────────────────────┼────────────────────────┼───────────────┤\n",
       "│ dense_212 (\u001b[38;5;33mDense\u001b[0m)               │ (\u001b[38;5;45mNone\u001b[0m, \u001b[38;5;34m64\u001b[0m)             │         \u001b[38;5;34m8,256\u001b[0m │\n",
       "├─────────────────────────────────┼────────────────────────┼───────────────┤\n",
       "│ dense_213 (\u001b[38;5;33mDense\u001b[0m)               │ (\u001b[38;5;45mNone\u001b[0m, \u001b[38;5;34m10\u001b[0m)             │           \u001b[38;5;34m650\u001b[0m │\n",
       "└─────────────────────────────────┴────────────────────────┴───────────────┘\n"
      ]
     },
     "metadata": {},
     "output_type": "display_data"
    },
    {
     "data": {
      "text/html": [
       "<pre style=\"white-space:pre;overflow-x:auto;line-height:normal;font-family:Menlo,'DejaVu Sans Mono',consolas,'Courier New',monospace\"><span style=\"font-weight: bold\"> Total params: </span><span style=\"color: #00af00; text-decoration-color: #00af00\">12,106</span> (47.29 KB)\n",
       "</pre>\n"
      ],
      "text/plain": [
       "\u001b[1m Total params: \u001b[0m\u001b[38;5;34m12,106\u001b[0m (47.29 KB)\n"
      ]
     },
     "metadata": {},
     "output_type": "display_data"
    },
    {
     "data": {
      "text/html": [
       "<pre style=\"white-space:pre;overflow-x:auto;line-height:normal;font-family:Menlo,'DejaVu Sans Mono',consolas,'Courier New',monospace\"><span style=\"font-weight: bold\"> Trainable params: </span><span style=\"color: #00af00; text-decoration-color: #00af00\">12,106</span> (47.29 KB)\n",
       "</pre>\n"
      ],
      "text/plain": [
       "\u001b[1m Trainable params: \u001b[0m\u001b[38;5;34m12,106\u001b[0m (47.29 KB)\n"
      ]
     },
     "metadata": {},
     "output_type": "display_data"
    },
    {
     "data": {
      "text/html": [
       "<pre style=\"white-space:pre;overflow-x:auto;line-height:normal;font-family:Menlo,'DejaVu Sans Mono',consolas,'Courier New',monospace\"><span style=\"font-weight: bold\"> Non-trainable params: </span><span style=\"color: #00af00; text-decoration-color: #00af00\">0</span> (0.00 B)\n",
       "</pre>\n"
      ],
      "text/plain": [
       "\u001b[1m Non-trainable params: \u001b[0m\u001b[38;5;34m0\u001b[0m (0.00 B)\n"
      ]
     },
     "metadata": {},
     "output_type": "display_data"
    }
   ],
   "source": [
    "model.summary()"
   ]
  },
  {
   "cell_type": "code",
   "execution_count": 399,
   "metadata": {
    "colab": {
     "base_uri": "https://localhost:8080/"
    },
    "executionInfo": {
     "elapsed": 124508,
     "status": "ok",
     "timestamp": 1725870428370,
     "user": {
      "displayName": "Ulrich Bodenhofer",
      "userId": "07009582510819085803"
     },
     "user_tz": -120
    },
    "id": "vpr2vEnZEj5-",
    "outputId": "8e40aabd-2a9e-413e-d243-1b586f08a9e4"
   },
   "outputs": [
    {
     "name": "stdout",
     "output_type": "stream",
     "text": [
      "Epoch 1/350\n",
      "150/150 - 1s - 4ms/step - accuracy: 0.1071 - loss: 2.3250 - val_accuracy: 0.1017 - val_loss: 2.3278\n",
      "Epoch 2/350\n",
      "150/150 - 0s - 1ms/step - accuracy: 0.1204 - loss: 2.2946 - val_accuracy: 0.2217 - val_loss: 2.2602\n",
      "Epoch 3/350\n",
      "150/150 - 0s - 1ms/step - accuracy: 0.1663 - loss: 2.2495 - val_accuracy: 0.1017 - val_loss: 2.2348\n",
      "Epoch 4/350\n",
      "150/150 - 0s - 1ms/step - accuracy: 0.2246 - loss: 2.1872 - val_accuracy: 0.0833 - val_loss: 2.1964\n",
      "Epoch 5/350\n",
      "150/150 - 0s - 1ms/step - accuracy: 0.3121 - loss: 2.0758 - val_accuracy: 0.4233 - val_loss: 1.9812\n",
      "Epoch 6/350\n",
      "150/150 - 0s - 1ms/step - accuracy: 0.4100 - loss: 1.8866 - val_accuracy: 0.4933 - val_loss: 1.7810\n",
      "Epoch 7/350\n",
      "150/150 - 0s - 1ms/step - accuracy: 0.4804 - loss: 1.6773 - val_accuracy: 0.4883 - val_loss: 1.5724\n",
      "Epoch 8/350\n",
      "150/150 - 0s - 1ms/step - accuracy: 0.5521 - loss: 1.4970 - val_accuracy: 0.5717 - val_loss: 1.4308\n",
      "Epoch 9/350\n",
      "150/150 - 0s - 1ms/step - accuracy: 0.6046 - loss: 1.3572 - val_accuracy: 0.6167 - val_loss: 1.2725\n",
      "Epoch 10/350\n",
      "150/150 - 0s - 1ms/step - accuracy: 0.6317 - loss: 1.2379 - val_accuracy: 0.6467 - val_loss: 1.1741\n",
      "Epoch 11/350\n",
      "150/150 - 0s - 1ms/step - accuracy: 0.6800 - loss: 1.1299 - val_accuracy: 0.7467 - val_loss: 1.0490\n",
      "Epoch 12/350\n",
      "150/150 - 0s - 1ms/step - accuracy: 0.7088 - loss: 1.0348 - val_accuracy: 0.7450 - val_loss: 0.9820\n",
      "Epoch 13/350\n",
      "150/150 - 0s - 1ms/step - accuracy: 0.7254 - loss: 0.9600 - val_accuracy: 0.7617 - val_loss: 0.9013\n",
      "Epoch 14/350\n",
      "150/150 - 0s - 1ms/step - accuracy: 0.7358 - loss: 0.8938 - val_accuracy: 0.7667 - val_loss: 0.8471\n",
      "Epoch 15/350\n",
      "150/150 - 0s - 1ms/step - accuracy: 0.7450 - loss: 0.8524 - val_accuracy: 0.7650 - val_loss: 0.8171\n",
      "Epoch 16/350\n",
      "150/150 - 0s - 1ms/step - accuracy: 0.7579 - loss: 0.8091 - val_accuracy: 0.7767 - val_loss: 0.7700\n",
      "Epoch 17/350\n",
      "150/150 - 0s - 1ms/step - accuracy: 0.7621 - loss: 0.7776 - val_accuracy: 0.7917 - val_loss: 0.7331\n",
      "Epoch 18/350\n",
      "150/150 - 0s - 1ms/step - accuracy: 0.7658 - loss: 0.7509 - val_accuracy: 0.7717 - val_loss: 0.7384\n",
      "Epoch 19/350\n",
      "150/150 - 0s - 1ms/step - accuracy: 0.7833 - loss: 0.7256 - val_accuracy: 0.7867 - val_loss: 0.7058\n",
      "Epoch 20/350\n",
      "150/150 - 0s - 1ms/step - accuracy: 0.7858 - loss: 0.7004 - val_accuracy: 0.8067 - val_loss: 0.6538\n",
      "Epoch 21/350\n",
      "150/150 - 0s - 1ms/step - accuracy: 0.7867 - loss: 0.6857 - val_accuracy: 0.8133 - val_loss: 0.6384\n",
      "Epoch 22/350\n",
      "150/150 - 0s - 1ms/step - accuracy: 0.7983 - loss: 0.6608 - val_accuracy: 0.8350 - val_loss: 0.5929\n",
      "Epoch 23/350\n",
      "150/150 - 0s - 1ms/step - accuracy: 0.8017 - loss: 0.6412 - val_accuracy: 0.8167 - val_loss: 0.5880\n",
      "Epoch 24/350\n",
      "150/150 - 0s - 1ms/step - accuracy: 0.8021 - loss: 0.6230 - val_accuracy: 0.8033 - val_loss: 0.6133\n",
      "Epoch 25/350\n",
      "150/150 - 0s - 1ms/step - accuracy: 0.8121 - loss: 0.6054 - val_accuracy: 0.8233 - val_loss: 0.5868\n",
      "Epoch 26/350\n",
      "150/150 - 0s - 1ms/step - accuracy: 0.8142 - loss: 0.5883 - val_accuracy: 0.8517 - val_loss: 0.5329\n",
      "Epoch 27/350\n",
      "150/150 - 0s - 1ms/step - accuracy: 0.8179 - loss: 0.5791 - val_accuracy: 0.8217 - val_loss: 0.5786\n",
      "Epoch 28/350\n",
      "150/150 - 0s - 1ms/step - accuracy: 0.8279 - loss: 0.5616 - val_accuracy: 0.8517 - val_loss: 0.5149\n",
      "Epoch 29/350\n",
      "150/150 - 0s - 1ms/step - accuracy: 0.8263 - loss: 0.5526 - val_accuracy: 0.8400 - val_loss: 0.5236\n",
      "Epoch 30/350\n",
      "150/150 - 0s - 1ms/step - accuracy: 0.8300 - loss: 0.5440 - val_accuracy: 0.8433 - val_loss: 0.5360\n",
      "Epoch 31/350\n",
      "150/150 - 0s - 1ms/step - accuracy: 0.8338 - loss: 0.5329 - val_accuracy: 0.8617 - val_loss: 0.4786\n",
      "Epoch 32/350\n",
      "150/150 - 0s - 1ms/step - accuracy: 0.8333 - loss: 0.5221 - val_accuracy: 0.8517 - val_loss: 0.4844\n",
      "Epoch 33/350\n",
      "150/150 - 0s - 1ms/step - accuracy: 0.8338 - loss: 0.5158 - val_accuracy: 0.8683 - val_loss: 0.4681\n",
      "Epoch 34/350\n",
      "150/150 - 0s - 1ms/step - accuracy: 0.8413 - loss: 0.5056 - val_accuracy: 0.8567 - val_loss: 0.5004\n",
      "Epoch 35/350\n",
      "150/150 - 0s - 1ms/step - accuracy: 0.8425 - loss: 0.5023 - val_accuracy: 0.8600 - val_loss: 0.4700\n",
      "Epoch 36/350\n",
      "150/150 - 0s - 1ms/step - accuracy: 0.8462 - loss: 0.4945 - val_accuracy: 0.8483 - val_loss: 0.5030\n",
      "Epoch 37/350\n",
      "150/150 - 0s - 1ms/step - accuracy: 0.8438 - loss: 0.4951 - val_accuracy: 0.8567 - val_loss: 0.4646\n",
      "Epoch 38/350\n",
      "150/150 - 0s - 1ms/step - accuracy: 0.8492 - loss: 0.4833 - val_accuracy: 0.8517 - val_loss: 0.4779\n",
      "Epoch 39/350\n",
      "150/150 - 0s - 1ms/step - accuracy: 0.8542 - loss: 0.4783 - val_accuracy: 0.8650 - val_loss: 0.4490\n",
      "Epoch 40/350\n",
      "150/150 - 0s - 1ms/step - accuracy: 0.8517 - loss: 0.4759 - val_accuracy: 0.8750 - val_loss: 0.4368\n",
      "Epoch 41/350\n",
      "150/150 - 0s - 1ms/step - accuracy: 0.8537 - loss: 0.4621 - val_accuracy: 0.8683 - val_loss: 0.4342\n",
      "Epoch 42/350\n",
      "150/150 - 0s - 1ms/step - accuracy: 0.8537 - loss: 0.4685 - val_accuracy: 0.8733 - val_loss: 0.4207\n",
      "Epoch 43/350\n",
      "150/150 - 0s - 1ms/step - accuracy: 0.8596 - loss: 0.4572 - val_accuracy: 0.8600 - val_loss: 0.4563\n",
      "Epoch 44/350\n",
      "150/150 - 0s - 1ms/step - accuracy: 0.8571 - loss: 0.4600 - val_accuracy: 0.8700 - val_loss: 0.4316\n",
      "Epoch 45/350\n",
      "150/150 - 0s - 1ms/step - accuracy: 0.8667 - loss: 0.4496 - val_accuracy: 0.8750 - val_loss: 0.4161\n",
      "Epoch 46/350\n",
      "150/150 - 0s - 1ms/step - accuracy: 0.8608 - loss: 0.4510 - val_accuracy: 0.8817 - val_loss: 0.4210\n",
      "Epoch 47/350\n",
      "150/150 - 0s - 1ms/step - accuracy: 0.8625 - loss: 0.4438 - val_accuracy: 0.8567 - val_loss: 0.4564\n",
      "Epoch 48/350\n",
      "150/150 - 0s - 1ms/step - accuracy: 0.8633 - loss: 0.4441 - val_accuracy: 0.8717 - val_loss: 0.4158\n",
      "Epoch 49/350\n",
      "150/150 - 0s - 1ms/step - accuracy: 0.8650 - loss: 0.4365 - val_accuracy: 0.8617 - val_loss: 0.4303\n",
      "Epoch 50/350\n",
      "150/150 - 0s - 1ms/step - accuracy: 0.8700 - loss: 0.4376 - val_accuracy: 0.8817 - val_loss: 0.3955\n",
      "Epoch 51/350\n",
      "150/150 - 0s - 1ms/step - accuracy: 0.8692 - loss: 0.4344 - val_accuracy: 0.8683 - val_loss: 0.4162\n",
      "Epoch 52/350\n",
      "150/150 - 0s - 3ms/step - accuracy: 0.8708 - loss: 0.4288 - val_accuracy: 0.8633 - val_loss: 0.4253\n",
      "Epoch 53/350\n",
      "150/150 - 0s - 1ms/step - accuracy: 0.8712 - loss: 0.4291 - val_accuracy: 0.8767 - val_loss: 0.4042\n",
      "Epoch 54/350\n",
      "150/150 - 0s - 1ms/step - accuracy: 0.8725 - loss: 0.4194 - val_accuracy: 0.8750 - val_loss: 0.4210\n",
      "Epoch 55/350\n",
      "150/150 - 0s - 1ms/step - accuracy: 0.8729 - loss: 0.4189 - val_accuracy: 0.8683 - val_loss: 0.4238\n",
      "Epoch 56/350\n",
      "150/150 - 0s - 1ms/step - accuracy: 0.8763 - loss: 0.4189 - val_accuracy: 0.8800 - val_loss: 0.3952\n",
      "Epoch 57/350\n",
      "150/150 - 0s - 1ms/step - accuracy: 0.8758 - loss: 0.4152 - val_accuracy: 0.8850 - val_loss: 0.3960\n",
      "Epoch 58/350\n",
      "150/150 - 0s - 1ms/step - accuracy: 0.8763 - loss: 0.4115 - val_accuracy: 0.8683 - val_loss: 0.4273\n",
      "Epoch 59/350\n",
      "150/150 - 0s - 1ms/step - accuracy: 0.8733 - loss: 0.4106 - val_accuracy: 0.8850 - val_loss: 0.3762\n",
      "Epoch 60/350\n",
      "150/150 - 0s - 1ms/step - accuracy: 0.8742 - loss: 0.4053 - val_accuracy: 0.8717 - val_loss: 0.3981\n",
      "Epoch 61/350\n",
      "150/150 - 0s - 1ms/step - accuracy: 0.8771 - loss: 0.4059 - val_accuracy: 0.8900 - val_loss: 0.3816\n",
      "Epoch 62/350\n",
      "150/150 - 0s - 3ms/step - accuracy: 0.8821 - loss: 0.4034 - val_accuracy: 0.8917 - val_loss: 0.3756\n",
      "Epoch 63/350\n",
      "150/150 - 0s - 1ms/step - accuracy: 0.8754 - loss: 0.4031 - val_accuracy: 0.8783 - val_loss: 0.3960\n",
      "Epoch 64/350\n",
      "150/150 - 0s - 1ms/step - accuracy: 0.8779 - loss: 0.4000 - val_accuracy: 0.8833 - val_loss: 0.3758\n",
      "Epoch 65/350\n",
      "150/150 - 0s - 1ms/step - accuracy: 0.8863 - loss: 0.3963 - val_accuracy: 0.8667 - val_loss: 0.3945\n",
      "Epoch 66/350\n",
      "150/150 - 0s - 1ms/step - accuracy: 0.8800 - loss: 0.3910 - val_accuracy: 0.8867 - val_loss: 0.3762\n",
      "Epoch 67/350\n",
      "150/150 - 0s - 1ms/step - accuracy: 0.8813 - loss: 0.3909 - val_accuracy: 0.8800 - val_loss: 0.3837\n",
      "Epoch 68/350\n",
      "150/150 - 0s - 1ms/step - accuracy: 0.8867 - loss: 0.3883 - val_accuracy: 0.8900 - val_loss: 0.3744\n",
      "Epoch 69/350\n",
      "150/150 - 0s - 1ms/step - accuracy: 0.8854 - loss: 0.3885 - val_accuracy: 0.8917 - val_loss: 0.3745\n",
      "Epoch 70/350\n",
      "150/150 - 0s - 1ms/step - accuracy: 0.8863 - loss: 0.3852 - val_accuracy: 0.8883 - val_loss: 0.3689\n",
      "Epoch 71/350\n",
      "150/150 - 0s - 1ms/step - accuracy: 0.8838 - loss: 0.3820 - val_accuracy: 0.9000 - val_loss: 0.3774\n",
      "Epoch 72/350\n",
      "150/150 - 0s - 1ms/step - accuracy: 0.8879 - loss: 0.3776 - val_accuracy: 0.8917 - val_loss: 0.3646\n",
      "Epoch 73/350\n",
      "150/150 - 0s - 1ms/step - accuracy: 0.8908 - loss: 0.3747 - val_accuracy: 0.8933 - val_loss: 0.3702\n",
      "Epoch 74/350\n",
      "150/150 - 0s - 1ms/step - accuracy: 0.8917 - loss: 0.3783 - val_accuracy: 0.8900 - val_loss: 0.3666\n",
      "Epoch 75/350\n",
      "150/150 - 0s - 3ms/step - accuracy: 0.8896 - loss: 0.3741 - val_accuracy: 0.8967 - val_loss: 0.3717\n",
      "Epoch 76/350\n",
      "150/150 - 0s - 1ms/step - accuracy: 0.8854 - loss: 0.3677 - val_accuracy: 0.9017 - val_loss: 0.3537\n",
      "Epoch 77/350\n",
      "150/150 - 0s - 1ms/step - accuracy: 0.8900 - loss: 0.3736 - val_accuracy: 0.9000 - val_loss: 0.3463\n",
      "Epoch 78/350\n",
      "150/150 - 0s - 1ms/step - accuracy: 0.8896 - loss: 0.3664 - val_accuracy: 0.8967 - val_loss: 0.3685\n",
      "Epoch 79/350\n",
      "150/150 - 0s - 1ms/step - accuracy: 0.8904 - loss: 0.3625 - val_accuracy: 0.8950 - val_loss: 0.3594\n",
      "Epoch 80/350\n",
      "150/150 - 0s - 1ms/step - accuracy: 0.8883 - loss: 0.3625 - val_accuracy: 0.8933 - val_loss: 0.3627\n",
      "Epoch 81/350\n",
      "150/150 - 0s - 1ms/step - accuracy: 0.8896 - loss: 0.3641 - val_accuracy: 0.8867 - val_loss: 0.3606\n",
      "Epoch 82/350\n",
      "150/150 - 0s - 1ms/step - accuracy: 0.8883 - loss: 0.3594 - val_accuracy: 0.9000 - val_loss: 0.3473\n",
      "Epoch 83/350\n",
      "150/150 - 0s - 1ms/step - accuracy: 0.8925 - loss: 0.3577 - val_accuracy: 0.9017 - val_loss: 0.3516\n",
      "Epoch 84/350\n",
      "150/150 - 0s - 1ms/step - accuracy: 0.8904 - loss: 0.3569 - val_accuracy: 0.9033 - val_loss: 0.3448\n",
      "Epoch 85/350\n",
      "150/150 - 0s - 1ms/step - accuracy: 0.8946 - loss: 0.3547 - val_accuracy: 0.8983 - val_loss: 0.3401\n",
      "Epoch 86/350\n",
      "150/150 - 0s - 1ms/step - accuracy: 0.8967 - loss: 0.3488 - val_accuracy: 0.8900 - val_loss: 0.3591\n",
      "Epoch 87/350\n",
      "150/150 - 0s - 1ms/step - accuracy: 0.8992 - loss: 0.3485 - val_accuracy: 0.9017 - val_loss: 0.3492\n",
      "Epoch 88/350\n",
      "150/150 - 0s - 1ms/step - accuracy: 0.8992 - loss: 0.3461 - val_accuracy: 0.8933 - val_loss: 0.3638\n",
      "Epoch 89/350\n",
      "150/150 - 0s - 1ms/step - accuracy: 0.8996 - loss: 0.3426 - val_accuracy: 0.9000 - val_loss: 0.3449\n",
      "Epoch 90/350\n",
      "150/150 - 0s - 1ms/step - accuracy: 0.8950 - loss: 0.3434 - val_accuracy: 0.8817 - val_loss: 0.3803\n",
      "Epoch 91/350\n",
      "150/150 - 0s - 1ms/step - accuracy: 0.8958 - loss: 0.3416 - val_accuracy: 0.8983 - val_loss: 0.3485\n",
      "Epoch 92/350\n",
      "150/150 - 0s - 1ms/step - accuracy: 0.9017 - loss: 0.3366 - val_accuracy: 0.9033 - val_loss: 0.3419\n",
      "Epoch 93/350\n",
      "150/150 - 0s - 1ms/step - accuracy: 0.8988 - loss: 0.3373 - val_accuracy: 0.9000 - val_loss: 0.3394\n",
      "Epoch 94/350\n",
      "150/150 - 0s - 1ms/step - accuracy: 0.9021 - loss: 0.3323 - val_accuracy: 0.9033 - val_loss: 0.3390\n",
      "Epoch 95/350\n",
      "150/150 - 0s - 1ms/step - accuracy: 0.8988 - loss: 0.3325 - val_accuracy: 0.9100 - val_loss: 0.3293\n",
      "Epoch 96/350\n",
      "150/150 - 0s - 1ms/step - accuracy: 0.9021 - loss: 0.3281 - val_accuracy: 0.9067 - val_loss: 0.3384\n",
      "Epoch 97/350\n",
      "150/150 - 0s - 1ms/step - accuracy: 0.9033 - loss: 0.3258 - val_accuracy: 0.9083 - val_loss: 0.3323\n",
      "Epoch 98/350\n",
      "150/150 - 0s - 1ms/step - accuracy: 0.9008 - loss: 0.3257 - val_accuracy: 0.9033 - val_loss: 0.3390\n",
      "Epoch 99/350\n",
      "150/150 - 0s - 1ms/step - accuracy: 0.9033 - loss: 0.3227 - val_accuracy: 0.9050 - val_loss: 0.3265\n",
      "Epoch 100/350\n",
      "150/150 - 0s - 1ms/step - accuracy: 0.9004 - loss: 0.3240 - val_accuracy: 0.8900 - val_loss: 0.3473\n",
      "Epoch 101/350\n",
      "150/150 - 0s - 1ms/step - accuracy: 0.9062 - loss: 0.3175 - val_accuracy: 0.9067 - val_loss: 0.3224\n",
      "Epoch 102/350\n",
      "150/150 - 0s - 1ms/step - accuracy: 0.9042 - loss: 0.3155 - val_accuracy: 0.9067 - val_loss: 0.3272\n",
      "Epoch 103/350\n",
      "150/150 - 0s - 1ms/step - accuracy: 0.9025 - loss: 0.3173 - val_accuracy: 0.9083 - val_loss: 0.3204\n",
      "Epoch 104/350\n",
      "150/150 - 0s - 1ms/step - accuracy: 0.9013 - loss: 0.3099 - val_accuracy: 0.9083 - val_loss: 0.3283\n",
      "Epoch 105/350\n",
      "150/150 - 0s - 1ms/step - accuracy: 0.9075 - loss: 0.3105 - val_accuracy: 0.9050 - val_loss: 0.3221\n",
      "Epoch 106/350\n",
      "150/150 - 0s - 1ms/step - accuracy: 0.9062 - loss: 0.3059 - val_accuracy: 0.9083 - val_loss: 0.3264\n",
      "Epoch 107/350\n",
      "150/150 - 0s - 1ms/step - accuracy: 0.9042 - loss: 0.3071 - val_accuracy: 0.9100 - val_loss: 0.3233\n",
      "Epoch 108/350\n",
      "150/150 - 0s - 1ms/step - accuracy: 0.9050 - loss: 0.3057 - val_accuracy: 0.9017 - val_loss: 0.3235\n",
      "Epoch 109/350\n",
      "150/150 - 0s - 1ms/step - accuracy: 0.9062 - loss: 0.3038 - val_accuracy: 0.9117 - val_loss: 0.3169\n",
      "Epoch 110/350\n",
      "150/150 - 0s - 1ms/step - accuracy: 0.9108 - loss: 0.3006 - val_accuracy: 0.9100 - val_loss: 0.3146\n",
      "Epoch 111/350\n",
      "150/150 - 0s - 1ms/step - accuracy: 0.9067 - loss: 0.3007 - val_accuracy: 0.9150 - val_loss: 0.3141\n",
      "Epoch 112/350\n",
      "150/150 - 0s - 1ms/step - accuracy: 0.9092 - loss: 0.2986 - val_accuracy: 0.9133 - val_loss: 0.3086\n",
      "Epoch 113/350\n",
      "150/150 - 0s - 1ms/step - accuracy: 0.9125 - loss: 0.2936 - val_accuracy: 0.9000 - val_loss: 0.3301\n",
      "Epoch 114/350\n",
      "150/150 - 0s - 1ms/step - accuracy: 0.9108 - loss: 0.2967 - val_accuracy: 0.9133 - val_loss: 0.3173\n",
      "Epoch 115/350\n",
      "150/150 - 0s - 1ms/step - accuracy: 0.9121 - loss: 0.2931 - val_accuracy: 0.9100 - val_loss: 0.3112\n",
      "Epoch 116/350\n",
      "150/150 - 0s - 1ms/step - accuracy: 0.9129 - loss: 0.2941 - val_accuracy: 0.9150 - val_loss: 0.3095\n",
      "Epoch 117/350\n",
      "150/150 - 0s - 1ms/step - accuracy: 0.9154 - loss: 0.2901 - val_accuracy: 0.9100 - val_loss: 0.3347\n",
      "Epoch 118/350\n",
      "150/150 - 0s - 1ms/step - accuracy: 0.9108 - loss: 0.2887 - val_accuracy: 0.9150 - val_loss: 0.3050\n",
      "Epoch 119/350\n",
      "150/150 - 0s - 1ms/step - accuracy: 0.9125 - loss: 0.2849 - val_accuracy: 0.9017 - val_loss: 0.3331\n",
      "Epoch 120/350\n",
      "150/150 - 0s - 1ms/step - accuracy: 0.9154 - loss: 0.2863 - val_accuracy: 0.9117 - val_loss: 0.3085\n",
      "Epoch 121/350\n",
      "150/150 - 0s - 1ms/step - accuracy: 0.9117 - loss: 0.2786 - val_accuracy: 0.9017 - val_loss: 0.3194\n",
      "Epoch 122/350\n",
      "150/150 - 0s - 1ms/step - accuracy: 0.9179 - loss: 0.2825 - val_accuracy: 0.9200 - val_loss: 0.3036\n",
      "Epoch 123/350\n",
      "150/150 - 0s - 1ms/step - accuracy: 0.9133 - loss: 0.2808 - val_accuracy: 0.9033 - val_loss: 0.3285\n",
      "Epoch 124/350\n",
      "150/150 - 0s - 1ms/step - accuracy: 0.9167 - loss: 0.2786 - val_accuracy: 0.9117 - val_loss: 0.3095\n",
      "Epoch 125/350\n",
      "150/150 - 0s - 1ms/step - accuracy: 0.9121 - loss: 0.2727 - val_accuracy: 0.9117 - val_loss: 0.3057\n",
      "Epoch 126/350\n",
      "150/150 - 0s - 1ms/step - accuracy: 0.9179 - loss: 0.2725 - val_accuracy: 0.9133 - val_loss: 0.3029\n",
      "Epoch 127/350\n",
      "150/150 - 0s - 1ms/step - accuracy: 0.9179 - loss: 0.2715 - val_accuracy: 0.9200 - val_loss: 0.2986\n",
      "Epoch 128/350\n",
      "150/150 - 0s - 1ms/step - accuracy: 0.9179 - loss: 0.2711 - val_accuracy: 0.9067 - val_loss: 0.3215\n",
      "Epoch 129/350\n",
      "150/150 - 0s - 1ms/step - accuracy: 0.9212 - loss: 0.2700 - val_accuracy: 0.9217 - val_loss: 0.2943\n",
      "Epoch 130/350\n",
      "150/150 - 0s - 1ms/step - accuracy: 0.9158 - loss: 0.2669 - val_accuracy: 0.9200 - val_loss: 0.2970\n",
      "Epoch 131/350\n",
      "150/150 - 0s - 1ms/step - accuracy: 0.9221 - loss: 0.2654 - val_accuracy: 0.9150 - val_loss: 0.2992\n",
      "Epoch 132/350\n",
      "150/150 - 0s - 1ms/step - accuracy: 0.9221 - loss: 0.2641 - val_accuracy: 0.9183 - val_loss: 0.2907\n",
      "Epoch 133/350\n",
      "150/150 - 0s - 1ms/step - accuracy: 0.9167 - loss: 0.2623 - val_accuracy: 0.9167 - val_loss: 0.3073\n",
      "Epoch 134/350\n",
      "150/150 - 0s - 1ms/step - accuracy: 0.9229 - loss: 0.2605 - val_accuracy: 0.9167 - val_loss: 0.2954\n",
      "Epoch 135/350\n",
      "150/150 - 0s - 1ms/step - accuracy: 0.9250 - loss: 0.2597 - val_accuracy: 0.9183 - val_loss: 0.3088\n",
      "Epoch 136/350\n",
      "150/150 - 0s - 1ms/step - accuracy: 0.9192 - loss: 0.2581 - val_accuracy: 0.9217 - val_loss: 0.2869\n",
      "Epoch 137/350\n",
      "150/150 - 0s - 1ms/step - accuracy: 0.9212 - loss: 0.2591 - val_accuracy: 0.9000 - val_loss: 0.3084\n",
      "Epoch 138/350\n",
      "150/150 - 0s - 1ms/step - accuracy: 0.9229 - loss: 0.2560 - val_accuracy: 0.9250 - val_loss: 0.2894\n",
      "Epoch 139/350\n",
      "150/150 - 0s - 1ms/step - accuracy: 0.9233 - loss: 0.2524 - val_accuracy: 0.9200 - val_loss: 0.2907\n",
      "Epoch 140/350\n",
      "150/150 - 0s - 1ms/step - accuracy: 0.9233 - loss: 0.2493 - val_accuracy: 0.9117 - val_loss: 0.3090\n",
      "Epoch 141/350\n",
      "150/150 - 0s - 1ms/step - accuracy: 0.9242 - loss: 0.2485 - val_accuracy: 0.9217 - val_loss: 0.2824\n",
      "Epoch 142/350\n",
      "150/150 - 0s - 1ms/step - accuracy: 0.9275 - loss: 0.2461 - val_accuracy: 0.9050 - val_loss: 0.3033\n",
      "Epoch 143/350\n",
      "150/150 - 0s - 1ms/step - accuracy: 0.9221 - loss: 0.2496 - val_accuracy: 0.9200 - val_loss: 0.2946\n",
      "Epoch 144/350\n",
      "150/150 - 0s - 1ms/step - accuracy: 0.9300 - loss: 0.2432 - val_accuracy: 0.9183 - val_loss: 0.2871\n",
      "Epoch 145/350\n",
      "150/150 - 0s - 1ms/step - accuracy: 0.9246 - loss: 0.2443 - val_accuracy: 0.9200 - val_loss: 0.2855\n",
      "Epoch 146/350\n",
      "150/150 - 0s - 1ms/step - accuracy: 0.9271 - loss: 0.2407 - val_accuracy: 0.9217 - val_loss: 0.2874\n",
      "Epoch 147/350\n",
      "150/150 - 0s - 1ms/step - accuracy: 0.9279 - loss: 0.2396 - val_accuracy: 0.9233 - val_loss: 0.2895\n",
      "Epoch 148/350\n",
      "150/150 - 0s - 1ms/step - accuracy: 0.9312 - loss: 0.2367 - val_accuracy: 0.9150 - val_loss: 0.2877\n",
      "Epoch 149/350\n",
      "150/150 - 0s - 1ms/step - accuracy: 0.9254 - loss: 0.2370 - val_accuracy: 0.9217 - val_loss: 0.2953\n",
      "Epoch 150/350\n",
      "150/150 - 0s - 1ms/step - accuracy: 0.9275 - loss: 0.2354 - val_accuracy: 0.9033 - val_loss: 0.3027\n",
      "Epoch 151/350\n",
      "150/150 - 0s - 1ms/step - accuracy: 0.9262 - loss: 0.2351 - val_accuracy: 0.9267 - val_loss: 0.2739\n",
      "Epoch 152/350\n",
      "150/150 - 0s - 1ms/step - accuracy: 0.9304 - loss: 0.2321 - val_accuracy: 0.9250 - val_loss: 0.2806\n",
      "Epoch 153/350\n",
      "150/150 - 0s - 1ms/step - accuracy: 0.9287 - loss: 0.2304 - val_accuracy: 0.9167 - val_loss: 0.2843\n",
      "Epoch 154/350\n",
      "150/150 - 0s - 1ms/step - accuracy: 0.9292 - loss: 0.2312 - val_accuracy: 0.9183 - val_loss: 0.2836\n",
      "Epoch 155/350\n",
      "150/150 - 0s - 1ms/step - accuracy: 0.9308 - loss: 0.2278 - val_accuracy: 0.9183 - val_loss: 0.2846\n",
      "Epoch 156/350\n",
      "150/150 - 0s - 1ms/step - accuracy: 0.9304 - loss: 0.2234 - val_accuracy: 0.9183 - val_loss: 0.2873\n",
      "Epoch 157/350\n",
      "150/150 - 0s - 1ms/step - accuracy: 0.9292 - loss: 0.2271 - val_accuracy: 0.9150 - val_loss: 0.2943\n",
      "Epoch 158/350\n",
      "150/150 - 0s - 1ms/step - accuracy: 0.9342 - loss: 0.2207 - val_accuracy: 0.9233 - val_loss: 0.2747\n",
      "Epoch 159/350\n",
      "150/150 - 0s - 1ms/step - accuracy: 0.9333 - loss: 0.2189 - val_accuracy: 0.9100 - val_loss: 0.2951\n",
      "Epoch 160/350\n",
      "150/150 - 0s - 1ms/step - accuracy: 0.9346 - loss: 0.2192 - val_accuracy: 0.9183 - val_loss: 0.2822\n",
      "Epoch 161/350\n",
      "150/150 - 0s - 1ms/step - accuracy: 0.9333 - loss: 0.2194 - val_accuracy: 0.9217 - val_loss: 0.2782\n",
      "Epoch 162/350\n",
      "150/150 - 0s - 1ms/step - accuracy: 0.9321 - loss: 0.2173 - val_accuracy: 0.9183 - val_loss: 0.2787\n",
      "Epoch 163/350\n",
      "150/150 - 0s - 2ms/step - accuracy: 0.9354 - loss: 0.2168 - val_accuracy: 0.9150 - val_loss: 0.2890\n",
      "Epoch 164/350\n",
      "150/150 - 0s - 1ms/step - accuracy: 0.9388 - loss: 0.2123 - val_accuracy: 0.9183 - val_loss: 0.2754\n",
      "Epoch 165/350\n",
      "150/150 - 0s - 1ms/step - accuracy: 0.9342 - loss: 0.2135 - val_accuracy: 0.9183 - val_loss: 0.2862\n",
      "Epoch 166/350\n",
      "150/150 - 0s - 1ms/step - accuracy: 0.9354 - loss: 0.2162 - val_accuracy: 0.9267 - val_loss: 0.2779\n",
      "Epoch 167/350\n",
      "150/150 - 0s - 1ms/step - accuracy: 0.9329 - loss: 0.2106 - val_accuracy: 0.9267 - val_loss: 0.2717\n",
      "Epoch 168/350\n",
      "150/150 - 0s - 1ms/step - accuracy: 0.9333 - loss: 0.2119 - val_accuracy: 0.9217 - val_loss: 0.2868\n",
      "Epoch 169/350\n",
      "150/150 - 0s - 1ms/step - accuracy: 0.9317 - loss: 0.2097 - val_accuracy: 0.9183 - val_loss: 0.2727\n",
      "Epoch 170/350\n",
      "150/150 - 0s - 1ms/step - accuracy: 0.9362 - loss: 0.2079 - val_accuracy: 0.9200 - val_loss: 0.2836\n",
      "Epoch 171/350\n",
      "150/150 - 0s - 1ms/step - accuracy: 0.9362 - loss: 0.2054 - val_accuracy: 0.9167 - val_loss: 0.2917\n",
      "Epoch 172/350\n",
      "150/150 - 0s - 1ms/step - accuracy: 0.9367 - loss: 0.2055 - val_accuracy: 0.9167 - val_loss: 0.2778\n",
      "Epoch 173/350\n",
      "150/150 - 0s - 1ms/step - accuracy: 0.9375 - loss: 0.2034 - val_accuracy: 0.9233 - val_loss: 0.2663\n",
      "Epoch 174/350\n",
      "150/150 - 0s - 1ms/step - accuracy: 0.9329 - loss: 0.2019 - val_accuracy: 0.9233 - val_loss: 0.2699\n",
      "Epoch 175/350\n",
      "150/150 - 0s - 1ms/step - accuracy: 0.9383 - loss: 0.2004 - val_accuracy: 0.9133 - val_loss: 0.2894\n",
      "Epoch 176/350\n",
      "150/150 - 0s - 1ms/step - accuracy: 0.9371 - loss: 0.1991 - val_accuracy: 0.9233 - val_loss: 0.2653\n",
      "Epoch 177/350\n",
      "150/150 - 0s - 1ms/step - accuracy: 0.9383 - loss: 0.1980 - val_accuracy: 0.9233 - val_loss: 0.2772\n",
      "Epoch 178/350\n",
      "150/150 - 0s - 1ms/step - accuracy: 0.9396 - loss: 0.1997 - val_accuracy: 0.9233 - val_loss: 0.2746\n",
      "Epoch 179/350\n",
      "150/150 - 0s - 1ms/step - accuracy: 0.9404 - loss: 0.1968 - val_accuracy: 0.9267 - val_loss: 0.2626\n",
      "Epoch 180/350\n",
      "150/150 - 0s - 1ms/step - accuracy: 0.9450 - loss: 0.1925 - val_accuracy: 0.9217 - val_loss: 0.2688\n",
      "Epoch 181/350\n",
      "150/150 - 0s - 1ms/step - accuracy: 0.9417 - loss: 0.1954 - val_accuracy: 0.9183 - val_loss: 0.2770\n",
      "Epoch 182/350\n",
      "150/150 - 0s - 1ms/step - accuracy: 0.9429 - loss: 0.1930 - val_accuracy: 0.9217 - val_loss: 0.2708\n",
      "Epoch 183/350\n",
      "150/150 - 0s - 1ms/step - accuracy: 0.9379 - loss: 0.1932 - val_accuracy: 0.9167 - val_loss: 0.2777\n",
      "Epoch 184/350\n",
      "150/150 - 0s - 1ms/step - accuracy: 0.9379 - loss: 0.1905 - val_accuracy: 0.9267 - val_loss: 0.2673\n",
      "Epoch 185/350\n",
      "150/150 - 0s - 1ms/step - accuracy: 0.9392 - loss: 0.1915 - val_accuracy: 0.9250 - val_loss: 0.2734\n",
      "Epoch 186/350\n",
      "150/150 - 0s - 1ms/step - accuracy: 0.9408 - loss: 0.1883 - val_accuracy: 0.9183 - val_loss: 0.2753\n",
      "Epoch 187/350\n",
      "150/150 - 0s - 1ms/step - accuracy: 0.9425 - loss: 0.1867 - val_accuracy: 0.9183 - val_loss: 0.2711\n",
      "Epoch 188/350\n",
      "150/150 - 0s - 1ms/step - accuracy: 0.9479 - loss: 0.1852 - val_accuracy: 0.9217 - val_loss: 0.2719\n",
      "Epoch 189/350\n",
      "150/150 - 0s - 1ms/step - accuracy: 0.9458 - loss: 0.1833 - val_accuracy: 0.9250 - val_loss: 0.2650\n",
      "Epoch 190/350\n",
      "150/150 - 0s - 1ms/step - accuracy: 0.9446 - loss: 0.1870 - val_accuracy: 0.9250 - val_loss: 0.2678\n",
      "Epoch 191/350\n",
      "150/150 - 0s - 1ms/step - accuracy: 0.9446 - loss: 0.1825 - val_accuracy: 0.9267 - val_loss: 0.2651\n",
      "Epoch 192/350\n",
      "150/150 - 0s - 1ms/step - accuracy: 0.9433 - loss: 0.1829 - val_accuracy: 0.9250 - val_loss: 0.2710\n",
      "Epoch 193/350\n",
      "150/150 - 0s - 1ms/step - accuracy: 0.9421 - loss: 0.1817 - val_accuracy: 0.9200 - val_loss: 0.2735\n",
      "Epoch 194/350\n",
      "150/150 - 0s - 1ms/step - accuracy: 0.9479 - loss: 0.1765 - val_accuracy: 0.9200 - val_loss: 0.2621\n",
      "Epoch 195/350\n",
      "150/150 - 0s - 1ms/step - accuracy: 0.9471 - loss: 0.1766 - val_accuracy: 0.9067 - val_loss: 0.2874\n",
      "Epoch 196/350\n",
      "150/150 - 0s - 1ms/step - accuracy: 0.9475 - loss: 0.1801 - val_accuracy: 0.9267 - val_loss: 0.2655\n",
      "Epoch 197/350\n",
      "150/150 - 0s - 1ms/step - accuracy: 0.9467 - loss: 0.1755 - val_accuracy: 0.9300 - val_loss: 0.2628\n",
      "Epoch 198/350\n",
      "150/150 - 0s - 1ms/step - accuracy: 0.9450 - loss: 0.1748 - val_accuracy: 0.9233 - val_loss: 0.2648\n",
      "Epoch 199/350\n",
      "150/150 - 0s - 1ms/step - accuracy: 0.9458 - loss: 0.1714 - val_accuracy: 0.9217 - val_loss: 0.2652\n",
      "Epoch 200/350\n",
      "150/150 - 0s - 1ms/step - accuracy: 0.9471 - loss: 0.1766 - val_accuracy: 0.9283 - val_loss: 0.2540\n",
      "Epoch 201/350\n",
      "150/150 - 0s - 1ms/step - accuracy: 0.9479 - loss: 0.1714 - val_accuracy: 0.9217 - val_loss: 0.2606\n",
      "Epoch 202/350\n",
      "150/150 - 0s - 1ms/step - accuracy: 0.9475 - loss: 0.1728 - val_accuracy: 0.9250 - val_loss: 0.2648\n",
      "Epoch 203/350\n",
      "150/150 - 0s - 1ms/step - accuracy: 0.9467 - loss: 0.1721 - val_accuracy: 0.9233 - val_loss: 0.2583\n",
      "Epoch 204/350\n",
      "150/150 - 0s - 1ms/step - accuracy: 0.9508 - loss: 0.1702 - val_accuracy: 0.9250 - val_loss: 0.2543\n",
      "Epoch 205/350\n",
      "150/150 - 0s - 1ms/step - accuracy: 0.9471 - loss: 0.1677 - val_accuracy: 0.9267 - val_loss: 0.2665\n",
      "Epoch 206/350\n",
      "150/150 - 0s - 1ms/step - accuracy: 0.9513 - loss: 0.1655 - val_accuracy: 0.9217 - val_loss: 0.2663\n",
      "Epoch 207/350\n",
      "150/150 - 0s - 1ms/step - accuracy: 0.9479 - loss: 0.1649 - val_accuracy: 0.9150 - val_loss: 0.2765\n",
      "Epoch 208/350\n",
      "150/150 - 0s - 1ms/step - accuracy: 0.9496 - loss: 0.1659 - val_accuracy: 0.9233 - val_loss: 0.2696\n",
      "Epoch 209/350\n",
      "150/150 - 0s - 1ms/step - accuracy: 0.9508 - loss: 0.1650 - val_accuracy: 0.9300 - val_loss: 0.2525\n",
      "Epoch 210/350\n",
      "150/150 - 0s - 1ms/step - accuracy: 0.9513 - loss: 0.1649 - val_accuracy: 0.9283 - val_loss: 0.2506\n",
      "Epoch 211/350\n",
      "150/150 - 0s - 1ms/step - accuracy: 0.9488 - loss: 0.1619 - val_accuracy: 0.9283 - val_loss: 0.2580\n",
      "Epoch 212/350\n",
      "150/150 - 0s - 1ms/step - accuracy: 0.9525 - loss: 0.1598 - val_accuracy: 0.9267 - val_loss: 0.2556\n",
      "Epoch 213/350\n",
      "150/150 - 0s - 1ms/step - accuracy: 0.9554 - loss: 0.1606 - val_accuracy: 0.9217 - val_loss: 0.2625\n",
      "Epoch 214/350\n",
      "150/150 - 0s - 1ms/step - accuracy: 0.9525 - loss: 0.1598 - val_accuracy: 0.9267 - val_loss: 0.2491\n",
      "Epoch 215/350\n",
      "150/150 - 0s - 1ms/step - accuracy: 0.9496 - loss: 0.1598 - val_accuracy: 0.9283 - val_loss: 0.2583\n",
      "Epoch 216/350\n",
      "150/150 - 0s - 1ms/step - accuracy: 0.9525 - loss: 0.1564 - val_accuracy: 0.9183 - val_loss: 0.2728\n",
      "Epoch 217/350\n",
      "150/150 - 0s - 1ms/step - accuracy: 0.9533 - loss: 0.1581 - val_accuracy: 0.9233 - val_loss: 0.2617\n",
      "Epoch 218/350\n",
      "150/150 - 0s - 1ms/step - accuracy: 0.9517 - loss: 0.1567 - val_accuracy: 0.9233 - val_loss: 0.2524\n",
      "Epoch 219/350\n",
      "150/150 - 0s - 1ms/step - accuracy: 0.9563 - loss: 0.1521 - val_accuracy: 0.9233 - val_loss: 0.2687\n",
      "Epoch 220/350\n",
      "150/150 - 0s - 1ms/step - accuracy: 0.9550 - loss: 0.1522 - val_accuracy: 0.9133 - val_loss: 0.2736\n",
      "Epoch 221/350\n",
      "150/150 - 0s - 1ms/step - accuracy: 0.9529 - loss: 0.1538 - val_accuracy: 0.9250 - val_loss: 0.2522\n",
      "Epoch 222/350\n",
      "150/150 - 0s - 1ms/step - accuracy: 0.9558 - loss: 0.1513 - val_accuracy: 0.9200 - val_loss: 0.2593\n",
      "Epoch 223/350\n",
      "150/150 - 0s - 1ms/step - accuracy: 0.9538 - loss: 0.1519 - val_accuracy: 0.9283 - val_loss: 0.2586\n",
      "Epoch 224/350\n",
      "150/150 - 0s - 1ms/step - accuracy: 0.9550 - loss: 0.1505 - val_accuracy: 0.9300 - val_loss: 0.2616\n",
      "Epoch 225/350\n",
      "150/150 - 0s - 1ms/step - accuracy: 0.9538 - loss: 0.1498 - val_accuracy: 0.9333 - val_loss: 0.2506\n",
      "Epoch 226/350\n",
      "150/150 - 0s - 1ms/step - accuracy: 0.9550 - loss: 0.1484 - val_accuracy: 0.9250 - val_loss: 0.2714\n",
      "Epoch 227/350\n",
      "150/150 - 0s - 1ms/step - accuracy: 0.9508 - loss: 0.1500 - val_accuracy: 0.9300 - val_loss: 0.2463\n",
      "Epoch 228/350\n",
      "150/150 - 0s - 1ms/step - accuracy: 0.9554 - loss: 0.1482 - val_accuracy: 0.9267 - val_loss: 0.2539\n",
      "Epoch 229/350\n",
      "150/150 - 0s - 1ms/step - accuracy: 0.9538 - loss: 0.1479 - val_accuracy: 0.9250 - val_loss: 0.2549\n",
      "Epoch 230/350\n",
      "150/150 - 0s - 1ms/step - accuracy: 0.9592 - loss: 0.1465 - val_accuracy: 0.9283 - val_loss: 0.2451\n",
      "Epoch 231/350\n",
      "150/150 - 0s - 1ms/step - accuracy: 0.9546 - loss: 0.1441 - val_accuracy: 0.9167 - val_loss: 0.2663\n",
      "Epoch 232/350\n",
      "150/150 - 0s - 1ms/step - accuracy: 0.9567 - loss: 0.1440 - val_accuracy: 0.9283 - val_loss: 0.2510\n",
      "Epoch 233/350\n",
      "150/150 - 0s - 1ms/step - accuracy: 0.9567 - loss: 0.1444 - val_accuracy: 0.9283 - val_loss: 0.2426\n",
      "Epoch 234/350\n",
      "150/150 - 0s - 1ms/step - accuracy: 0.9600 - loss: 0.1418 - val_accuracy: 0.9200 - val_loss: 0.2623\n",
      "Epoch 235/350\n",
      "150/150 - 0s - 1ms/step - accuracy: 0.9588 - loss: 0.1435 - val_accuracy: 0.9350 - val_loss: 0.2421\n",
      "Epoch 236/350\n",
      "150/150 - 0s - 1ms/step - accuracy: 0.9579 - loss: 0.1409 - val_accuracy: 0.9333 - val_loss: 0.2404\n",
      "Epoch 237/350\n",
      "150/150 - 0s - 1ms/step - accuracy: 0.9575 - loss: 0.1413 - val_accuracy: 0.9350 - val_loss: 0.2464\n",
      "Epoch 238/350\n",
      "150/150 - 0s - 1ms/step - accuracy: 0.9563 - loss: 0.1399 - val_accuracy: 0.9317 - val_loss: 0.2532\n",
      "Epoch 239/350\n",
      "150/150 - 0s - 1ms/step - accuracy: 0.9567 - loss: 0.1373 - val_accuracy: 0.9300 - val_loss: 0.2532\n",
      "Epoch 240/350\n",
      "150/150 - 0s - 1ms/step - accuracy: 0.9583 - loss: 0.1350 - val_accuracy: 0.9350 - val_loss: 0.2455\n",
      "Epoch 241/350\n",
      "150/150 - 0s - 1ms/step - accuracy: 0.9575 - loss: 0.1351 - val_accuracy: 0.9300 - val_loss: 0.2490\n",
      "Epoch 242/350\n",
      "150/150 - 0s - 1ms/step - accuracy: 0.9596 - loss: 0.1350 - val_accuracy: 0.9283 - val_loss: 0.2424\n",
      "Epoch 243/350\n",
      "150/150 - 0s - 1ms/step - accuracy: 0.9638 - loss: 0.1336 - val_accuracy: 0.9300 - val_loss: 0.2476\n",
      "Epoch 244/350\n",
      "150/150 - 0s - 1ms/step - accuracy: 0.9625 - loss: 0.1339 - val_accuracy: 0.9267 - val_loss: 0.2574\n",
      "Epoch 245/350\n",
      "150/150 - 0s - 1ms/step - accuracy: 0.9613 - loss: 0.1355 - val_accuracy: 0.9317 - val_loss: 0.2461\n",
      "Epoch 246/350\n",
      "150/150 - 0s - 1ms/step - accuracy: 0.9608 - loss: 0.1334 - val_accuracy: 0.9283 - val_loss: 0.2402\n",
      "Epoch 247/350\n",
      "150/150 - 0s - 1ms/step - accuracy: 0.9583 - loss: 0.1336 - val_accuracy: 0.9317 - val_loss: 0.2416\n",
      "Epoch 248/350\n",
      "150/150 - 0s - 1ms/step - accuracy: 0.9596 - loss: 0.1316 - val_accuracy: 0.9250 - val_loss: 0.2460\n",
      "Epoch 249/350\n",
      "150/150 - 0s - 1ms/step - accuracy: 0.9646 - loss: 0.1313 - val_accuracy: 0.9267 - val_loss: 0.2481\n",
      "Epoch 250/350\n",
      "150/150 - 0s - 1ms/step - accuracy: 0.9617 - loss: 0.1299 - val_accuracy: 0.9300 - val_loss: 0.2539\n",
      "Epoch 251/350\n",
      "150/150 - 0s - 1ms/step - accuracy: 0.9625 - loss: 0.1308 - val_accuracy: 0.9333 - val_loss: 0.2478\n",
      "Epoch 252/350\n",
      "150/150 - 0s - 1ms/step - accuracy: 0.9650 - loss: 0.1270 - val_accuracy: 0.9333 - val_loss: 0.2394\n",
      "Epoch 253/350\n",
      "150/150 - 0s - 1ms/step - accuracy: 0.9650 - loss: 0.1263 - val_accuracy: 0.9333 - val_loss: 0.2475\n",
      "Epoch 254/350\n",
      "150/150 - 0s - 1ms/step - accuracy: 0.9617 - loss: 0.1270 - val_accuracy: 0.9283 - val_loss: 0.2407\n",
      "Epoch 255/350\n",
      "150/150 - 0s - 1ms/step - accuracy: 0.9642 - loss: 0.1282 - val_accuracy: 0.9283 - val_loss: 0.2434\n",
      "Epoch 256/350\n",
      "150/150 - 0s - 1ms/step - accuracy: 0.9604 - loss: 0.1256 - val_accuracy: 0.9333 - val_loss: 0.2466\n",
      "Epoch 257/350\n",
      "150/150 - 0s - 1ms/step - accuracy: 0.9638 - loss: 0.1244 - val_accuracy: 0.9350 - val_loss: 0.2314\n",
      "Epoch 258/350\n",
      "150/150 - 0s - 1ms/step - accuracy: 0.9646 - loss: 0.1239 - val_accuracy: 0.9233 - val_loss: 0.2591\n",
      "Epoch 259/350\n",
      "150/150 - 0s - 1ms/step - accuracy: 0.9658 - loss: 0.1224 - val_accuracy: 0.9250 - val_loss: 0.2455\n",
      "Epoch 260/350\n",
      "150/150 - 0s - 1ms/step - accuracy: 0.9646 - loss: 0.1215 - val_accuracy: 0.9267 - val_loss: 0.2630\n",
      "Epoch 261/350\n",
      "150/150 - 0s - 1ms/step - accuracy: 0.9638 - loss: 0.1228 - val_accuracy: 0.9367 - val_loss: 0.2479\n",
      "Epoch 262/350\n",
      "150/150 - 0s - 1ms/step - accuracy: 0.9675 - loss: 0.1194 - val_accuracy: 0.9367 - val_loss: 0.2356\n",
      "Epoch 263/350\n",
      "150/150 - 0s - 1ms/step - accuracy: 0.9646 - loss: 0.1227 - val_accuracy: 0.9300 - val_loss: 0.2442\n",
      "Epoch 264/350\n",
      "150/150 - 0s - 1ms/step - accuracy: 0.9654 - loss: 0.1202 - val_accuracy: 0.9317 - val_loss: 0.2467\n",
      "Epoch 265/350\n",
      "150/150 - 0s - 1ms/step - accuracy: 0.9646 - loss: 0.1189 - val_accuracy: 0.9350 - val_loss: 0.2380\n",
      "Epoch 266/350\n",
      "150/150 - 0s - 1ms/step - accuracy: 0.9667 - loss: 0.1174 - val_accuracy: 0.9350 - val_loss: 0.2376\n",
      "Epoch 267/350\n",
      "150/150 - 0s - 1ms/step - accuracy: 0.9663 - loss: 0.1190 - val_accuracy: 0.9300 - val_loss: 0.2475\n",
      "Epoch 268/350\n",
      "150/150 - 0s - 1ms/step - accuracy: 0.9675 - loss: 0.1160 - val_accuracy: 0.9317 - val_loss: 0.2417\n",
      "Epoch 269/350\n",
      "150/150 - 0s - 1ms/step - accuracy: 0.9638 - loss: 0.1171 - val_accuracy: 0.9350 - val_loss: 0.2389\n",
      "Epoch 270/350\n",
      "150/150 - 0s - 1ms/step - accuracy: 0.9692 - loss: 0.1159 - val_accuracy: 0.9267 - val_loss: 0.2554\n",
      "Epoch 271/350\n",
      "150/150 - 0s - 1ms/step - accuracy: 0.9654 - loss: 0.1149 - val_accuracy: 0.9233 - val_loss: 0.2506\n",
      "Epoch 272/350\n",
      "150/150 - 0s - 1ms/step - accuracy: 0.9671 - loss: 0.1152 - val_accuracy: 0.9250 - val_loss: 0.2627\n",
      "Epoch 273/350\n",
      "150/150 - 0s - 1ms/step - accuracy: 0.9654 - loss: 0.1171 - val_accuracy: 0.9283 - val_loss: 0.2413\n",
      "Epoch 274/350\n",
      "150/150 - 0s - 1ms/step - accuracy: 0.9683 - loss: 0.1133 - val_accuracy: 0.9317 - val_loss: 0.2434\n",
      "Epoch 275/350\n",
      "150/150 - 0s - 1ms/step - accuracy: 0.9654 - loss: 0.1133 - val_accuracy: 0.9283 - val_loss: 0.2471\n",
      "Epoch 276/350\n",
      "150/150 - 0s - 1ms/step - accuracy: 0.9663 - loss: 0.1109 - val_accuracy: 0.9283 - val_loss: 0.2443\n",
      "Epoch 277/350\n",
      "150/150 - 0s - 1ms/step - accuracy: 0.9675 - loss: 0.1116 - val_accuracy: 0.9333 - val_loss: 0.2418\n",
      "Epoch 278/350\n",
      "150/150 - 0s - 1ms/step - accuracy: 0.9696 - loss: 0.1084 - val_accuracy: 0.9317 - val_loss: 0.2490\n",
      "Epoch 279/350\n",
      "150/150 - 0s - 1ms/step - accuracy: 0.9692 - loss: 0.1085 - val_accuracy: 0.9250 - val_loss: 0.2572\n",
      "Epoch 280/350\n",
      "150/150 - 0s - 1ms/step - accuracy: 0.9671 - loss: 0.1099 - val_accuracy: 0.9367 - val_loss: 0.2341\n",
      "Epoch 281/350\n",
      "150/150 - 0s - 1ms/step - accuracy: 0.9700 - loss: 0.1090 - val_accuracy: 0.9383 - val_loss: 0.2454\n",
      "Epoch 282/350\n",
      "150/150 - 0s - 1ms/step - accuracy: 0.9683 - loss: 0.1083 - val_accuracy: 0.9283 - val_loss: 0.2484\n",
      "Epoch 283/350\n",
      "150/150 - 0s - 1ms/step - accuracy: 0.9654 - loss: 0.1079 - val_accuracy: 0.9383 - val_loss: 0.2337\n",
      "Epoch 284/350\n",
      "150/150 - 0s - 1ms/step - accuracy: 0.9700 - loss: 0.1087 - val_accuracy: 0.9317 - val_loss: 0.2455\n",
      "Epoch 285/350\n",
      "150/150 - 0s - 1ms/step - accuracy: 0.9663 - loss: 0.1063 - val_accuracy: 0.9333 - val_loss: 0.2384\n",
      "Epoch 286/350\n",
      "150/150 - 0s - 1ms/step - accuracy: 0.9688 - loss: 0.1061 - val_accuracy: 0.9367 - val_loss: 0.2305\n",
      "Epoch 287/350\n",
      "150/150 - 0s - 1ms/step - accuracy: 0.9679 - loss: 0.1045 - val_accuracy: 0.9283 - val_loss: 0.2402\n",
      "Epoch 288/350\n",
      "150/150 - 0s - 1ms/step - accuracy: 0.9671 - loss: 0.1080 - val_accuracy: 0.9367 - val_loss: 0.2428\n",
      "Epoch 289/350\n",
      "150/150 - 0s - 1ms/step - accuracy: 0.9688 - loss: 0.1061 - val_accuracy: 0.9333 - val_loss: 0.2410\n",
      "Epoch 290/350\n",
      "150/150 - 0s - 1ms/step - accuracy: 0.9704 - loss: 0.1041 - val_accuracy: 0.9400 - val_loss: 0.2438\n",
      "Epoch 291/350\n",
      "150/150 - 0s - 1ms/step - accuracy: 0.9663 - loss: 0.1029 - val_accuracy: 0.9367 - val_loss: 0.2296\n",
      "Epoch 292/350\n",
      "150/150 - 0s - 1ms/step - accuracy: 0.9704 - loss: 0.1019 - val_accuracy: 0.9283 - val_loss: 0.2431\n",
      "Epoch 293/350\n",
      "150/150 - 0s - 1ms/step - accuracy: 0.9704 - loss: 0.1015 - val_accuracy: 0.9367 - val_loss: 0.2351\n",
      "Epoch 294/350\n",
      "150/150 - 0s - 1ms/step - accuracy: 0.9692 - loss: 0.1016 - val_accuracy: 0.9350 - val_loss: 0.2466\n",
      "Epoch 295/350\n",
      "150/150 - 0s - 1ms/step - accuracy: 0.9683 - loss: 0.1012 - val_accuracy: 0.9267 - val_loss: 0.2378\n",
      "Epoch 296/350\n",
      "150/150 - 0s - 1ms/step - accuracy: 0.9696 - loss: 0.1006 - val_accuracy: 0.9317 - val_loss: 0.2355\n",
      "Epoch 297/350\n",
      "150/150 - 0s - 1ms/step - accuracy: 0.9700 - loss: 0.1000 - val_accuracy: 0.9317 - val_loss: 0.2390\n",
      "Epoch 298/350\n",
      "150/150 - 0s - 1ms/step - accuracy: 0.9696 - loss: 0.0998 - val_accuracy: 0.9350 - val_loss: 0.2294\n",
      "Epoch 299/350\n",
      "150/150 - 0s - 1ms/step - accuracy: 0.9700 - loss: 0.1008 - val_accuracy: 0.9267 - val_loss: 0.2489\n",
      "Epoch 300/350\n",
      "150/150 - 0s - 1ms/step - accuracy: 0.9704 - loss: 0.0976 - val_accuracy: 0.9300 - val_loss: 0.2374\n",
      "Epoch 301/350\n",
      "150/150 - 0s - 1ms/step - accuracy: 0.9696 - loss: 0.0989 - val_accuracy: 0.9283 - val_loss: 0.2496\n",
      "Epoch 302/350\n",
      "150/150 - 0s - 1ms/step - accuracy: 0.9708 - loss: 0.0969 - val_accuracy: 0.9383 - val_loss: 0.2321\n",
      "Epoch 303/350\n",
      "150/150 - 0s - 1ms/step - accuracy: 0.9742 - loss: 0.0960 - val_accuracy: 0.9367 - val_loss: 0.2342\n",
      "Epoch 304/350\n",
      "150/150 - 0s - 1ms/step - accuracy: 0.9704 - loss: 0.0965 - val_accuracy: 0.9350 - val_loss: 0.2396\n",
      "Epoch 305/350\n",
      "150/150 - 0s - 1ms/step - accuracy: 0.9721 - loss: 0.0943 - val_accuracy: 0.9317 - val_loss: 0.2331\n",
      "Epoch 306/350\n",
      "150/150 - 0s - 1ms/step - accuracy: 0.9733 - loss: 0.0950 - val_accuracy: 0.9217 - val_loss: 0.2607\n",
      "Epoch 307/350\n",
      "150/150 - 0s - 1ms/step - accuracy: 0.9721 - loss: 0.0928 - val_accuracy: 0.9350 - val_loss: 0.2370\n",
      "Epoch 308/350\n",
      "150/150 - 0s - 1ms/step - accuracy: 0.9725 - loss: 0.0920 - val_accuracy: 0.9250 - val_loss: 0.2597\n",
      "Epoch 309/350\n",
      "150/150 - 0s - 1ms/step - accuracy: 0.9725 - loss: 0.0937 - val_accuracy: 0.9333 - val_loss: 0.2411\n",
      "Epoch 310/350\n",
      "150/150 - 0s - 1ms/step - accuracy: 0.9717 - loss: 0.0916 - val_accuracy: 0.9267 - val_loss: 0.2548\n",
      "Epoch 311/350\n",
      "150/150 - 0s - 1ms/step - accuracy: 0.9737 - loss: 0.0906 - val_accuracy: 0.9317 - val_loss: 0.2459\n",
      "Epoch 312/350\n",
      "150/150 - 0s - 1ms/step - accuracy: 0.9729 - loss: 0.0914 - val_accuracy: 0.9350 - val_loss: 0.2338\n",
      "Epoch 313/350\n",
      "150/150 - 0s - 1ms/step - accuracy: 0.9742 - loss: 0.0884 - val_accuracy: 0.9317 - val_loss: 0.2373\n",
      "Epoch 314/350\n",
      "150/150 - 0s - 1ms/step - accuracy: 0.9742 - loss: 0.0899 - val_accuracy: 0.9267 - val_loss: 0.2609\n",
      "Epoch 315/350\n",
      "150/150 - 0s - 1ms/step - accuracy: 0.9721 - loss: 0.0893 - val_accuracy: 0.9333 - val_loss: 0.2430\n",
      "Epoch 316/350\n",
      "150/150 - 0s - 1ms/step - accuracy: 0.9725 - loss: 0.0916 - val_accuracy: 0.9383 - val_loss: 0.2402\n",
      "Epoch 317/350\n",
      "150/150 - 0s - 1ms/step - accuracy: 0.9750 - loss: 0.0879 - val_accuracy: 0.9350 - val_loss: 0.2395\n",
      "Epoch 318/350\n",
      "150/150 - 0s - 1ms/step - accuracy: 0.9688 - loss: 0.0878 - val_accuracy: 0.9317 - val_loss: 0.2355\n",
      "Epoch 319/350\n",
      "150/150 - 0s - 1ms/step - accuracy: 0.9742 - loss: 0.0884 - val_accuracy: 0.9350 - val_loss: 0.2372\n",
      "Epoch 320/350\n",
      "150/150 - 0s - 1ms/step - accuracy: 0.9721 - loss: 0.0880 - val_accuracy: 0.9350 - val_loss: 0.2351\n",
      "Epoch 321/350\n",
      "150/150 - 0s - 3ms/step - accuracy: 0.9742 - loss: 0.0880 - val_accuracy: 0.9350 - val_loss: 0.2363\n",
      "Epoch 322/350\n",
      "150/150 - 0s - 1ms/step - accuracy: 0.9762 - loss: 0.0871 - val_accuracy: 0.9350 - val_loss: 0.2353\n",
      "Epoch 323/350\n",
      "150/150 - 0s - 1ms/step - accuracy: 0.9733 - loss: 0.0863 - val_accuracy: 0.9300 - val_loss: 0.2426\n",
      "Epoch 324/350\n",
      "150/150 - 0s - 1ms/step - accuracy: 0.9771 - loss: 0.0849 - val_accuracy: 0.9367 - val_loss: 0.2426\n",
      "Epoch 325/350\n",
      "150/150 - 0s - 1ms/step - accuracy: 0.9754 - loss: 0.0845 - val_accuracy: 0.9367 - val_loss: 0.2437\n",
      "Epoch 326/350\n",
      "150/150 - 0s - 1ms/step - accuracy: 0.9762 - loss: 0.0836 - val_accuracy: 0.9350 - val_loss: 0.2387\n",
      "Epoch 327/350\n",
      "150/150 - 0s - 1ms/step - accuracy: 0.9762 - loss: 0.0831 - val_accuracy: 0.9367 - val_loss: 0.2437\n",
      "Epoch 328/350\n",
      "150/150 - 0s - 1ms/step - accuracy: 0.9746 - loss: 0.0836 - val_accuracy: 0.9350 - val_loss: 0.2338\n",
      "Epoch 329/350\n",
      "150/150 - 0s - 1ms/step - accuracy: 0.9746 - loss: 0.0815 - val_accuracy: 0.9350 - val_loss: 0.2384\n",
      "Epoch 330/350\n",
      "150/150 - 0s - 1ms/step - accuracy: 0.9796 - loss: 0.0815 - val_accuracy: 0.9333 - val_loss: 0.2342\n",
      "Epoch 331/350\n",
      "150/150 - 0s - 1ms/step - accuracy: 0.9758 - loss: 0.0823 - val_accuracy: 0.9367 - val_loss: 0.2303\n",
      "Epoch 332/350\n",
      "150/150 - 0s - 1ms/step - accuracy: 0.9783 - loss: 0.0796 - val_accuracy: 0.9317 - val_loss: 0.2448\n",
      "Epoch 333/350\n",
      "150/150 - 0s - 1ms/step - accuracy: 0.9758 - loss: 0.0806 - val_accuracy: 0.9267 - val_loss: 0.2413\n",
      "Epoch 334/350\n",
      "150/150 - 0s - 1ms/step - accuracy: 0.9758 - loss: 0.0793 - val_accuracy: 0.9350 - val_loss: 0.2449\n",
      "Epoch 335/350\n",
      "150/150 - 0s - 1ms/step - accuracy: 0.9754 - loss: 0.0808 - val_accuracy: 0.9300 - val_loss: 0.2441\n",
      "Epoch 336/350\n",
      "150/150 - 0s - 1ms/step - accuracy: 0.9771 - loss: 0.0792 - val_accuracy: 0.9300 - val_loss: 0.2310\n",
      "Epoch 337/350\n",
      "150/150 - 0s - 1ms/step - accuracy: 0.9758 - loss: 0.0796 - val_accuracy: 0.9383 - val_loss: 0.2372\n",
      "Epoch 338/350\n",
      "150/150 - 0s - 3ms/step - accuracy: 0.9762 - loss: 0.0780 - val_accuracy: 0.9333 - val_loss: 0.2331\n",
      "Epoch 339/350\n",
      "150/150 - 0s - 2ms/step - accuracy: 0.9746 - loss: 0.0772 - val_accuracy: 0.9317 - val_loss: 0.2433\n",
      "Epoch 340/350\n",
      "150/150 - 0s - 2ms/step - accuracy: 0.9758 - loss: 0.0780 - val_accuracy: 0.9300 - val_loss: 0.2445\n",
      "Epoch 341/350\n",
      "150/150 - 0s - 1ms/step - accuracy: 0.9775 - loss: 0.0762 - val_accuracy: 0.9300 - val_loss: 0.2443\n",
      "Epoch 342/350\n",
      "150/150 - 0s - 1ms/step - accuracy: 0.9767 - loss: 0.0789 - val_accuracy: 0.9367 - val_loss: 0.2357\n",
      "Epoch 343/350\n",
      "150/150 - 0s - 1ms/step - accuracy: 0.9762 - loss: 0.0762 - val_accuracy: 0.9300 - val_loss: 0.2400\n",
      "Epoch 344/350\n",
      "150/150 - 0s - 1ms/step - accuracy: 0.9771 - loss: 0.0754 - val_accuracy: 0.9400 - val_loss: 0.2320\n",
      "Epoch 345/350\n",
      "150/150 - 0s - 1ms/step - accuracy: 0.9754 - loss: 0.0750 - val_accuracy: 0.9400 - val_loss: 0.2352\n",
      "Epoch 346/350\n",
      "150/150 - 0s - 1ms/step - accuracy: 0.9767 - loss: 0.0752 - val_accuracy: 0.9383 - val_loss: 0.2379\n",
      "Epoch 347/350\n",
      "150/150 - 0s - 1ms/step - accuracy: 0.9762 - loss: 0.0749 - val_accuracy: 0.9383 - val_loss: 0.2317\n",
      "Epoch 348/350\n",
      "150/150 - 0s - 1ms/step - accuracy: 0.9796 - loss: 0.0742 - val_accuracy: 0.9367 - val_loss: 0.2374\n",
      "Epoch 349/350\n",
      "150/150 - 0s - 1ms/step - accuracy: 0.9800 - loss: 0.0725 - val_accuracy: 0.9300 - val_loss: 0.2454\n",
      "Epoch 350/350\n",
      "150/150 - 0s - 1ms/step - accuracy: 0.9792 - loss: 0.0730 - val_accuracy: 0.9367 - val_loss: 0.2380\n"
     ]
    }
   ],
   "source": [
    "history = model.fit(x=dig_train['data'], y=dig_train['target'], epochs=350, batch_size=16, validation_split=0.2, verbose=2)"
   ]
  },
  {
   "cell_type": "code",
   "execution_count": 400,
   "metadata": {
    "colab": {
     "base_uri": "https://localhost:8080/",
     "height": 1000
    },
    "executionInfo": {
     "elapsed": 1355,
     "status": "ok",
     "timestamp": 1725870434460,
     "user": {
      "displayName": "Ulrich Bodenhofer",
      "userId": "07009582510819085803"
     },
     "user_tz": -120
    },
    "id": "uTxUqjRPEj5-",
    "outputId": "5bcd7af3-3b63-49af-af9d-1183c4007a4c"
   },
   "outputs": [
    {
     "data": {
      "image/png": "[encoded data removed]",
      "text/plain": [
       "<Figure size 800x600 with 1 Axes>"
      ]
     },
     "metadata": {},
     "output_type": "display_data"
    },
    {
     "data": {
      "image/png": "[encoded data removed]",
      "text/plain": [
       "<Figure size 800x600 with 1 Axes>"
      ]
     },
     "metadata": {},
     "output_type": "display_data"
    }
   ],
   "source": [
    "plot_history(history)"
   ]
  },
  {
   "cell_type": "code",
   "execution_count": 401,
   "metadata": {
    "colab": {
     "base_uri": "https://localhost:8080/"
    },
    "executionInfo": {
     "elapsed": 588,
     "status": "ok",
     "timestamp": 1725870484059,
     "user": {
      "displayName": "Ulrich Bodenhofer",
      "userId": "07009582510819085803"
     },
     "user_tz": -120
    },
    "id": "CHCpU3FfEj5-",
    "outputId": "b36d5fdd-8d55-4ce3-ed33-1aa2dbc1a0ed"
   },
   "outputs": [
    {
     "name": "stdout",
     "output_type": "stream",
     "text": [
      "\u001b[1m63/63\u001b[0m \u001b[32m━━━━━━━━━━━━━━━━━━━━\u001b[0m\u001b[37m\u001b[0m \u001b[1m0s\u001b[0m 1ms/step\n",
      "Confusion matrix (rows -> true, columns -> predicted):\n",
      "\n",
      "     0    1    2    3    4    5    6    7    8    9\n",
      "0  206    1    0    0    2    1    1    1    0    0\n",
      "1    0  188    1    1    3    4    0    4    0    2\n",
      "2    0    3  179    1    0    1    1    1    0    0\n",
      "3    2    0    2  182    1    8    0    4    1    2\n",
      "4    1    2    0    0  193    1    7    2    0    2\n",
      "5    1    0    0    2    0  179    5    0    0    3\n",
      "6    3    2    0    0    2    7  190    0    0    0\n",
      "7    0    2    5    1    1    2    0  185    1    5\n",
      "8    3    2    0    8    3    4    1    1  171    0\n",
      "9    3    2    1    3    4    5    0    0    2  184\n",
      "\n",
      "\n",
      "Class 0:\n",
      "    Sensitivity (TPR):  97.170% (206 of 212)\n",
      "    Specificity (TNR):  99.275% (1779 of 1792)\n",
      "    Precision:          94.064% (206 of 219)\n",
      "    Neg. pred. value:   99.664% (1779 of 1785)\n",
      "Class 1:\n",
      "    Sensitivity (TPR):  92.611% (188 of 203)\n",
      "    Specificity (TNR):  99.223% (1787 of 1801)\n",
      "    Precision:          93.069% (188 of 202)\n",
      "    Neg. pred. value:   99.168% (1787 of 1802)\n",
      "Class 2:\n",
      "    Sensitivity (TPR):  96.237% (179 of 186)\n",
      "    Specificity (TNR):  99.505% (1809 of 1818)\n",
      "    Precision:          95.213% (179 of 188)\n",
      "    Neg. pred. value:   99.615% (1809 of 1816)\n",
      "Class 3:\n",
      "    Sensitivity (TPR):  90.099% (182 of 202)\n",
      "    Specificity (TNR):  99.112% (1786 of 1802)\n",
      "    Precision:          91.919% (182 of 198)\n",
      "    Neg. pred. value:   98.893% (1786 of 1806)\n",
      "Class 4:\n",
      "    Sensitivity (TPR):  92.788% (193 of 208)\n",
      "    Specificity (TNR):  99.109% (1780 of 1796)\n",
      "    Precision:          92.344% (193 of 209)\n",
      "    Neg. pred. value:   99.164% (1780 of 1795)\n",
      "Class 5:\n",
      "    Sensitivity (TPR):  94.211% (179 of 190)\n",
      "    Specificity (TNR):  98.181% (1781 of 1814)\n",
      "    Precision:          84.434% (179 of 212)\n",
      "    Neg. pred. value:   99.386% (1781 of 1792)\n",
      "Class 6:\n",
      "    Sensitivity (TPR):  93.137% (190 of 204)\n",
      "    Specificity (TNR):  99.167% (1785 of 1800)\n",
      "    Precision:          92.683% (190 of 205)\n",
      "    Neg. pred. value:   99.222% (1785 of 1799)\n",
      "Class 7:\n",
      "    Sensitivity (TPR):  91.584% (185 of 202)\n",
      "    Specificity (TNR):  99.279% (1789 of 1802)\n",
      "    Precision:          93.434% (185 of 198)\n",
      "    Neg. pred. value:   99.059% (1789 of 1806)\n",
      "Class 8:\n",
      "    Sensitivity (TPR):  88.601% (171 of 193)\n",
      "    Specificity (TNR):  99.779% (1807 of 1811)\n",
      "    Precision:          97.714% (171 of 175)\n",
      "    Neg. pred. value:   98.797% (1807 of 1829)\n",
      "Class 9:\n",
      "    Sensitivity (TPR):  90.196% (184 of 204)\n",
      "    Specificity (TNR):  99.222% (1786 of 1800)\n",
      "    Precision:          92.929% (184 of 198)\n",
      "    Neg. pred. value:   98.893% (1786 of 1806)\n",
      "\n",
      "Overall accuracy:   92.665% (1857 of 2004)\n",
      "Balanced accuracy:  92.663%\n"
     ]
    }
   ],
   "source": [
    "pred = model.predict(dig_test['data'])\n",
    "\n",
    "evaluate_classification_result(dig_test['target'], pred, classes=dig_test['target_names'])"
   ]
  },
  {
   "cell_type": "markdown",
   "metadata": {
    "id": "HGm7WSuvEj5-"
   },
   "source": [
    "## Modern Network\n",
    "\n",
    "**Results from experimenting:**\n",
    "- **Trial 1:** 4 hidden layers: 94,261% validation accuracy\n",
    "  - 2 dense layers 392 and 196 neurons and relu activation\n",
    "  - 2 dropout layers with 0.5 \n",
    "  - 100 epochs \n",
    "  - adam with learn-rate 0.01\n",
    "- **Trial 2:** 6 hidden layers: 94,212% validation accuracy\n",
    "  - 3 dense layers 392, 196 and 98 neurons and relu activation\n",
    "  - 3 dropout layers with 0.5 \n",
    "  - 100 epochs \n",
    "  - adam with learn-rate 0.01\n",
    "- **Trial 3:** 6 hidden layers: 94,461% validation accuracy\n",
    "  - 3 dense layers 512, 256 and 128 neurons and relu activation\n",
    "  - 3 dropout layers with 0.5 \n",
    "  - 100 epochs \n",
    "  - adam with learn-rate 0.01\n",
    "- **Trial 4:** 6 hidden layers: 95,11% validation accuracy\n",
    "  - 3 dense layers 512, 256 and 128 neurons and relu activation\n",
    "  - 3 dropout layers with 0.5 \n",
    "  - 200 epochs \n",
    "  - adam with learn-rate 0.01\n",
    "- **Trial 5:** 6 hidden layers: 88,573% validation accuracy\n",
    "  - 3 dense layers 64, 32 and 16 neurons and relu activation\n",
    "  - 3 dropout layers with 0.5 \n",
    "  - 200 epochs \n",
    "  - adam with learn-rate 0.01\n",
    "- **Trial 6:** 2 hidden layers: 91,267% validation accuracy\n",
    "  - 2 dense layers with 32 neurons each and relu activation\n",
    "  - 200 epochs \n",
    "  - adam with learn-rate 0.01\n",
    "- **Trial 7:** 2 hidden layers: 92,914% validation accuracy\n",
    "  - 2 dense layers with 32 neurons each and relu activation\n",
    "  - 200 epochs \n",
    "  - adam with learn-rate 0.001\n",
    "- **Trial 8:** 2 hidden layers: 89,621% validation accuracy\n",
    "  - 2 dense layers with 32 neurons each and relu activation\n",
    "  - 1 dropout layer after first dense layer (0.5)\n",
    "  - 200 epochs \n",
    "  - adam with learn-rate 0.001\n",
    "- **Trial 9:** 2 hidden layers: 92,465% validation accuracy\n",
    "  - 2 dense layers with 64 and 32 neurons and relu activation\n",
    "  - 1 dropout layer after first dense layer (0.5)\n",
    "  - 200 epochs \n",
    "  - adam with learn-rate 0.001\n",
    "- **Trial 10:** 2 hidden layers: 94,261% validation accuracy\n",
    "  - 2 dense layers with 128 and 64 neurons and relu activation\n",
    "  - 1 dropout layer after first dense layer (0.5)\n",
    "  - 200 epochs \n",
    "  - adam with learn-rate 0.001\n",
    "\n",
    "**Discussion of the results:**\n",
    "Using the relu activation function and dropout layers improved the accuracy of the model substantially. Increasing the number of hidden layers to 6 did improve the accuracy, but not as much as expected. For such deep networks a higher number of epochs and more neurons in the hidden layers are needed. The best results were obtained with 6 hidden layers with 512, 256 and 128 neurons and a learning rate of 0.01. The best accuracy was 95,11%."
   ]
  },
  {
   "cell_type": "code",
   "execution_count": 79,
   "metadata": {
    "executionInfo": {
     "elapsed": 448,
     "status": "ok",
     "timestamp": 1725870499439,
     "user": {
      "displayName": "Ulrich Bodenhofer",
      "userId": "07009582510819085803"
     },
     "user_tz": -120
    },
    "id": "fKUvP0aeEj5_"
   },
   "outputs": [],
   "source": [
    "model = tf.keras.models.Sequential([\n",
    "    tf.keras.layers.Input(shape=(dig_train['data'].shape[1], )),\n",
    "    tf.keras.layers.Dense(128, activation='relu'),\n",
    "    tf.keras.layers.Dropout(0.5),\n",
    "    tf.keras.layers.Dense(64, activation='relu'),\n",
    "    tf.keras.layers.Dense(10, activation='softmax')\n",
    "])\n",
    "\n",
    "optim = tf.keras.optimizers.Adam(learning_rate=0.001)\n",
    "model.compile(optimizer=optim,\n",
    "              loss='sparse_categorical_crossentropy',\n",
    "              metrics=['accuracy'])"
   ]
  },
  {
   "cell_type": "code",
   "execution_count": 80,
   "metadata": {
    "colab": {
     "base_uri": "https://localhost:8080/",
     "height": 289
    },
    "executionInfo": {
     "elapsed": 495,
     "status": "ok",
     "timestamp": 1725870502410,
     "user": {
      "displayName": "Ulrich Bodenhofer",
      "userId": "07009582510819085803"
     },
     "user_tz": -120
    },
    "id": "UD4xxLeJ8x1P",
    "outputId": "3a12e967-93b8-488e-decf-acd37fa176ca"
   },
   "outputs": [
    {
     "data": {
      "text/html": [
       "<pre style=\"white-space:pre;overflow-x:auto;line-height:normal;font-family:Menlo,'DejaVu Sans Mono',consolas,'Courier New',monospace\"><span style=\"font-weight: bold\">Model: \"sequential_13\"</span>\n",
       "</pre>\n"
      ],
      "text/plain": [
       "\u001b[1mModel: \"sequential_13\"\u001b[0m\n"
      ]
     },
     "metadata": {},
     "output_type": "display_data"
    },
    {
     "data": {
      "text/html": [
       "<pre style=\"white-space:pre;overflow-x:auto;line-height:normal;font-family:Menlo,'DejaVu Sans Mono',consolas,'Courier New',monospace\">┏━━━━━━━━━━━━━━━━━━━━━━━━━━━━━━━━━┳━━━━━━━━━━━━━━━━━━━━━━━━┳━━━━━━━━━━━━━━━┓\n",
       "┃<span style=\"font-weight: bold\"> Layer (type)                    </span>┃<span style=\"font-weight: bold\"> Output Shape           </span>┃<span style=\"font-weight: bold\">       Param # </span>┃\n",
       "┡━━━━━━━━━━━━━━━━━━━━━━━━━━━━━━━━━╇━━━━━━━━━━━━━━━━━━━━━━━━╇━━━━━━━━━━━━━━━┩\n",
       "│ dense_42 (<span style=\"color: #0087ff; text-decoration-color: #0087ff\">Dense</span>)                │ (<span style=\"color: #00d7ff; text-decoration-color: #00d7ff\">None</span>, <span style=\"color: #00af00; text-decoration-color: #00af00\">128</span>)            │         <span style=\"color: #00af00; text-decoration-color: #00af00\">3,200</span> │\n",
       "├─────────────────────────────────┼────────────────────────┼───────────────┤\n",
       "│ dropout_20 (<span style=\"color: #0087ff; text-decoration-color: #0087ff\">Dropout</span>)            │ (<span style=\"color: #00d7ff; text-decoration-color: #00d7ff\">None</span>, <span style=\"color: #00af00; text-decoration-color: #00af00\">128</span>)            │             <span style=\"color: #00af00; text-decoration-color: #00af00\">0</span> │\n",
       "├─────────────────────────────────┼────────────────────────┼───────────────┤\n",
       "│ dense_43 (<span style=\"color: #0087ff; text-decoration-color: #0087ff\">Dense</span>)                │ (<span style=\"color: #00d7ff; text-decoration-color: #00d7ff\">None</span>, <span style=\"color: #00af00; text-decoration-color: #00af00\">64</span>)             │         <span style=\"color: #00af00; text-decoration-color: #00af00\">8,256</span> │\n",
       "├─────────────────────────────────┼────────────────────────┼───────────────┤\n",
       "│ dense_44 (<span style=\"color: #0087ff; text-decoration-color: #0087ff\">Dense</span>)                │ (<span style=\"color: #00d7ff; text-decoration-color: #00d7ff\">None</span>, <span style=\"color: #00af00; text-decoration-color: #00af00\">10</span>)             │           <span style=\"color: #00af00; text-decoration-color: #00af00\">650</span> │\n",
       "└─────────────────────────────────┴────────────────────────┴───────────────┘\n",
       "</pre>\n"
      ],
      "text/plain": [
       "┏━━━━━━━━━━━━━━━━━━━━━━━━━━━━━━━━━┳━━━━━━━━━━━━━━━━━━━━━━━━┳━━━━━━━━━━━━━━━┓\n",
       "┃\u001b[1m \u001b[0m\u001b[1mLayer (type)                   \u001b[0m\u001b[1m \u001b[0m┃\u001b[1m \u001b[0m\u001b[1mOutput Shape          \u001b[0m\u001b[1m \u001b[0m┃\u001b[1m \u001b[0m\u001b[1m      Param #\u001b[0m\u001b[1m \u001b[0m┃\n",
       "┡━━━━━━━━━━━━━━━━━━━━━━━━━━━━━━━━━╇━━━━━━━━━━━━━━━━━━━━━━━━╇━━━━━━━━━━━━━━━┩\n",
       "│ dense_42 (\u001b[38;5;33mDense\u001b[0m)                │ (\u001b[38;5;45mNone\u001b[0m, \u001b[38;5;34m128\u001b[0m)            │         \u001b[38;5;34m3,200\u001b[0m │\n",
       "├─────────────────────────────────┼────────────────────────┼───────────────┤\n",
       "│ dropout_20 (\u001b[38;5;33mDropout\u001b[0m)            │ (\u001b[38;5;45mNone\u001b[0m, \u001b[38;5;34m128\u001b[0m)            │             \u001b[38;5;34m0\u001b[0m │\n",
       "├─────────────────────────────────┼────────────────────────┼───────────────┤\n",
       "│ dense_43 (\u001b[38;5;33mDense\u001b[0m)                │ (\u001b[38;5;45mNone\u001b[0m, \u001b[38;5;34m64\u001b[0m)             │         \u001b[38;5;34m8,256\u001b[0m │\n",
       "├─────────────────────────────────┼────────────────────────┼───────────────┤\n",
       "│ dense_44 (\u001b[38;5;33mDense\u001b[0m)                │ (\u001b[38;5;45mNone\u001b[0m, \u001b[38;5;34m10\u001b[0m)             │           \u001b[38;5;34m650\u001b[0m │\n",
       "└─────────────────────────────────┴────────────────────────┴───────────────┘\n"
      ]
     },
     "metadata": {},
     "output_type": "display_data"
    },
    {
     "data": {
      "text/html": [
       "<pre style=\"white-space:pre;overflow-x:auto;line-height:normal;font-family:Menlo,'DejaVu Sans Mono',consolas,'Courier New',monospace\"><span style=\"font-weight: bold\"> Total params: </span><span style=\"color: #00af00; text-decoration-color: #00af00\">12,106</span> (47.29 KB)\n",
       "</pre>\n"
      ],
      "text/plain": [
       "\u001b[1m Total params: \u001b[0m\u001b[38;5;34m12,106\u001b[0m (47.29 KB)\n"
      ]
     },
     "metadata": {},
     "output_type": "display_data"
    },
    {
     "data": {
      "text/html": [
       "<pre style=\"white-space:pre;overflow-x:auto;line-height:normal;font-family:Menlo,'DejaVu Sans Mono',consolas,'Courier New',monospace\"><span style=\"font-weight: bold\"> Trainable params: </span><span style=\"color: #00af00; text-decoration-color: #00af00\">12,106</span> (47.29 KB)\n",
       "</pre>\n"
      ],
      "text/plain": [
       "\u001b[1m Trainable params: \u001b[0m\u001b[38;5;34m12,106\u001b[0m (47.29 KB)\n"
      ]
     },
     "metadata": {},
     "output_type": "display_data"
    },
    {
     "data": {
      "text/html": [
       "<pre style=\"white-space:pre;overflow-x:auto;line-height:normal;font-family:Menlo,'DejaVu Sans Mono',consolas,'Courier New',monospace\"><span style=\"font-weight: bold\"> Non-trainable params: </span><span style=\"color: #00af00; text-decoration-color: #00af00\">0</span> (0.00 B)\n",
       "</pre>\n"
      ],
      "text/plain": [
       "\u001b[1m Non-trainable params: \u001b[0m\u001b[38;5;34m0\u001b[0m (0.00 B)\n"
      ]
     },
     "metadata": {},
     "output_type": "display_data"
    }
   ],
   "source": [
    "model.summary()"
   ]
  },
  {
   "cell_type": "code",
   "execution_count": 81,
   "metadata": {
    "colab": {
     "base_uri": "https://localhost:8080/"
    },
    "executionInfo": {
     "elapsed": 74773,
     "status": "ok",
     "timestamp": 1725870586534,
     "user": {
      "displayName": "Ulrich Bodenhofer",
      "userId": "07009582510819085803"
     },
     "user_tz": -120
    },
    "id": "77gs7VgTEj5_",
    "outputId": "d3ea6d77-9f88-45ee-c2d0-a47bc80db3a0"
   },
   "outputs": [
    {
     "name": "stdout",
     "output_type": "stream",
     "text": [
      "Epoch 1/200\n",
      "150/150 - 1s - 9ms/step - accuracy: 0.3187 - loss: 2.0213 - val_accuracy: 0.6917 - val_loss: 1.3517\n",
      "Epoch 2/200\n",
      "150/150 - 0s - 1ms/step - accuracy: 0.6379 - loss: 1.2315 - val_accuracy: 0.8083 - val_loss: 0.7942\n",
      "Epoch 3/200\n",
      "150/150 - 0s - 1ms/step - accuracy: 0.7100 - loss: 0.9415 - val_accuracy: 0.8117 - val_loss: 0.6728\n",
      "Epoch 4/200\n",
      "150/150 - 0s - 1ms/step - accuracy: 0.7508 - loss: 0.8032 - val_accuracy: 0.8467 - val_loss: 0.5393\n",
      "Epoch 5/200\n",
      "150/150 - 0s - 1ms/step - accuracy: 0.7825 - loss: 0.7170 - val_accuracy: 0.8633 - val_loss: 0.4857\n",
      "Epoch 6/200\n",
      "150/150 - 0s - 1ms/step - accuracy: 0.7971 - loss: 0.6530 - val_accuracy: 0.8517 - val_loss: 0.4929\n",
      "Epoch 7/200\n",
      "150/150 - 0s - 1ms/step - accuracy: 0.7992 - loss: 0.6310 - val_accuracy: 0.8800 - val_loss: 0.4344\n",
      "Epoch 8/200\n",
      "150/150 - 0s - 1ms/step - accuracy: 0.8254 - loss: 0.5694 - val_accuracy: 0.8800 - val_loss: 0.4174\n",
      "Epoch 9/200\n",
      "150/150 - 0s - 1ms/step - accuracy: 0.8308 - loss: 0.5456 - val_accuracy: 0.8883 - val_loss: 0.3941\n",
      "Epoch 10/200\n",
      "150/150 - 0s - 1ms/step - accuracy: 0.8388 - loss: 0.5047 - val_accuracy: 0.8867 - val_loss: 0.3704\n",
      "Epoch 11/200\n",
      "150/150 - 0s - 1ms/step - accuracy: 0.8471 - loss: 0.4902 - val_accuracy: 0.8850 - val_loss: 0.3647\n",
      "Epoch 12/200\n",
      "150/150 - 0s - 1ms/step - accuracy: 0.8521 - loss: 0.4652 - val_accuracy: 0.9050 - val_loss: 0.3317\n",
      "Epoch 13/200\n",
      "150/150 - 0s - 2ms/step - accuracy: 0.8546 - loss: 0.4699 - val_accuracy: 0.9017 - val_loss: 0.3451\n",
      "Epoch 14/200\n",
      "150/150 - 0s - 1ms/step - accuracy: 0.8629 - loss: 0.4522 - val_accuracy: 0.9083 - val_loss: 0.3303\n",
      "Epoch 15/200\n",
      "150/150 - 0s - 1ms/step - accuracy: 0.8629 - loss: 0.4276 - val_accuracy: 0.9083 - val_loss: 0.3238\n",
      "Epoch 16/200\n",
      "150/150 - 0s - 1ms/step - accuracy: 0.8617 - loss: 0.4296 - val_accuracy: 0.9050 - val_loss: 0.3248\n",
      "Epoch 17/200\n",
      "150/150 - 0s - 1ms/step - accuracy: 0.8662 - loss: 0.4134 - val_accuracy: 0.9150 - val_loss: 0.3090\n",
      "Epoch 18/200\n",
      "150/150 - 0s - 1ms/step - accuracy: 0.8817 - loss: 0.3835 - val_accuracy: 0.9217 - val_loss: 0.2953\n",
      "Epoch 19/200\n",
      "150/150 - 0s - 1ms/step - accuracy: 0.8800 - loss: 0.3709 - val_accuracy: 0.9117 - val_loss: 0.3060\n",
      "Epoch 20/200\n",
      "150/150 - 0s - 1ms/step - accuracy: 0.8854 - loss: 0.3640 - val_accuracy: 0.9167 - val_loss: 0.2793\n",
      "Epoch 21/200\n",
      "150/150 - 0s - 1ms/step - accuracy: 0.8783 - loss: 0.3757 - val_accuracy: 0.9183 - val_loss: 0.2901\n",
      "Epoch 22/200\n",
      "150/150 - 0s - 1ms/step - accuracy: 0.8879 - loss: 0.3529 - val_accuracy: 0.9183 - val_loss: 0.2744\n",
      "Epoch 23/200\n",
      "150/150 - 0s - 1ms/step - accuracy: 0.8804 - loss: 0.3608 - val_accuracy: 0.9283 - val_loss: 0.2761\n",
      "Epoch 24/200\n",
      "150/150 - 0s - 1ms/step - accuracy: 0.8871 - loss: 0.3392 - val_accuracy: 0.9133 - val_loss: 0.2822\n",
      "Epoch 25/200\n",
      "150/150 - 0s - 1ms/step - accuracy: 0.8913 - loss: 0.3308 - val_accuracy: 0.9317 - val_loss: 0.2686\n",
      "Epoch 26/200\n",
      "150/150 - 0s - 1ms/step - accuracy: 0.8958 - loss: 0.3315 - val_accuracy: 0.9217 - val_loss: 0.2623\n",
      "Epoch 27/200\n",
      "150/150 - 0s - 1ms/step - accuracy: 0.8938 - loss: 0.3306 - val_accuracy: 0.9283 - val_loss: 0.2470\n",
      "Epoch 28/200\n",
      "150/150 - 0s - 1ms/step - accuracy: 0.9042 - loss: 0.3099 - val_accuracy: 0.9267 - val_loss: 0.2500\n",
      "Epoch 29/200\n",
      "150/150 - 0s - 1ms/step - accuracy: 0.9025 - loss: 0.3028 - val_accuracy: 0.9300 - val_loss: 0.2495\n",
      "Epoch 30/200\n",
      "150/150 - 0s - 1ms/step - accuracy: 0.9025 - loss: 0.2947 - val_accuracy: 0.9317 - val_loss: 0.2535\n",
      "Epoch 31/200\n",
      "150/150 - 0s - 1ms/step - accuracy: 0.9087 - loss: 0.2861 - val_accuracy: 0.9300 - val_loss: 0.2496\n",
      "Epoch 32/200\n",
      "150/150 - 0s - 1ms/step - accuracy: 0.9087 - loss: 0.2858 - val_accuracy: 0.9283 - val_loss: 0.2543\n",
      "Epoch 33/200\n",
      "150/150 - 0s - 1ms/step - accuracy: 0.9033 - loss: 0.2859 - val_accuracy: 0.9350 - val_loss: 0.2352\n",
      "Epoch 34/200\n",
      "150/150 - 0s - 1ms/step - accuracy: 0.8992 - loss: 0.2936 - val_accuracy: 0.9267 - val_loss: 0.2516\n",
      "Epoch 35/200\n",
      "150/150 - 0s - 1ms/step - accuracy: 0.9087 - loss: 0.2808 - val_accuracy: 0.9350 - val_loss: 0.2375\n",
      "Epoch 36/200\n",
      "150/150 - 0s - 1ms/step - accuracy: 0.9117 - loss: 0.2842 - val_accuracy: 0.9317 - val_loss: 0.2401\n",
      "Epoch 37/200\n",
      "150/150 - 0s - 1ms/step - accuracy: 0.9183 - loss: 0.2657 - val_accuracy: 0.9283 - val_loss: 0.2378\n",
      "Epoch 38/200\n",
      "150/150 - 0s - 1ms/step - accuracy: 0.9125 - loss: 0.2750 - val_accuracy: 0.9333 - val_loss: 0.2267\n",
      "Epoch 39/200\n",
      "150/150 - 0s - 1ms/step - accuracy: 0.9162 - loss: 0.2588 - val_accuracy: 0.9317 - val_loss: 0.2271\n",
      "Epoch 40/200\n",
      "150/150 - 0s - 1ms/step - accuracy: 0.9179 - loss: 0.2553 - val_accuracy: 0.9300 - val_loss: 0.2371\n",
      "Epoch 41/200\n",
      "150/150 - 0s - 1ms/step - accuracy: 0.9121 - loss: 0.2780 - val_accuracy: 0.9383 - val_loss: 0.2297\n",
      "Epoch 42/200\n",
      "150/150 - 0s - 1ms/step - accuracy: 0.9150 - loss: 0.2593 - val_accuracy: 0.9350 - val_loss: 0.2230\n",
      "Epoch 43/200\n",
      "150/150 - 0s - 1ms/step - accuracy: 0.9083 - loss: 0.2662 - val_accuracy: 0.9317 - val_loss: 0.2368\n",
      "Epoch 44/200\n",
      "150/150 - 0s - 1ms/step - accuracy: 0.9208 - loss: 0.2500 - val_accuracy: 0.9333 - val_loss: 0.2393\n",
      "Epoch 45/200\n",
      "150/150 - 0s - 1ms/step - accuracy: 0.9108 - loss: 0.2487 - val_accuracy: 0.9400 - val_loss: 0.2237\n",
      "Epoch 46/200\n",
      "150/150 - 0s - 1ms/step - accuracy: 0.9183 - loss: 0.2379 - val_accuracy: 0.9333 - val_loss: 0.2167\n",
      "Epoch 47/200\n",
      "150/150 - 0s - 1ms/step - accuracy: 0.9208 - loss: 0.2455 - val_accuracy: 0.9333 - val_loss: 0.2264\n",
      "Epoch 48/200\n",
      "150/150 - 0s - 1ms/step - accuracy: 0.9183 - loss: 0.2448 - val_accuracy: 0.9417 - val_loss: 0.2179\n",
      "Epoch 49/200\n",
      "150/150 - 0s - 2ms/step - accuracy: 0.9296 - loss: 0.2225 - val_accuracy: 0.9350 - val_loss: 0.2293\n",
      "Epoch 50/200\n",
      "150/150 - 0s - 1ms/step - accuracy: 0.9300 - loss: 0.2208 - val_accuracy: 0.9350 - val_loss: 0.2204\n",
      "Epoch 51/200\n",
      "150/150 - 0s - 1ms/step - accuracy: 0.9250 - loss: 0.2321 - val_accuracy: 0.9400 - val_loss: 0.2251\n",
      "Epoch 52/200\n",
      "150/150 - 0s - 2ms/step - accuracy: 0.9254 - loss: 0.2168 - val_accuracy: 0.9367 - val_loss: 0.2315\n",
      "Epoch 53/200\n",
      "150/150 - 0s - 1ms/step - accuracy: 0.9254 - loss: 0.2342 - val_accuracy: 0.9450 - val_loss: 0.2336\n",
      "Epoch 54/200\n",
      "150/150 - 0s - 1ms/step - accuracy: 0.9237 - loss: 0.2248 - val_accuracy: 0.9367 - val_loss: 0.2274\n",
      "Epoch 55/200\n",
      "150/150 - 0s - 3ms/step - accuracy: 0.9242 - loss: 0.2197 - val_accuracy: 0.9417 - val_loss: 0.2117\n",
      "Epoch 56/200\n",
      "150/150 - 0s - 1ms/step - accuracy: 0.9275 - loss: 0.2366 - val_accuracy: 0.9400 - val_loss: 0.2151\n",
      "Epoch 57/200\n",
      "150/150 - 0s - 1ms/step - accuracy: 0.9287 - loss: 0.2223 - val_accuracy: 0.9350 - val_loss: 0.2212\n",
      "Epoch 58/200\n",
      "150/150 - 0s - 1ms/step - accuracy: 0.9237 - loss: 0.2130 - val_accuracy: 0.9417 - val_loss: 0.2183\n",
      "Epoch 59/200\n",
      "150/150 - 0s - 1ms/step - accuracy: 0.9258 - loss: 0.2162 - val_accuracy: 0.9417 - val_loss: 0.2173\n",
      "Epoch 60/200\n",
      "150/150 - 0s - 1ms/step - accuracy: 0.9317 - loss: 0.2150 - val_accuracy: 0.9417 - val_loss: 0.2220\n",
      "Epoch 61/200\n",
      "150/150 - 0s - 1ms/step - accuracy: 0.9287 - loss: 0.2240 - val_accuracy: 0.9383 - val_loss: 0.2230\n",
      "Epoch 62/200\n",
      "150/150 - 0s - 1ms/step - accuracy: 0.9371 - loss: 0.1991 - val_accuracy: 0.9517 - val_loss: 0.2114\n",
      "Epoch 63/200\n",
      "150/150 - 0s - 1ms/step - accuracy: 0.9246 - loss: 0.2147 - val_accuracy: 0.9367 - val_loss: 0.2260\n",
      "Epoch 64/200\n",
      "150/150 - 0s - 1ms/step - accuracy: 0.9296 - loss: 0.2113 - val_accuracy: 0.9367 - val_loss: 0.2195\n",
      "Epoch 65/200\n",
      "150/150 - 0s - 1ms/step - accuracy: 0.9321 - loss: 0.1905 - val_accuracy: 0.9367 - val_loss: 0.2196\n",
      "Epoch 66/200\n",
      "150/150 - 0s - 3ms/step - accuracy: 0.9392 - loss: 0.1874 - val_accuracy: 0.9400 - val_loss: 0.2209\n",
      "Epoch 67/200\n",
      "150/150 - 0s - 1ms/step - accuracy: 0.9254 - loss: 0.2194 - val_accuracy: 0.9417 - val_loss: 0.2095\n",
      "Epoch 68/200\n",
      "150/150 - 0s - 1ms/step - accuracy: 0.9342 - loss: 0.1914 - val_accuracy: 0.9433 - val_loss: 0.2146\n",
      "Epoch 69/200\n",
      "150/150 - 0s - 1ms/step - accuracy: 0.9379 - loss: 0.1872 - val_accuracy: 0.9400 - val_loss: 0.2212\n",
      "Epoch 70/200\n",
      "150/150 - 0s - 1ms/step - accuracy: 0.9296 - loss: 0.1957 - val_accuracy: 0.9417 - val_loss: 0.2169\n",
      "Epoch 71/200\n",
      "150/150 - 0s - 1ms/step - accuracy: 0.9325 - loss: 0.1951 - val_accuracy: 0.9400 - val_loss: 0.2249\n",
      "Epoch 72/200\n",
      "150/150 - 0s - 1ms/step - accuracy: 0.9358 - loss: 0.1896 - val_accuracy: 0.9467 - val_loss: 0.2130\n",
      "Epoch 73/200\n",
      "150/150 - 0s - 1ms/step - accuracy: 0.9321 - loss: 0.1946 - val_accuracy: 0.9517 - val_loss: 0.2004\n",
      "Epoch 74/200\n",
      "150/150 - 0s - 1ms/step - accuracy: 0.9325 - loss: 0.2010 - val_accuracy: 0.9450 - val_loss: 0.2279\n",
      "Epoch 75/200\n",
      "150/150 - 0s - 1ms/step - accuracy: 0.9337 - loss: 0.1912 - val_accuracy: 0.9417 - val_loss: 0.2321\n",
      "Epoch 76/200\n",
      "150/150 - 0s - 1ms/step - accuracy: 0.9413 - loss: 0.1755 - val_accuracy: 0.9367 - val_loss: 0.2257\n",
      "Epoch 77/200\n",
      "150/150 - 0s - 1ms/step - accuracy: 0.9392 - loss: 0.1702 - val_accuracy: 0.9383 - val_loss: 0.2195\n",
      "Epoch 78/200\n",
      "150/150 - 0s - 1ms/step - accuracy: 0.9375 - loss: 0.1898 - val_accuracy: 0.9483 - val_loss: 0.2197\n",
      "Epoch 79/200\n",
      "150/150 - 0s - 2ms/step - accuracy: 0.9404 - loss: 0.1675 - val_accuracy: 0.9333 - val_loss: 0.2402\n",
      "Epoch 80/200\n",
      "150/150 - 0s - 1ms/step - accuracy: 0.9417 - loss: 0.1818 - val_accuracy: 0.9417 - val_loss: 0.2272\n",
      "Epoch 81/200\n",
      "150/150 - 0s - 1ms/step - accuracy: 0.9388 - loss: 0.1767 - val_accuracy: 0.9467 - val_loss: 0.2219\n",
      "Epoch 82/200\n",
      "150/150 - 0s - 1ms/step - accuracy: 0.9262 - loss: 0.1907 - val_accuracy: 0.9450 - val_loss: 0.1925\n",
      "Epoch 83/200\n",
      "150/150 - 0s - 1ms/step - accuracy: 0.9417 - loss: 0.1595 - val_accuracy: 0.9417 - val_loss: 0.2289\n",
      "Epoch 84/200\n",
      "150/150 - 0s - 1ms/step - accuracy: 0.9396 - loss: 0.1663 - val_accuracy: 0.9517 - val_loss: 0.2090\n",
      "Epoch 85/200\n",
      "150/150 - 0s - 1ms/step - accuracy: 0.9383 - loss: 0.1697 - val_accuracy: 0.9483 - val_loss: 0.2168\n",
      "Epoch 86/200\n",
      "150/150 - 0s - 1ms/step - accuracy: 0.9433 - loss: 0.1549 - val_accuracy: 0.9450 - val_loss: 0.2179\n",
      "Epoch 87/200\n",
      "150/150 - 0s - 1ms/step - accuracy: 0.9467 - loss: 0.1690 - val_accuracy: 0.9467 - val_loss: 0.2196\n",
      "Epoch 88/200\n",
      "150/150 - 0s - 1ms/step - accuracy: 0.9354 - loss: 0.1732 - val_accuracy: 0.9500 - val_loss: 0.2049\n",
      "Epoch 89/200\n",
      "150/150 - 0s - 1ms/step - accuracy: 0.9496 - loss: 0.1464 - val_accuracy: 0.9533 - val_loss: 0.1925\n",
      "Epoch 90/200\n",
      "150/150 - 0s - 1ms/step - accuracy: 0.9417 - loss: 0.1640 - val_accuracy: 0.9467 - val_loss: 0.2061\n",
      "Epoch 91/200\n",
      "150/150 - 0s - 1ms/step - accuracy: 0.9292 - loss: 0.1883 - val_accuracy: 0.9483 - val_loss: 0.2180\n",
      "Epoch 92/200\n",
      "150/150 - 0s - 1ms/step - accuracy: 0.9396 - loss: 0.1683 - val_accuracy: 0.9483 - val_loss: 0.2167\n",
      "Epoch 93/200\n",
      "150/150 - 0s - 1ms/step - accuracy: 0.9408 - loss: 0.1582 - val_accuracy: 0.9467 - val_loss: 0.2070\n",
      "Epoch 94/200\n",
      "150/150 - 0s - 1ms/step - accuracy: 0.9458 - loss: 0.1538 - val_accuracy: 0.9483 - val_loss: 0.2085\n",
      "Epoch 95/200\n",
      "150/150 - 0s - 1ms/step - accuracy: 0.9471 - loss: 0.1550 - val_accuracy: 0.9417 - val_loss: 0.2094\n",
      "Epoch 96/200\n",
      "150/150 - 0s - 1ms/step - accuracy: 0.9425 - loss: 0.1515 - val_accuracy: 0.9450 - val_loss: 0.2215\n",
      "Epoch 97/200\n",
      "150/150 - 0s - 1ms/step - accuracy: 0.9454 - loss: 0.1515 - val_accuracy: 0.9500 - val_loss: 0.2060\n",
      "Epoch 98/200\n",
      "150/150 - 0s - 1ms/step - accuracy: 0.9396 - loss: 0.1642 - val_accuracy: 0.9517 - val_loss: 0.2086\n",
      "Epoch 99/200\n",
      "150/150 - 0s - 1ms/step - accuracy: 0.9446 - loss: 0.1626 - val_accuracy: 0.9400 - val_loss: 0.2282\n",
      "Epoch 100/200\n",
      "150/150 - 0s - 1ms/step - accuracy: 0.9400 - loss: 0.1665 - val_accuracy: 0.9467 - val_loss: 0.2215\n",
      "Epoch 101/200\n",
      "150/150 - 0s - 1ms/step - accuracy: 0.9483 - loss: 0.1588 - val_accuracy: 0.9517 - val_loss: 0.2136\n",
      "Epoch 102/200\n",
      "150/150 - 0s - 1ms/step - accuracy: 0.9408 - loss: 0.1646 - val_accuracy: 0.9483 - val_loss: 0.1975\n",
      "Epoch 103/200\n",
      "150/150 - 0s - 1ms/step - accuracy: 0.9504 - loss: 0.1420 - val_accuracy: 0.9500 - val_loss: 0.2175\n",
      "Epoch 104/200\n",
      "150/150 - 0s - 1ms/step - accuracy: 0.9467 - loss: 0.1586 - val_accuracy: 0.9550 - val_loss: 0.2074\n",
      "Epoch 105/200\n",
      "150/150 - 0s - 1ms/step - accuracy: 0.9488 - loss: 0.1505 - val_accuracy: 0.9517 - val_loss: 0.2015\n",
      "Epoch 106/200\n",
      "150/150 - 0s - 1ms/step - accuracy: 0.9458 - loss: 0.1485 - val_accuracy: 0.9517 - val_loss: 0.2301\n",
      "Epoch 107/200\n",
      "150/150 - 0s - 1ms/step - accuracy: 0.9508 - loss: 0.1501 - val_accuracy: 0.9500 - val_loss: 0.2185\n",
      "Epoch 108/200\n",
      "150/150 - 0s - 1ms/step - accuracy: 0.9517 - loss: 0.1352 - val_accuracy: 0.9517 - val_loss: 0.2124\n",
      "Epoch 109/200\n",
      "150/150 - 0s - 1ms/step - accuracy: 0.9513 - loss: 0.1435 - val_accuracy: 0.9583 - val_loss: 0.1935\n",
      "Epoch 110/200\n",
      "150/150 - 0s - 1ms/step - accuracy: 0.9483 - loss: 0.1403 - val_accuracy: 0.9567 - val_loss: 0.2182\n",
      "Epoch 111/200\n",
      "150/150 - 0s - 1ms/step - accuracy: 0.9500 - loss: 0.1442 - val_accuracy: 0.9517 - val_loss: 0.2179\n",
      "Epoch 112/200\n",
      "150/150 - 0s - 1ms/step - accuracy: 0.9554 - loss: 0.1336 - val_accuracy: 0.9483 - val_loss: 0.2202\n",
      "Epoch 113/200\n",
      "150/150 - 0s - 1ms/step - accuracy: 0.9488 - loss: 0.1512 - val_accuracy: 0.9500 - val_loss: 0.2086\n",
      "Epoch 114/200\n",
      "150/150 - 0s - 1ms/step - accuracy: 0.9533 - loss: 0.1390 - val_accuracy: 0.9500 - val_loss: 0.2158\n",
      "Epoch 115/200\n",
      "150/150 - 0s - 1ms/step - accuracy: 0.9517 - loss: 0.1432 - val_accuracy: 0.9500 - val_loss: 0.2094\n",
      "Epoch 116/200\n",
      "150/150 - 0s - 1ms/step - accuracy: 0.9450 - loss: 0.1460 - val_accuracy: 0.9433 - val_loss: 0.2203\n",
      "Epoch 117/200\n",
      "150/150 - 0s - 1ms/step - accuracy: 0.9538 - loss: 0.1359 - val_accuracy: 0.9500 - val_loss: 0.2382\n",
      "Epoch 118/200\n",
      "150/150 - 0s - 1ms/step - accuracy: 0.9525 - loss: 0.1366 - val_accuracy: 0.9533 - val_loss: 0.2150\n",
      "Epoch 119/200\n",
      "150/150 - 0s - 1ms/step - accuracy: 0.9496 - loss: 0.1403 - val_accuracy: 0.9517 - val_loss: 0.2227\n",
      "Epoch 120/200\n",
      "150/150 - 0s - 1ms/step - accuracy: 0.9550 - loss: 0.1388 - val_accuracy: 0.9433 - val_loss: 0.2273\n",
      "Epoch 121/200\n",
      "150/150 - 0s - 1ms/step - accuracy: 0.9513 - loss: 0.1360 - val_accuracy: 0.9567 - val_loss: 0.2120\n",
      "Epoch 122/200\n",
      "150/150 - 0s - 1ms/step - accuracy: 0.9517 - loss: 0.1386 - val_accuracy: 0.9467 - val_loss: 0.2237\n",
      "Epoch 123/200\n",
      "150/150 - 0s - 1ms/step - accuracy: 0.9533 - loss: 0.1302 - val_accuracy: 0.9600 - val_loss: 0.2088\n",
      "Epoch 124/200\n",
      "150/150 - 0s - 1ms/step - accuracy: 0.9558 - loss: 0.1366 - val_accuracy: 0.9600 - val_loss: 0.2283\n",
      "Epoch 125/200\n",
      "150/150 - 0s - 1ms/step - accuracy: 0.9563 - loss: 0.1258 - val_accuracy: 0.9533 - val_loss: 0.2245\n",
      "Epoch 126/200\n",
      "150/150 - 0s - 1ms/step - accuracy: 0.9521 - loss: 0.1325 - val_accuracy: 0.9567 - val_loss: 0.2252\n",
      "Epoch 127/200\n",
      "150/150 - 0s - 1ms/step - accuracy: 0.9600 - loss: 0.1160 - val_accuracy: 0.9500 - val_loss: 0.2237\n",
      "Epoch 128/200\n",
      "150/150 - 0s - 1ms/step - accuracy: 0.9496 - loss: 0.1368 - val_accuracy: 0.9483 - val_loss: 0.2210\n",
      "Epoch 129/200\n",
      "150/150 - 0s - 1ms/step - accuracy: 0.9508 - loss: 0.1357 - val_accuracy: 0.9533 - val_loss: 0.2176\n",
      "Epoch 130/200\n",
      "150/150 - 0s - 1ms/step - accuracy: 0.9521 - loss: 0.1272 - val_accuracy: 0.9517 - val_loss: 0.2121\n",
      "Epoch 131/200\n",
      "150/150 - 0s - 1ms/step - accuracy: 0.9496 - loss: 0.1476 - val_accuracy: 0.9567 - val_loss: 0.2002\n",
      "Epoch 132/200\n",
      "150/150 - 0s - 1ms/step - accuracy: 0.9596 - loss: 0.1264 - val_accuracy: 0.9550 - val_loss: 0.2059\n",
      "Epoch 133/200\n",
      "150/150 - 0s - 1ms/step - accuracy: 0.9608 - loss: 0.1217 - val_accuracy: 0.9517 - val_loss: 0.2215\n",
      "Epoch 134/200\n",
      "150/150 - 0s - 1ms/step - accuracy: 0.9625 - loss: 0.1173 - val_accuracy: 0.9567 - val_loss: 0.2220\n",
      "Epoch 135/200\n",
      "150/150 - 0s - 1ms/step - accuracy: 0.9546 - loss: 0.1267 - val_accuracy: 0.9550 - val_loss: 0.2414\n",
      "Epoch 136/200\n",
      "150/150 - 0s - 1ms/step - accuracy: 0.9563 - loss: 0.1194 - val_accuracy: 0.9517 - val_loss: 0.2455\n",
      "Epoch 137/200\n",
      "150/150 - 0s - 1ms/step - accuracy: 0.9600 - loss: 0.1143 - val_accuracy: 0.9567 - val_loss: 0.2198\n",
      "Epoch 138/200\n",
      "150/150 - 0s - 1ms/step - accuracy: 0.9546 - loss: 0.1256 - val_accuracy: 0.9483 - val_loss: 0.2369\n",
      "Epoch 139/200\n",
      "150/150 - 0s - 1ms/step - accuracy: 0.9500 - loss: 0.1277 - val_accuracy: 0.9567 - val_loss: 0.2290\n",
      "Epoch 140/200\n",
      "150/150 - 0s - 1ms/step - accuracy: 0.9596 - loss: 0.1242 - val_accuracy: 0.9550 - val_loss: 0.2121\n",
      "Epoch 141/200\n",
      "150/150 - 0s - 1ms/step - accuracy: 0.9592 - loss: 0.1216 - val_accuracy: 0.9533 - val_loss: 0.2113\n",
      "Epoch 142/200\n",
      "150/150 - 0s - 1ms/step - accuracy: 0.9579 - loss: 0.1224 - val_accuracy: 0.9533 - val_loss: 0.2213\n",
      "Epoch 143/200\n",
      "150/150 - 0s - 1ms/step - accuracy: 0.9613 - loss: 0.1133 - val_accuracy: 0.9550 - val_loss: 0.2189\n",
      "Epoch 144/200\n",
      "150/150 - 0s - 1ms/step - accuracy: 0.9608 - loss: 0.1191 - val_accuracy: 0.9467 - val_loss: 0.2356\n",
      "Epoch 145/200\n",
      "150/150 - 0s - 1ms/step - accuracy: 0.9588 - loss: 0.1199 - val_accuracy: 0.9550 - val_loss: 0.2264\n",
      "Epoch 146/200\n",
      "150/150 - 0s - 1ms/step - accuracy: 0.9600 - loss: 0.1126 - val_accuracy: 0.9583 - val_loss: 0.2259\n",
      "Epoch 147/200\n",
      "150/150 - 0s - 1ms/step - accuracy: 0.9558 - loss: 0.1254 - val_accuracy: 0.9500 - val_loss: 0.2274\n",
      "Epoch 148/200\n",
      "150/150 - 0s - 1ms/step - accuracy: 0.9496 - loss: 0.1360 - val_accuracy: 0.9483 - val_loss: 0.2345\n",
      "Epoch 149/200\n",
      "150/150 - 0s - 1ms/step - accuracy: 0.9575 - loss: 0.1219 - val_accuracy: 0.9533 - val_loss: 0.2440\n",
      "Epoch 150/200\n",
      "150/150 - 0s - 1ms/step - accuracy: 0.9533 - loss: 0.1227 - val_accuracy: 0.9550 - val_loss: 0.2358\n",
      "Epoch 151/200\n",
      "150/150 - 0s - 1ms/step - accuracy: 0.9596 - loss: 0.1341 - val_accuracy: 0.9533 - val_loss: 0.2248\n",
      "Epoch 152/200\n",
      "150/150 - 0s - 1ms/step - accuracy: 0.9579 - loss: 0.1185 - val_accuracy: 0.9533 - val_loss: 0.2248\n",
      "Epoch 153/200\n",
      "150/150 - 0s - 1ms/step - accuracy: 0.9575 - loss: 0.1159 - val_accuracy: 0.9517 - val_loss: 0.2478\n",
      "Epoch 154/200\n",
      "150/150 - 0s - 1ms/step - accuracy: 0.9563 - loss: 0.1197 - val_accuracy: 0.9550 - val_loss: 0.2425\n",
      "Epoch 155/200\n",
      "150/150 - 0s - 1ms/step - accuracy: 0.9646 - loss: 0.1074 - val_accuracy: 0.9500 - val_loss: 0.2382\n",
      "Epoch 156/200\n",
      "150/150 - 0s - 1ms/step - accuracy: 0.9575 - loss: 0.1155 - val_accuracy: 0.9567 - val_loss: 0.2205\n",
      "Epoch 157/200\n",
      "150/150 - 0s - 1ms/step - accuracy: 0.9579 - loss: 0.1061 - val_accuracy: 0.9600 - val_loss: 0.2324\n",
      "Epoch 158/200\n",
      "150/150 - 0s - 1ms/step - accuracy: 0.9542 - loss: 0.1225 - val_accuracy: 0.9550 - val_loss: 0.2094\n",
      "Epoch 159/200\n",
      "150/150 - 0s - 1ms/step - accuracy: 0.9608 - loss: 0.1064 - val_accuracy: 0.9600 - val_loss: 0.2275\n",
      "Epoch 160/200\n",
      "150/150 - 0s - 1ms/step - accuracy: 0.9583 - loss: 0.1042 - val_accuracy: 0.9583 - val_loss: 0.2221\n",
      "Epoch 161/200\n",
      "150/150 - 0s - 1ms/step - accuracy: 0.9633 - loss: 0.1044 - val_accuracy: 0.9583 - val_loss: 0.2335\n",
      "Epoch 162/200\n",
      "150/150 - 0s - 1ms/step - accuracy: 0.9629 - loss: 0.1068 - val_accuracy: 0.9550 - val_loss: 0.2182\n",
      "Epoch 163/200\n",
      "150/150 - 0s - 1ms/step - accuracy: 0.9633 - loss: 0.1062 - val_accuracy: 0.9550 - val_loss: 0.2332\n",
      "Epoch 164/200\n",
      "150/150 - 0s - 1ms/step - accuracy: 0.9567 - loss: 0.1224 - val_accuracy: 0.9533 - val_loss: 0.2323\n",
      "Epoch 165/200\n",
      "150/150 - 0s - 1ms/step - accuracy: 0.9608 - loss: 0.1076 - val_accuracy: 0.9500 - val_loss: 0.2178\n",
      "Epoch 166/200\n",
      "150/150 - 0s - 1ms/step - accuracy: 0.9592 - loss: 0.1121 - val_accuracy: 0.9517 - val_loss: 0.2114\n",
      "Epoch 167/200\n",
      "150/150 - 0s - 1ms/step - accuracy: 0.9629 - loss: 0.1043 - val_accuracy: 0.9567 - val_loss: 0.2279\n",
      "Epoch 168/200\n",
      "150/150 - 0s - 1ms/step - accuracy: 0.9554 - loss: 0.1183 - val_accuracy: 0.9567 - val_loss: 0.2233\n",
      "Epoch 169/200\n",
      "150/150 - 0s - 1ms/step - accuracy: 0.9654 - loss: 0.1022 - val_accuracy: 0.9500 - val_loss: 0.2449\n",
      "Epoch 170/200\n",
      "150/150 - 0s - 1ms/step - accuracy: 0.9708 - loss: 0.0935 - val_accuracy: 0.9617 - val_loss: 0.2153\n",
      "Epoch 171/200\n",
      "150/150 - 0s - 1ms/step - accuracy: 0.9571 - loss: 0.1189 - val_accuracy: 0.9567 - val_loss: 0.2482\n",
      "Epoch 172/200\n",
      "150/150 - 0s - 1ms/step - accuracy: 0.9642 - loss: 0.1076 - val_accuracy: 0.9483 - val_loss: 0.2480\n",
      "Epoch 173/200\n",
      "150/150 - 0s - 1ms/step - accuracy: 0.9642 - loss: 0.0953 - val_accuracy: 0.9600 - val_loss: 0.2332\n",
      "Epoch 174/200\n",
      "150/150 - 0s - 1ms/step - accuracy: 0.9629 - loss: 0.1052 - val_accuracy: 0.9467 - val_loss: 0.2438\n",
      "Epoch 175/200\n",
      "150/150 - 0s - 1ms/step - accuracy: 0.9625 - loss: 0.1077 - val_accuracy: 0.9583 - val_loss: 0.2155\n",
      "Epoch 176/200\n",
      "150/150 - 0s - 1ms/step - accuracy: 0.9617 - loss: 0.0987 - val_accuracy: 0.9483 - val_loss: 0.2455\n",
      "Epoch 177/200\n",
      "150/150 - 0s - 1ms/step - accuracy: 0.9638 - loss: 0.0985 - val_accuracy: 0.9550 - val_loss: 0.2425\n",
      "Epoch 178/200\n",
      "150/150 - 0s - 1ms/step - accuracy: 0.9613 - loss: 0.0978 - val_accuracy: 0.9567 - val_loss: 0.2303\n",
      "Epoch 179/200\n",
      "150/150 - 0s - 1ms/step - accuracy: 0.9529 - loss: 0.1209 - val_accuracy: 0.9567 - val_loss: 0.2355\n",
      "Epoch 180/200\n",
      "150/150 - 0s - 1ms/step - accuracy: 0.9588 - loss: 0.1053 - val_accuracy: 0.9567 - val_loss: 0.2526\n",
      "Epoch 181/200\n",
      "150/150 - 0s - 1ms/step - accuracy: 0.9567 - loss: 0.1269 - val_accuracy: 0.9583 - val_loss: 0.2237\n",
      "Epoch 182/200\n",
      "150/150 - 0s - 1ms/step - accuracy: 0.9608 - loss: 0.1114 - val_accuracy: 0.9567 - val_loss: 0.2257\n",
      "Epoch 183/200\n",
      "150/150 - 0s - 1ms/step - accuracy: 0.9629 - loss: 0.1076 - val_accuracy: 0.9483 - val_loss: 0.2309\n",
      "Epoch 184/200\n",
      "150/150 - 0s - 1ms/step - accuracy: 0.9675 - loss: 0.0916 - val_accuracy: 0.9583 - val_loss: 0.2185\n",
      "Epoch 185/200\n",
      "150/150 - 0s - 1ms/step - accuracy: 0.9642 - loss: 0.1027 - val_accuracy: 0.9567 - val_loss: 0.2511\n",
      "Epoch 186/200\n",
      "150/150 - 0s - 1ms/step - accuracy: 0.9588 - loss: 0.1091 - val_accuracy: 0.9617 - val_loss: 0.2324\n",
      "Epoch 187/200\n",
      "150/150 - 0s - 2ms/step - accuracy: 0.9650 - loss: 0.0942 - val_accuracy: 0.9583 - val_loss: 0.2240\n",
      "Epoch 188/200\n",
      "150/150 - 0s - 1ms/step - accuracy: 0.9646 - loss: 0.1050 - val_accuracy: 0.9533 - val_loss: 0.2276\n",
      "Epoch 189/200\n",
      "150/150 - 0s - 1ms/step - accuracy: 0.9617 - loss: 0.1006 - val_accuracy: 0.9533 - val_loss: 0.2166\n",
      "Epoch 190/200\n",
      "150/150 - 0s - 1ms/step - accuracy: 0.9642 - loss: 0.1024 - val_accuracy: 0.9583 - val_loss: 0.2486\n",
      "Epoch 191/200\n",
      "150/150 - 0s - 1ms/step - accuracy: 0.9658 - loss: 0.0908 - val_accuracy: 0.9600 - val_loss: 0.2604\n",
      "Epoch 192/200\n",
      "150/150 - 0s - 1ms/step - accuracy: 0.9608 - loss: 0.1040 - val_accuracy: 0.9600 - val_loss: 0.2339\n",
      "Epoch 193/200\n",
      "150/150 - 0s - 1ms/step - accuracy: 0.9642 - loss: 0.0983 - val_accuracy: 0.9567 - val_loss: 0.2332\n",
      "Epoch 194/200\n",
      "150/150 - 0s - 1ms/step - accuracy: 0.9650 - loss: 0.0946 - val_accuracy: 0.9600 - val_loss: 0.2391\n",
      "Epoch 195/200\n",
      "150/150 - 0s - 1ms/step - accuracy: 0.9663 - loss: 0.0910 - val_accuracy: 0.9600 - val_loss: 0.2265\n",
      "Epoch 196/200\n",
      "150/150 - 0s - 1ms/step - accuracy: 0.9575 - loss: 0.1181 - val_accuracy: 0.9567 - val_loss: 0.2300\n",
      "Epoch 197/200\n",
      "150/150 - 0s - 1ms/step - accuracy: 0.9592 - loss: 0.1063 - val_accuracy: 0.9667 - val_loss: 0.2261\n",
      "Epoch 198/200\n",
      "150/150 - 0s - 1ms/step - accuracy: 0.9704 - loss: 0.0966 - val_accuracy: 0.9600 - val_loss: 0.2327\n",
      "Epoch 199/200\n",
      "150/150 - 0s - 1ms/step - accuracy: 0.9613 - loss: 0.1040 - val_accuracy: 0.9533 - val_loss: 0.2579\n",
      "Epoch 200/200\n",
      "150/150 - 0s - 1ms/step - accuracy: 0.9621 - loss: 0.1023 - val_accuracy: 0.9600 - val_loss: 0.2348\n"
     ]
    }
   ],
   "source": [
    "history = model.fit(x=dig_train['data'], y=dig_train['target'], epochs=200, batch_size=16, validation_split=0.2, verbose=2)"
   ]
  },
  {
   "cell_type": "code",
   "execution_count": 82,
   "metadata": {
    "colab": {
     "base_uri": "https://localhost:8080/",
     "height": 1000
    },
    "executionInfo": {
     "elapsed": 1461,
     "status": "ok",
     "timestamp": 1725870594493,
     "user": {
      "displayName": "Ulrich Bodenhofer",
      "userId": "07009582510819085803"
     },
     "user_tz": -120
    },
    "id": "hgw1eQqiEj5_",
    "outputId": "1de6f701-dd2b-4579-f3df-f210ecd56036"
   },
   "outputs": [
    {
     "data": {
      "image/png": "[encoded data removed]",
      "text/plain": [
       "<Figure size 800x600 with 1 Axes>"
      ]
     },
     "metadata": {},
     "output_type": "display_data"
    },
    {
     "data": {
      "image/png": "[encoded data removed]",
      "text/plain": [
       "<Figure size 800x600 with 1 Axes>"
      ]
     },
     "metadata": {},
     "output_type": "display_data"
    }
   ],
   "source": [
    "plot_history(history)"
   ]
  },
  {
   "cell_type": "code",
   "execution_count": 85,
   "metadata": {
    "colab": {
     "base_uri": "https://localhost:8080/"
    },
    "executionInfo": {
     "elapsed": 1871,
     "status": "ok",
     "timestamp": 1725870613307,
     "user": {
      "displayName": "Ulrich Bodenhofer",
      "userId": "07009582510819085803"
     },
     "user_tz": -120
    },
    "id": "Hf_c0G0OEj5_",
    "outputId": "a1e90a1a-4bbd-4a25-c952-f3054820e099"
   },
   "outputs": [
    {
     "name": "stdout",
     "output_type": "stream",
     "text": [
      "\u001b[1m63/63\u001b[0m \u001b[32m━━━━━━━━━━━━━━━━━━━━\u001b[0m\u001b[37m\u001b[0m \u001b[1m0s\u001b[0m 951us/step \n",
      "Confusion matrix (rows -> true, columns -> predicted):\n",
      "\n",
      "     0    1    2    3    4    5    6    7    8    9\n",
      "0  207    2    0    0    2    0    0    0    0    1\n",
      "1    0  193    1    0    1    0    0    4    2    2\n",
      "2    0    1  183    0    0    0    1    0    0    1\n",
      "3    2    1    1  184    1    4    0    4    1    4\n",
      "4    0    2    0    0  202    0    1    1    1    1\n",
      "5    0    2    0    1    1  179    4    0    1    2\n",
      "6    2    3    0    0    2    3  193    0    1    0\n",
      "7    0    0    2    3    0    0    0  191    0    6\n",
      "8    3    7    0    4    4    3    1    1  169    1\n",
      "9    3    1    1    1    3    5    0    1    1  188\n",
      "\n",
      "\n",
      "Class 0:\n",
      "    Sensitivity (TPR):  97.642% (207 of 212)\n",
      "    Specificity (TNR):  99.442% (1782 of 1792)\n",
      "    Precision:          95.392% (207 of 217)\n",
      "    Neg. pred. value:   99.720% (1782 of 1787)\n",
      "Class 1:\n",
      "    Sensitivity (TPR):  95.074% (193 of 203)\n",
      "    Specificity (TNR):  98.945% (1782 of 1801)\n",
      "    Precision:          91.038% (193 of 212)\n",
      "    Neg. pred. value:   99.442% (1782 of 1792)\n",
      "Class 2:\n",
      "    Sensitivity (TPR):  98.387% (183 of 186)\n",
      "    Specificity (TNR):  99.725% (1813 of 1818)\n",
      "    Precision:          97.340% (183 of 188)\n",
      "    Neg. pred. value:   99.835% (1813 of 1816)\n",
      "Class 3:\n",
      "    Sensitivity (TPR):  91.089% (184 of 202)\n",
      "    Specificity (TNR):  99.501% (1793 of 1802)\n",
      "    Precision:          95.337% (184 of 193)\n",
      "    Neg. pred. value:   99.006% (1793 of 1811)\n",
      "Class 4:\n",
      "    Sensitivity (TPR):  97.115% (202 of 208)\n",
      "    Specificity (TNR):  99.220% (1782 of 1796)\n",
      "    Precision:          93.519% (202 of 216)\n",
      "    Neg. pred. value:   99.664% (1782 of 1788)\n",
      "Class 5:\n",
      "    Sensitivity (TPR):  94.211% (179 of 190)\n",
      "    Specificity (TNR):  99.173% (1799 of 1814)\n",
      "    Precision:          92.268% (179 of 194)\n",
      "    Neg. pred. value:   99.392% (1799 of 1810)\n",
      "Class 6:\n",
      "    Sensitivity (TPR):  94.608% (193 of 204)\n",
      "    Specificity (TNR):  99.611% (1793 of 1800)\n",
      "    Precision:          96.500% (193 of 200)\n",
      "    Neg. pred. value:   99.390% (1793 of 1804)\n",
      "Class 7:\n",
      "    Sensitivity (TPR):  94.554% (191 of 202)\n",
      "    Specificity (TNR):  99.390% (1791 of 1802)\n",
      "    Precision:          94.554% (191 of 202)\n",
      "    Neg. pred. value:   99.390% (1791 of 1802)\n",
      "Class 8:\n",
      "    Sensitivity (TPR):  87.565% (169 of 193)\n",
      "    Specificity (TNR):  99.613% (1804 of 1811)\n",
      "    Precision:          96.023% (169 of 176)\n",
      "    Neg. pred. value:   98.687% (1804 of 1828)\n",
      "Class 9:\n",
      "    Sensitivity (TPR):  92.157% (188 of 204)\n",
      "    Specificity (TNR):  99.000% (1782 of 1800)\n",
      "    Precision:          91.262% (188 of 206)\n",
      "    Neg. pred. value:   99.110% (1782 of 1798)\n",
      "\n",
      "Overall accuracy:   94.261% (1889 of 2004)\n",
      "Balanced accuracy:  94.240%\n"
     ]
    }
   ],
   "source": [
    "pred = model.predict(dig_test['data'])\n",
    "\n",
    "evaluate_classification_result(dig_test['target'], pred, classes=dig_test['target_names'])"
   ]
  },
  {
   "cell_type": "code",
   "execution_count": 1,
   "metadata": {
    "colab": {
     "base_uri": "https://localhost:8080/"
    },
    "executionInfo": {
     "elapsed": 5693,
     "status": "ok",
     "timestamp": 1725870693497,
     "user": {
      "displayName": "Ulrich Bodenhofer",
      "userId": "07009582510819085803"
     },
     "user_tz": -120
    },
    "id": "OecIKpf99Qy2",
    "outputId": "cb40fb86-840a-4953-f1c4-7e6f66d2d3d8"
   },
   "outputs": [
    {
     "name": "stderr",
     "output_type": "stream",
     "text": [
      "[NbConvertApp] Converting notebook Ex2_Grimm.ipynb to html\n",
      "[NbConvertApp] WARNING | Alternative text is missing on 13 image(s).\n",
      "[NbConvertApp] Writing 1069604 bytes to Ex2_Grimm.html\n"
     ]
    }
   ],
   "source": [
    "!jupyter nbconvert --to html Ex2_Grimm.ipynb"
   ]
  }
 ],
 "metadata": {
  "accelerator": "GPU",
  "colab": {
   "provenance": []
  },
  "gpuClass": "standard",
  "kernelspec": {
   "display_name": "NDLeIL",
   "language": "python",
   "name": "python3"
  },
  "language_info": {
   "codemirror_mode": {
    "name": "ipython",
    "version": 3
   },
   "file_extension": ".py",
   "mimetype": "text/x-python",
   "name": "python",
   "nbconvert_exporter": "python",
   "pygments_lexer": "ipython3",
   "version": "3.12.7"
  }
 },
 "nbformat": 4,
 "nbformat_minor": 0
}
